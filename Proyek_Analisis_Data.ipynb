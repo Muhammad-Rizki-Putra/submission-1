{
  "cells": [
    {
      "cell_type": "markdown",
      "metadata": {
        "id": "H9wADwK78DCz"
      },
      "source": [
        "# Proyek Analisis Data: [E-commerce-public-dataset]\n",
        "- **Nama:** Muhammad Rizki Putra\n",
        "- **Email:** rizkiputra2626@gmail.com\n",
        "- **ID Dicoding:** rizki-putra"
      ]
    },
    {
      "cell_type": "markdown",
      "metadata": {
        "id": "eE0raob58DC0"
      },
      "source": [
        "## Menentukan Pertanyaan Bisnis"
      ]
    },
    {
      "cell_type": "markdown",
      "metadata": {
        "id": "GmQeQ5YF8DC0"
      },
      "source": [
        "- 5 Kota mana saja yang memiliki pelanggan terbanyak di 2 kuartal terakhir tahun 2017?\n",
        "- 5 Kota mana saja yang memiliki pengiriman terlambat & tercepat di 2 kuartal terakhir tahun 2017?\n",
        "- Distribusi geografis pengiriman di Brasil berdasarkan kota pada 2 kuartal terakhir tahun 2017?"
      ]
    },
    {
      "cell_type": "markdown",
      "metadata": {
        "id": "H-z4QGlO8DC1"
      },
      "source": [
        "## Import Semua Packages/Library yang Digunakan"
      ]
    },
    {
      "cell_type": "code",
      "execution_count": 4,
      "metadata": {
        "id": "FVYwaObI8DC1"
      },
      "outputs": [],
      "source": [
        "import numpy as np #Untuk operasi matermatis\n",
        "import pandas as pd #Untuk kebutuhan data wrangling\n",
        "import matplotlib.pyplot as plt #Untuk visualisasi data"
      ]
    },
    {
      "cell_type": "markdown",
      "metadata": {
        "id": "h_Sh51Xy8DC1"
      },
      "source": [
        "## Data Wrangling"
      ]
    },
    {
      "cell_type": "markdown",
      "metadata": {
        "id": "sXU2GBYu8DC1"
      },
      "source": [
        "### Gathering Data"
      ]
    },
    {
      "cell_type": "code",
      "execution_count": 5,
      "metadata": {
        "colab": {
          "base_uri": "https://localhost:8080/",
          "height": 223
        },
        "id": "zjCBk1BI8DC1",
        "outputId": "307b3223-2bae-4873-ecdd-1b4fff9292f3"
      },
      "outputs": [
        {
          "data": {
            "application/vnd.microsoft.datawrangler.viewer.v0+json": {
              "columns": [
                {
                  "name": "index",
                  "rawType": "int64",
                  "type": "integer"
                },
                {
                  "name": "customer_id",
                  "rawType": "object",
                  "type": "string"
                },
                {
                  "name": "customer_unique_id",
                  "rawType": "object",
                  "type": "string"
                },
                {
                  "name": "customer_zip_code_prefix",
                  "rawType": "int64",
                  "type": "integer"
                },
                {
                  "name": "customer_city",
                  "rawType": "object",
                  "type": "string"
                },
                {
                  "name": "customer_state",
                  "rawType": "object",
                  "type": "string"
                }
              ],
              "conversionMethod": "pd.DataFrame",
              "ref": "20218a4c-56ae-4d48-9f8a-c8018a144147",
              "rows": [
                [
                  "0",
                  "06b8999e2fba1a1fbc88172c00ba8bc7",
                  "861eff4711a542e4b93843c6dd7febb0",
                  "14409",
                  "franca",
                  "SP"
                ],
                [
                  "1",
                  "18955e83d337fd6b2def6b18a428ac77",
                  "290c77bc529b7ac935b93aa66c333dc3",
                  "9790",
                  "sao bernardo do campo",
                  "SP"
                ],
                [
                  "2",
                  "4e7b3e00288586ebd08712fdd0374a03",
                  "060e732b5b29e8181a18229c7b0b2b5e",
                  "1151",
                  "sao paulo",
                  "SP"
                ],
                [
                  "3",
                  "b2b6027bc5c5109e529d4dc6358b12c3",
                  "259dac757896d24d7702b9acbbff3f3c",
                  "8775",
                  "mogi das cruzes",
                  "SP"
                ],
                [
                  "4",
                  "4f2d8ab171c80ec8364f7c12e35b23ad",
                  "345ecd01c38d18a9036ed96c73b8d066",
                  "13056",
                  "campinas",
                  "SP"
                ]
              ],
              "shape": {
                "columns": 5,
                "rows": 5
              }
            },
            "text/html": [
              "<div>\n",
              "<style scoped>\n",
              "    .dataframe tbody tr th:only-of-type {\n",
              "        vertical-align: middle;\n",
              "    }\n",
              "\n",
              "    .dataframe tbody tr th {\n",
              "        vertical-align: top;\n",
              "    }\n",
              "\n",
              "    .dataframe thead th {\n",
              "        text-align: right;\n",
              "    }\n",
              "</style>\n",
              "<table border=\"1\" class=\"dataframe\">\n",
              "  <thead>\n",
              "    <tr style=\"text-align: right;\">\n",
              "      <th></th>\n",
              "      <th>customer_id</th>\n",
              "      <th>customer_unique_id</th>\n",
              "      <th>customer_zip_code_prefix</th>\n",
              "      <th>customer_city</th>\n",
              "      <th>customer_state</th>\n",
              "    </tr>\n",
              "  </thead>\n",
              "  <tbody>\n",
              "    <tr>\n",
              "      <th>0</th>\n",
              "      <td>06b8999e2fba1a1fbc88172c00ba8bc7</td>\n",
              "      <td>861eff4711a542e4b93843c6dd7febb0</td>\n",
              "      <td>14409</td>\n",
              "      <td>franca</td>\n",
              "      <td>SP</td>\n",
              "    </tr>\n",
              "    <tr>\n",
              "      <th>1</th>\n",
              "      <td>18955e83d337fd6b2def6b18a428ac77</td>\n",
              "      <td>290c77bc529b7ac935b93aa66c333dc3</td>\n",
              "      <td>9790</td>\n",
              "      <td>sao bernardo do campo</td>\n",
              "      <td>SP</td>\n",
              "    </tr>\n",
              "    <tr>\n",
              "      <th>2</th>\n",
              "      <td>4e7b3e00288586ebd08712fdd0374a03</td>\n",
              "      <td>060e732b5b29e8181a18229c7b0b2b5e</td>\n",
              "      <td>1151</td>\n",
              "      <td>sao paulo</td>\n",
              "      <td>SP</td>\n",
              "    </tr>\n",
              "    <tr>\n",
              "      <th>3</th>\n",
              "      <td>b2b6027bc5c5109e529d4dc6358b12c3</td>\n",
              "      <td>259dac757896d24d7702b9acbbff3f3c</td>\n",
              "      <td>8775</td>\n",
              "      <td>mogi das cruzes</td>\n",
              "      <td>SP</td>\n",
              "    </tr>\n",
              "    <tr>\n",
              "      <th>4</th>\n",
              "      <td>4f2d8ab171c80ec8364f7c12e35b23ad</td>\n",
              "      <td>345ecd01c38d18a9036ed96c73b8d066</td>\n",
              "      <td>13056</td>\n",
              "      <td>campinas</td>\n",
              "      <td>SP</td>\n",
              "    </tr>\n",
              "  </tbody>\n",
              "</table>\n",
              "</div>"
            ],
            "text/plain": [
              "                        customer_id                customer_unique_id  \\\n",
              "0  06b8999e2fba1a1fbc88172c00ba8bc7  861eff4711a542e4b93843c6dd7febb0   \n",
              "1  18955e83d337fd6b2def6b18a428ac77  290c77bc529b7ac935b93aa66c333dc3   \n",
              "2  4e7b3e00288586ebd08712fdd0374a03  060e732b5b29e8181a18229c7b0b2b5e   \n",
              "3  b2b6027bc5c5109e529d4dc6358b12c3  259dac757896d24d7702b9acbbff3f3c   \n",
              "4  4f2d8ab171c80ec8364f7c12e35b23ad  345ecd01c38d18a9036ed96c73b8d066   \n",
              "\n",
              "   customer_zip_code_prefix          customer_city customer_state  \n",
              "0                     14409                 franca             SP  \n",
              "1                      9790  sao bernardo do campo             SP  \n",
              "2                      1151              sao paulo             SP  \n",
              "3                      8775        mogi das cruzes             SP  \n",
              "4                     13056               campinas             SP  "
            ]
          },
          "execution_count": 5,
          "metadata": {},
          "output_type": "execute_result"
        }
      ],
      "source": [
        "customer_df = pd.read_csv(\"data/customers_dataset.csv\",delimiter=\",\") #Read data dari file csv dataset customer\n",
        "customer_df.head() #Print baris header dari dataset customer beserta dengan beberapa data"
      ]
    },
    {
      "cell_type": "code",
      "execution_count": 6,
      "metadata": {
        "colab": {
          "base_uri": "https://localhost:8080/",
          "height": 226
        },
        "id": "erUcat-7cj-r",
        "outputId": "a8b3f3e4-ae91-43f6-b34e-bf56198e17e7"
      },
      "outputs": [
        {
          "data": {
            "application/vnd.microsoft.datawrangler.viewer.v0+json": {
              "columns": [
                {
                  "name": "index",
                  "rawType": "int64",
                  "type": "integer"
                },
                {
                  "name": "order_id",
                  "rawType": "object",
                  "type": "string"
                },
                {
                  "name": "customer_id",
                  "rawType": "object",
                  "type": "string"
                },
                {
                  "name": "order_status",
                  "rawType": "object",
                  "type": "string"
                },
                {
                  "name": "order_purchase_timestamp",
                  "rawType": "object",
                  "type": "string"
                },
                {
                  "name": "order_approved_at",
                  "rawType": "object",
                  "type": "string"
                },
                {
                  "name": "order_delivered_carrier_date",
                  "rawType": "object",
                  "type": "string"
                },
                {
                  "name": "order_delivered_customer_date",
                  "rawType": "object",
                  "type": "string"
                },
                {
                  "name": "order_estimated_delivery_date",
                  "rawType": "object",
                  "type": "string"
                }
              ],
              "conversionMethod": "pd.DataFrame",
              "ref": "71178780-b120-4bab-9c73-ff3705082a00",
              "rows": [
                [
                  "0",
                  "e481f51cbdc54678b7cc49136f2d6af7",
                  "9ef432eb6251297304e76186b10a928d",
                  "delivered",
                  "2017-10-02 10:56:33",
                  "2017-10-02 11:07:15",
                  "2017-10-04 19:55:00",
                  "2017-10-10 21:25:13",
                  "2017-10-18 00:00:00"
                ],
                [
                  "1",
                  "53cdb2fc8bc7dce0b6741e2150273451",
                  "b0830fb4747a6c6d20dea0b8c802d7ef",
                  "delivered",
                  "2018-07-24 20:41:37",
                  "2018-07-26 03:24:27",
                  "2018-07-26 14:31:00",
                  "2018-08-07 15:27:45",
                  "2018-08-13 00:00:00"
                ],
                [
                  "2",
                  "47770eb9100c2d0c44946d9cf07ec65d",
                  "41ce2a54c0b03bf3443c3d931a367089",
                  "delivered",
                  "2018-08-08 08:38:49",
                  "2018-08-08 08:55:23",
                  "2018-08-08 13:50:00",
                  "2018-08-17 18:06:29",
                  "2018-09-04 00:00:00"
                ],
                [
                  "3",
                  "949d5b44dbf5de918fe9c16f97b45f8a",
                  "f88197465ea7920adcdbec7375364d82",
                  "delivered",
                  "2017-11-18 19:28:06",
                  "2017-11-18 19:45:59",
                  "2017-11-22 13:39:59",
                  "2017-12-02 00:28:42",
                  "2017-12-15 00:00:00"
                ],
                [
                  "4",
                  "ad21c59c0840e6cb83a9ceb5573f8159",
                  "8ab97904e6daea8866dbdbc4fb7aad2c",
                  "delivered",
                  "2018-02-13 21:18:39",
                  "2018-02-13 22:20:29",
                  "2018-02-14 19:46:34",
                  "2018-02-16 18:17:02",
                  "2018-02-26 00:00:00"
                ]
              ],
              "shape": {
                "columns": 8,
                "rows": 5
              }
            },
            "text/html": [
              "<div>\n",
              "<style scoped>\n",
              "    .dataframe tbody tr th:only-of-type {\n",
              "        vertical-align: middle;\n",
              "    }\n",
              "\n",
              "    .dataframe tbody tr th {\n",
              "        vertical-align: top;\n",
              "    }\n",
              "\n",
              "    .dataframe thead th {\n",
              "        text-align: right;\n",
              "    }\n",
              "</style>\n",
              "<table border=\"1\" class=\"dataframe\">\n",
              "  <thead>\n",
              "    <tr style=\"text-align: right;\">\n",
              "      <th></th>\n",
              "      <th>order_id</th>\n",
              "      <th>customer_id</th>\n",
              "      <th>order_status</th>\n",
              "      <th>order_purchase_timestamp</th>\n",
              "      <th>order_approved_at</th>\n",
              "      <th>order_delivered_carrier_date</th>\n",
              "      <th>order_delivered_customer_date</th>\n",
              "      <th>order_estimated_delivery_date</th>\n",
              "    </tr>\n",
              "  </thead>\n",
              "  <tbody>\n",
              "    <tr>\n",
              "      <th>0</th>\n",
              "      <td>e481f51cbdc54678b7cc49136f2d6af7</td>\n",
              "      <td>9ef432eb6251297304e76186b10a928d</td>\n",
              "      <td>delivered</td>\n",
              "      <td>2017-10-02 10:56:33</td>\n",
              "      <td>2017-10-02 11:07:15</td>\n",
              "      <td>2017-10-04 19:55:00</td>\n",
              "      <td>2017-10-10 21:25:13</td>\n",
              "      <td>2017-10-18 00:00:00</td>\n",
              "    </tr>\n",
              "    <tr>\n",
              "      <th>1</th>\n",
              "      <td>53cdb2fc8bc7dce0b6741e2150273451</td>\n",
              "      <td>b0830fb4747a6c6d20dea0b8c802d7ef</td>\n",
              "      <td>delivered</td>\n",
              "      <td>2018-07-24 20:41:37</td>\n",
              "      <td>2018-07-26 03:24:27</td>\n",
              "      <td>2018-07-26 14:31:00</td>\n",
              "      <td>2018-08-07 15:27:45</td>\n",
              "      <td>2018-08-13 00:00:00</td>\n",
              "    </tr>\n",
              "    <tr>\n",
              "      <th>2</th>\n",
              "      <td>47770eb9100c2d0c44946d9cf07ec65d</td>\n",
              "      <td>41ce2a54c0b03bf3443c3d931a367089</td>\n",
              "      <td>delivered</td>\n",
              "      <td>2018-08-08 08:38:49</td>\n",
              "      <td>2018-08-08 08:55:23</td>\n",
              "      <td>2018-08-08 13:50:00</td>\n",
              "      <td>2018-08-17 18:06:29</td>\n",
              "      <td>2018-09-04 00:00:00</td>\n",
              "    </tr>\n",
              "    <tr>\n",
              "      <th>3</th>\n",
              "      <td>949d5b44dbf5de918fe9c16f97b45f8a</td>\n",
              "      <td>f88197465ea7920adcdbec7375364d82</td>\n",
              "      <td>delivered</td>\n",
              "      <td>2017-11-18 19:28:06</td>\n",
              "      <td>2017-11-18 19:45:59</td>\n",
              "      <td>2017-11-22 13:39:59</td>\n",
              "      <td>2017-12-02 00:28:42</td>\n",
              "      <td>2017-12-15 00:00:00</td>\n",
              "    </tr>\n",
              "    <tr>\n",
              "      <th>4</th>\n",
              "      <td>ad21c59c0840e6cb83a9ceb5573f8159</td>\n",
              "      <td>8ab97904e6daea8866dbdbc4fb7aad2c</td>\n",
              "      <td>delivered</td>\n",
              "      <td>2018-02-13 21:18:39</td>\n",
              "      <td>2018-02-13 22:20:29</td>\n",
              "      <td>2018-02-14 19:46:34</td>\n",
              "      <td>2018-02-16 18:17:02</td>\n",
              "      <td>2018-02-26 00:00:00</td>\n",
              "    </tr>\n",
              "  </tbody>\n",
              "</table>\n",
              "</div>"
            ],
            "text/plain": [
              "                           order_id                       customer_id  \\\n",
              "0  e481f51cbdc54678b7cc49136f2d6af7  9ef432eb6251297304e76186b10a928d   \n",
              "1  53cdb2fc8bc7dce0b6741e2150273451  b0830fb4747a6c6d20dea0b8c802d7ef   \n",
              "2  47770eb9100c2d0c44946d9cf07ec65d  41ce2a54c0b03bf3443c3d931a367089   \n",
              "3  949d5b44dbf5de918fe9c16f97b45f8a  f88197465ea7920adcdbec7375364d82   \n",
              "4  ad21c59c0840e6cb83a9ceb5573f8159  8ab97904e6daea8866dbdbc4fb7aad2c   \n",
              "\n",
              "  order_status order_purchase_timestamp    order_approved_at  \\\n",
              "0    delivered      2017-10-02 10:56:33  2017-10-02 11:07:15   \n",
              "1    delivered      2018-07-24 20:41:37  2018-07-26 03:24:27   \n",
              "2    delivered      2018-08-08 08:38:49  2018-08-08 08:55:23   \n",
              "3    delivered      2017-11-18 19:28:06  2017-11-18 19:45:59   \n",
              "4    delivered      2018-02-13 21:18:39  2018-02-13 22:20:29   \n",
              "\n",
              "  order_delivered_carrier_date order_delivered_customer_date  \\\n",
              "0          2017-10-04 19:55:00           2017-10-10 21:25:13   \n",
              "1          2018-07-26 14:31:00           2018-08-07 15:27:45   \n",
              "2          2018-08-08 13:50:00           2018-08-17 18:06:29   \n",
              "3          2017-11-22 13:39:59           2017-12-02 00:28:42   \n",
              "4          2018-02-14 19:46:34           2018-02-16 18:17:02   \n",
              "\n",
              "  order_estimated_delivery_date  \n",
              "0           2017-10-18 00:00:00  \n",
              "1           2018-08-13 00:00:00  \n",
              "2           2018-09-04 00:00:00  \n",
              "3           2017-12-15 00:00:00  \n",
              "4           2018-02-26 00:00:00  "
            ]
          },
          "execution_count": 6,
          "metadata": {},
          "output_type": "execute_result"
        }
      ],
      "source": [
        "orders_df = pd.read_csv(\"data/orders_dataset.csv\",delimiter=\",\") #Read data dari file csv dataset order\n",
        "orders_df.head() #Print baris header dari dataset order beserta dengan beberapa data"
      ]
    },
    {
      "cell_type": "code",
      "execution_count": 7,
      "metadata": {},
      "outputs": [
        {
          "data": {
            "application/vnd.microsoft.datawrangler.viewer.v0+json": {
              "columns": [
                {
                  "name": "index",
                  "rawType": "int64",
                  "type": "integer"
                },
                {
                  "name": "geolocation_zip_code_prefix",
                  "rawType": "int64",
                  "type": "integer"
                },
                {
                  "name": "geolocation_lat",
                  "rawType": "float64",
                  "type": "float"
                },
                {
                  "name": "geolocation_lng",
                  "rawType": "float64",
                  "type": "float"
                },
                {
                  "name": "geolocation_city",
                  "rawType": "object",
                  "type": "string"
                },
                {
                  "name": "geolocation_state",
                  "rawType": "object",
                  "type": "string"
                }
              ],
              "conversionMethod": "pd.DataFrame",
              "ref": "8a86e350-6ceb-4c4d-b612-4b02d7b4402a",
              "rows": [
                [
                  "0",
                  "1037",
                  "-23.54562128115268",
                  "-46.63929204800168",
                  "sao paulo",
                  "SP"
                ],
                [
                  "1",
                  "1046",
                  "-23.54608112703553",
                  "-46.64482029837157",
                  "sao paulo",
                  "SP"
                ],
                [
                  "2",
                  "1046",
                  "-23.54612896641469",
                  "-46.64295148361138",
                  "sao paulo",
                  "SP"
                ],
                [
                  "3",
                  "1041",
                  "-23.5443921648681",
                  "-46.63949930627844",
                  "sao paulo",
                  "SP"
                ],
                [
                  "4",
                  "1035",
                  "-23.541577961711493",
                  "-46.64160722329613",
                  "sao paulo",
                  "SP"
                ]
              ],
              "shape": {
                "columns": 5,
                "rows": 5
              }
            },
            "text/html": [
              "<div>\n",
              "<style scoped>\n",
              "    .dataframe tbody tr th:only-of-type {\n",
              "        vertical-align: middle;\n",
              "    }\n",
              "\n",
              "    .dataframe tbody tr th {\n",
              "        vertical-align: top;\n",
              "    }\n",
              "\n",
              "    .dataframe thead th {\n",
              "        text-align: right;\n",
              "    }\n",
              "</style>\n",
              "<table border=\"1\" class=\"dataframe\">\n",
              "  <thead>\n",
              "    <tr style=\"text-align: right;\">\n",
              "      <th></th>\n",
              "      <th>geolocation_zip_code_prefix</th>\n",
              "      <th>geolocation_lat</th>\n",
              "      <th>geolocation_lng</th>\n",
              "      <th>geolocation_city</th>\n",
              "      <th>geolocation_state</th>\n",
              "    </tr>\n",
              "  </thead>\n",
              "  <tbody>\n",
              "    <tr>\n",
              "      <th>0</th>\n",
              "      <td>1037</td>\n",
              "      <td>-23.545621</td>\n",
              "      <td>-46.639292</td>\n",
              "      <td>sao paulo</td>\n",
              "      <td>SP</td>\n",
              "    </tr>\n",
              "    <tr>\n",
              "      <th>1</th>\n",
              "      <td>1046</td>\n",
              "      <td>-23.546081</td>\n",
              "      <td>-46.644820</td>\n",
              "      <td>sao paulo</td>\n",
              "      <td>SP</td>\n",
              "    </tr>\n",
              "    <tr>\n",
              "      <th>2</th>\n",
              "      <td>1046</td>\n",
              "      <td>-23.546129</td>\n",
              "      <td>-46.642951</td>\n",
              "      <td>sao paulo</td>\n",
              "      <td>SP</td>\n",
              "    </tr>\n",
              "    <tr>\n",
              "      <th>3</th>\n",
              "      <td>1041</td>\n",
              "      <td>-23.544392</td>\n",
              "      <td>-46.639499</td>\n",
              "      <td>sao paulo</td>\n",
              "      <td>SP</td>\n",
              "    </tr>\n",
              "    <tr>\n",
              "      <th>4</th>\n",
              "      <td>1035</td>\n",
              "      <td>-23.541578</td>\n",
              "      <td>-46.641607</td>\n",
              "      <td>sao paulo</td>\n",
              "      <td>SP</td>\n",
              "    </tr>\n",
              "  </tbody>\n",
              "</table>\n",
              "</div>"
            ],
            "text/plain": [
              "   geolocation_zip_code_prefix  geolocation_lat  geolocation_lng  \\\n",
              "0                         1037       -23.545621       -46.639292   \n",
              "1                         1046       -23.546081       -46.644820   \n",
              "2                         1046       -23.546129       -46.642951   \n",
              "3                         1041       -23.544392       -46.639499   \n",
              "4                         1035       -23.541578       -46.641607   \n",
              "\n",
              "  geolocation_city geolocation_state  \n",
              "0        sao paulo                SP  \n",
              "1        sao paulo                SP  \n",
              "2        sao paulo                SP  \n",
              "3        sao paulo                SP  \n",
              "4        sao paulo                SP  "
            ]
          },
          "execution_count": 7,
          "metadata": {},
          "output_type": "execute_result"
        }
      ],
      "source": [
        "geolocation_df = pd.read_csv(\"data/geolocation_dataset.csv\", delimiter=\",\") \n",
        "geolocation_df.head()"
      ]
    },
    {
      "cell_type": "markdown",
      "metadata": {
        "id": "MMi6xGaDkbCi"
      },
      "source": [
        "**Insight:**\n",
        "- Berhasil dibuatkan data frame customer dengan head tabel customer_id, customer_unique_id, customer_zip_code_prefix, customer_city,dan customer_state\n",
        "- Berhasil dibuatkan data frame order dengan head tabel order_id, customer_id, order_status, order_purchase_timestamporder_approved_at, order_delivered_carrier_date, order_delivered_customer_date, dan order_estimated_delivery_date\n",
        "- Berhasil dibuatkan data frame geolocation dengan head tabel, geolocation_zip_code_prefix, geolocation_lat, geolocation_lng, geolocation_city,dan geolocation_state"
      ]
    },
    {
      "cell_type": "markdown",
      "metadata": {
        "id": "FHSiqaZp8DC1"
      },
      "source": [
        "### Assessing Data"
      ]
    },
    {
      "cell_type": "code",
      "execution_count": 8,
      "metadata": {
        "colab": {
          "base_uri": "https://localhost:8080/"
        },
        "id": "ax-3tEjc9Cj1",
        "outputId": "cce7efc5-ee32-4710-b401-f4e5138ac704"
      },
      "outputs": [
        {
          "name": "stdout",
          "output_type": "stream",
          "text": [
            "<class 'pandas.core.frame.DataFrame'>\n",
            "RangeIndex: 99441 entries, 0 to 99440\n",
            "Data columns (total 5 columns):\n",
            " #   Column                    Non-Null Count  Dtype \n",
            "---  ------                    --------------  ----- \n",
            " 0   customer_id               99441 non-null  object\n",
            " 1   customer_unique_id        99441 non-null  object\n",
            " 2   customer_zip_code_prefix  99441 non-null  int64 \n",
            " 3   customer_city             99441 non-null  object\n",
            " 4   customer_state            99441 non-null  object\n",
            "dtypes: int64(1), object(4)\n",
            "memory usage: 3.8+ MB\n"
          ]
        }
      ],
      "source": [
        "customer_df.info() #Mengecek df customer dari segi object type"
      ]
    },
    {
      "cell_type": "code",
      "execution_count": 9,
      "metadata": {
        "colab": {
          "base_uri": "https://localhost:8080/",
          "height": 241
        },
        "id": "zswEFTnNdApV",
        "outputId": "f03be93e-07f1-48af-b7fb-157f1d1fc5fd"
      },
      "outputs": [
        {
          "data": {
            "text/plain": [
              "customer_id                 0\n",
              "customer_unique_id          0\n",
              "customer_zip_code_prefix    0\n",
              "customer_city               0\n",
              "customer_state              0\n",
              "dtype: int64"
            ]
          },
          "execution_count": 9,
          "metadata": {},
          "output_type": "execute_result"
        }
      ],
      "source": [
        "customer_df.isna().sum() #Mengecek df customer dari segi jumlah data yang kosong"
      ]
    },
    {
      "cell_type": "code",
      "execution_count": 10,
      "metadata": {
        "colab": {
          "base_uri": "https://localhost:8080/"
        },
        "id": "bFYhmmLKdEei",
        "outputId": "cc47428b-14b7-4d9d-d96c-e8f3f3e72b7a"
      },
      "outputs": [
        {
          "name": "stdout",
          "output_type": "stream",
          "text": [
            "Jumlah data customer yang ganda : 0\n"
          ]
        }
      ],
      "source": [
        "print(f\"Jumlah data customer yang ganda : {customer_df.duplicated().sum()}\") #Mengecek df customer dari segi data yang terduplikasi"
      ]
    },
    {
      "cell_type": "code",
      "execution_count": 11,
      "metadata": {
        "colab": {
          "base_uri": "https://localhost:8080/",
          "height": 300
        },
        "id": "Byg_Rd1QdRR2",
        "outputId": "d409eb96-e3cc-4b39-a629-8a06d7238c66"
      },
      "outputs": [
        {
          "data": {
            "application/vnd.microsoft.datawrangler.viewer.v0+json": {
              "columns": [
                {
                  "name": "index",
                  "rawType": "object",
                  "type": "string"
                },
                {
                  "name": "customer_zip_code_prefix",
                  "rawType": "float64",
                  "type": "float"
                }
              ],
              "conversionMethod": "pd.DataFrame",
              "ref": "be6f1f7d-c1be-460e-b17f-a2751dfb2f67",
              "rows": [
                [
                  "count",
                  "99441.0"
                ],
                [
                  "mean",
                  "35137.47458291851"
                ],
                [
                  "std",
                  "29797.93899620654"
                ],
                [
                  "min",
                  "1003.0"
                ],
                [
                  "25%",
                  "11347.0"
                ],
                [
                  "50%",
                  "24416.0"
                ],
                [
                  "75%",
                  "58900.0"
                ],
                [
                  "max",
                  "99990.0"
                ]
              ],
              "shape": {
                "columns": 1,
                "rows": 8
              }
            },
            "text/html": [
              "<div>\n",
              "<style scoped>\n",
              "    .dataframe tbody tr th:only-of-type {\n",
              "        vertical-align: middle;\n",
              "    }\n",
              "\n",
              "    .dataframe tbody tr th {\n",
              "        vertical-align: top;\n",
              "    }\n",
              "\n",
              "    .dataframe thead th {\n",
              "        text-align: right;\n",
              "    }\n",
              "</style>\n",
              "<table border=\"1\" class=\"dataframe\">\n",
              "  <thead>\n",
              "    <tr style=\"text-align: right;\">\n",
              "      <th></th>\n",
              "      <th>customer_zip_code_prefix</th>\n",
              "    </tr>\n",
              "  </thead>\n",
              "  <tbody>\n",
              "    <tr>\n",
              "      <th>count</th>\n",
              "      <td>99441.000000</td>\n",
              "    </tr>\n",
              "    <tr>\n",
              "      <th>mean</th>\n",
              "      <td>35137.474583</td>\n",
              "    </tr>\n",
              "    <tr>\n",
              "      <th>std</th>\n",
              "      <td>29797.938996</td>\n",
              "    </tr>\n",
              "    <tr>\n",
              "      <th>min</th>\n",
              "      <td>1003.000000</td>\n",
              "    </tr>\n",
              "    <tr>\n",
              "      <th>25%</th>\n",
              "      <td>11347.000000</td>\n",
              "    </tr>\n",
              "    <tr>\n",
              "      <th>50%</th>\n",
              "      <td>24416.000000</td>\n",
              "    </tr>\n",
              "    <tr>\n",
              "      <th>75%</th>\n",
              "      <td>58900.000000</td>\n",
              "    </tr>\n",
              "    <tr>\n",
              "      <th>max</th>\n",
              "      <td>99990.000000</td>\n",
              "    </tr>\n",
              "  </tbody>\n",
              "</table>\n",
              "</div>"
            ],
            "text/plain": [
              "       customer_zip_code_prefix\n",
              "count              99441.000000\n",
              "mean               35137.474583\n",
              "std                29797.938996\n",
              "min                 1003.000000\n",
              "25%                11347.000000\n",
              "50%                24416.000000\n",
              "75%                58900.000000\n",
              "max                99990.000000"
            ]
          },
          "execution_count": 11,
          "metadata": {},
          "output_type": "execute_result"
        }
      ],
      "source": [
        "customer_df.describe() #Mengecek df customer dari segi keanehan data"
      ]
    },
    {
      "cell_type": "code",
      "execution_count": 12,
      "metadata": {
        "colab": {
          "base_uri": "https://localhost:8080/"
        },
        "id": "wmnvKOAFdtME",
        "outputId": "648abf62-3d86-4f18-9a8e-cebf84ca598a"
      },
      "outputs": [
        {
          "name": "stdout",
          "output_type": "stream",
          "text": [
            "<class 'pandas.core.frame.DataFrame'>\n",
            "RangeIndex: 99441 entries, 0 to 99440\n",
            "Data columns (total 8 columns):\n",
            " #   Column                         Non-Null Count  Dtype \n",
            "---  ------                         --------------  ----- \n",
            " 0   order_id                       99441 non-null  object\n",
            " 1   customer_id                    99441 non-null  object\n",
            " 2   order_status                   99441 non-null  object\n",
            " 3   order_purchase_timestamp       99441 non-null  object\n",
            " 4   order_approved_at              99281 non-null  object\n",
            " 5   order_delivered_carrier_date   97658 non-null  object\n",
            " 6   order_delivered_customer_date  96476 non-null  object\n",
            " 7   order_estimated_delivery_date  99441 non-null  object\n",
            "dtypes: object(8)\n",
            "memory usage: 6.1+ MB\n"
          ]
        }
      ],
      "source": [
        "orders_df.info() #Mengecek df order dari segi object type, ditemukan kolum tanggal berupa objek yang seharusnya date"
      ]
    },
    {
      "cell_type": "code",
      "execution_count": 13,
      "metadata": {
        "colab": {
          "base_uri": "https://localhost:8080/",
          "height": 335
        },
        "id": "k-vkJRz4dzyt",
        "outputId": "a7ca79a9-497e-48d2-ca63-1bf02639ec78"
      },
      "outputs": [
        {
          "data": {
            "text/plain": [
              "order_id                            0\n",
              "customer_id                         0\n",
              "order_status                        0\n",
              "order_purchase_timestamp            0\n",
              "order_approved_at                 160\n",
              "order_delivered_carrier_date     1783\n",
              "order_delivered_customer_date    2965\n",
              "order_estimated_delivery_date       0\n",
              "dtype: int64"
            ]
          },
          "execution_count": 13,
          "metadata": {},
          "output_type": "execute_result"
        }
      ],
      "source": [
        "orders_df.isna().sum() #Mengecek df order dari segi data yang kosong, ditemukan beberapa data yang kosong di 3 kolum"
      ]
    },
    {
      "cell_type": "code",
      "execution_count": 14,
      "metadata": {
        "colab": {
          "base_uri": "https://localhost:8080/"
        },
        "id": "v2D25HOhd84G",
        "outputId": "c00cb26b-0c59-4a15-8c09-57bc45a6fc6b"
      },
      "outputs": [
        {
          "name": "stdout",
          "output_type": "stream",
          "text": [
            "Order yang ganda: 0\n"
          ]
        }
      ],
      "source": [
        "print(f\"Order yang ganda: {orders_df.duplicated().sum()}\") #Mengecek df order dari segi data yang terduplikasi"
      ]
    },
    {
      "cell_type": "code",
      "execution_count": 15,
      "metadata": {
        "colab": {
          "base_uri": "https://localhost:8080/",
          "height": 195
        },
        "id": "On_5jMo5eHl3",
        "outputId": "c48910e2-babb-412e-b6bd-72fd49e3682b"
      },
      "outputs": [
        {
          "data": {
            "application/vnd.microsoft.datawrangler.viewer.v0+json": {
              "columns": [
                {
                  "name": "index",
                  "rawType": "object",
                  "type": "string"
                },
                {
                  "name": "order_id",
                  "rawType": "object",
                  "type": "unknown"
                },
                {
                  "name": "customer_id",
                  "rawType": "object",
                  "type": "unknown"
                },
                {
                  "name": "order_status",
                  "rawType": "object",
                  "type": "unknown"
                },
                {
                  "name": "order_purchase_timestamp",
                  "rawType": "object",
                  "type": "unknown"
                },
                {
                  "name": "order_approved_at",
                  "rawType": "object",
                  "type": "unknown"
                },
                {
                  "name": "order_delivered_carrier_date",
                  "rawType": "object",
                  "type": "unknown"
                },
                {
                  "name": "order_delivered_customer_date",
                  "rawType": "object",
                  "type": "unknown"
                },
                {
                  "name": "order_estimated_delivery_date",
                  "rawType": "object",
                  "type": "unknown"
                }
              ],
              "conversionMethod": "pd.DataFrame",
              "ref": "0a07bd70-d0cd-40c1-a1a5-fdc01d51f415",
              "rows": [
                [
                  "count",
                  "99441",
                  "99441",
                  "99441",
                  "99441",
                  "99281",
                  "97658",
                  "96476",
                  "99441"
                ],
                [
                  "unique",
                  "99441",
                  "99441",
                  "8",
                  "98875",
                  "90733",
                  "81018",
                  "95664",
                  "459"
                ],
                [
                  "top",
                  "e481f51cbdc54678b7cc49136f2d6af7",
                  "9ef432eb6251297304e76186b10a928d",
                  "delivered",
                  "2018-04-11 10:48:14",
                  "2018-02-27 04:31:10",
                  "2018-05-09 15:48:00",
                  "2018-05-08 23:38:46",
                  "2017-12-20 00:00:00"
                ],
                [
                  "freq",
                  "1",
                  "1",
                  "96478",
                  "3",
                  "9",
                  "47",
                  "3",
                  "522"
                ]
              ],
              "shape": {
                "columns": 8,
                "rows": 4
              }
            },
            "text/html": [
              "<div>\n",
              "<style scoped>\n",
              "    .dataframe tbody tr th:only-of-type {\n",
              "        vertical-align: middle;\n",
              "    }\n",
              "\n",
              "    .dataframe tbody tr th {\n",
              "        vertical-align: top;\n",
              "    }\n",
              "\n",
              "    .dataframe thead th {\n",
              "        text-align: right;\n",
              "    }\n",
              "</style>\n",
              "<table border=\"1\" class=\"dataframe\">\n",
              "  <thead>\n",
              "    <tr style=\"text-align: right;\">\n",
              "      <th></th>\n",
              "      <th>order_id</th>\n",
              "      <th>customer_id</th>\n",
              "      <th>order_status</th>\n",
              "      <th>order_purchase_timestamp</th>\n",
              "      <th>order_approved_at</th>\n",
              "      <th>order_delivered_carrier_date</th>\n",
              "      <th>order_delivered_customer_date</th>\n",
              "      <th>order_estimated_delivery_date</th>\n",
              "    </tr>\n",
              "  </thead>\n",
              "  <tbody>\n",
              "    <tr>\n",
              "      <th>count</th>\n",
              "      <td>99441</td>\n",
              "      <td>99441</td>\n",
              "      <td>99441</td>\n",
              "      <td>99441</td>\n",
              "      <td>99281</td>\n",
              "      <td>97658</td>\n",
              "      <td>96476</td>\n",
              "      <td>99441</td>\n",
              "    </tr>\n",
              "    <tr>\n",
              "      <th>unique</th>\n",
              "      <td>99441</td>\n",
              "      <td>99441</td>\n",
              "      <td>8</td>\n",
              "      <td>98875</td>\n",
              "      <td>90733</td>\n",
              "      <td>81018</td>\n",
              "      <td>95664</td>\n",
              "      <td>459</td>\n",
              "    </tr>\n",
              "    <tr>\n",
              "      <th>top</th>\n",
              "      <td>e481f51cbdc54678b7cc49136f2d6af7</td>\n",
              "      <td>9ef432eb6251297304e76186b10a928d</td>\n",
              "      <td>delivered</td>\n",
              "      <td>2018-04-11 10:48:14</td>\n",
              "      <td>2018-02-27 04:31:10</td>\n",
              "      <td>2018-05-09 15:48:00</td>\n",
              "      <td>2018-05-08 23:38:46</td>\n",
              "      <td>2017-12-20 00:00:00</td>\n",
              "    </tr>\n",
              "    <tr>\n",
              "      <th>freq</th>\n",
              "      <td>1</td>\n",
              "      <td>1</td>\n",
              "      <td>96478</td>\n",
              "      <td>3</td>\n",
              "      <td>9</td>\n",
              "      <td>47</td>\n",
              "      <td>3</td>\n",
              "      <td>522</td>\n",
              "    </tr>\n",
              "  </tbody>\n",
              "</table>\n",
              "</div>"
            ],
            "text/plain": [
              "                                order_id                       customer_id  \\\n",
              "count                              99441                             99441   \n",
              "unique                             99441                             99441   \n",
              "top     e481f51cbdc54678b7cc49136f2d6af7  9ef432eb6251297304e76186b10a928d   \n",
              "freq                                   1                                 1   \n",
              "\n",
              "       order_status order_purchase_timestamp    order_approved_at  \\\n",
              "count         99441                    99441                99281   \n",
              "unique            8                    98875                90733   \n",
              "top       delivered      2018-04-11 10:48:14  2018-02-27 04:31:10   \n",
              "freq          96478                        3                    9   \n",
              "\n",
              "       order_delivered_carrier_date order_delivered_customer_date  \\\n",
              "count                         97658                         96476   \n",
              "unique                        81018                         95664   \n",
              "top             2018-05-09 15:48:00           2018-05-08 23:38:46   \n",
              "freq                             47                             3   \n",
              "\n",
              "       order_estimated_delivery_date  \n",
              "count                          99441  \n",
              "unique                           459  \n",
              "top              2017-12-20 00:00:00  \n",
              "freq                             522  "
            ]
          },
          "execution_count": 15,
          "metadata": {},
          "output_type": "execute_result"
        }
      ],
      "source": [
        "orders_df.describe() #Mengecek df order dari segi keanehan data"
      ]
    },
    {
      "cell_type": "code",
      "execution_count": 16,
      "metadata": {},
      "outputs": [
        {
          "name": "stdout",
          "output_type": "stream",
          "text": [
            "<class 'pandas.core.frame.DataFrame'>\n",
            "RangeIndex: 1000163 entries, 0 to 1000162\n",
            "Data columns (total 5 columns):\n",
            " #   Column                       Non-Null Count    Dtype  \n",
            "---  ------                       --------------    -----  \n",
            " 0   geolocation_zip_code_prefix  1000163 non-null  int64  \n",
            " 1   geolocation_lat              1000163 non-null  float64\n",
            " 2   geolocation_lng              1000163 non-null  float64\n",
            " 3   geolocation_city             1000163 non-null  object \n",
            " 4   geolocation_state            1000163 non-null  object \n",
            "dtypes: float64(2), int64(1), object(2)\n",
            "memory usage: 38.2+ MB\n"
          ]
        }
      ],
      "source": [
        "geolocation_df.info() #Melakukan pengecekan keanehan type data pada df geolocation"
      ]
    },
    {
      "cell_type": "code",
      "execution_count": 17,
      "metadata": {},
      "outputs": [
        {
          "data": {
            "text/plain": [
              "geolocation_zip_code_prefix    0\n",
              "geolocation_lat                0\n",
              "geolocation_lng                0\n",
              "geolocation_city               0\n",
              "geolocation_state              0\n",
              "dtype: int64"
            ]
          },
          "execution_count": 17,
          "metadata": {},
          "output_type": "execute_result"
        }
      ],
      "source": [
        "geolocation_df.isna().sum() #pengecekan data hilang pada data frame geo"
      ]
    },
    {
      "cell_type": "code",
      "execution_count": 18,
      "metadata": {},
      "outputs": [
        {
          "name": "stdout",
          "output_type": "stream",
          "text": [
            "Data ganda pada geolocation : 261831\n"
          ]
        }
      ],
      "source": [
        "print(f\"Data ganda pada geolocation : {geolocation_df.duplicated().sum()}\") #Karena merupakan data lokasi yang memiliki banyak data ganda kota maka dapat diabaikan"
      ]
    },
    {
      "cell_type": "code",
      "execution_count": 19,
      "metadata": {},
      "outputs": [
        {
          "data": {
            "application/vnd.microsoft.datawrangler.viewer.v0+json": {
              "columns": [
                {
                  "name": "index",
                  "rawType": "object",
                  "type": "string"
                },
                {
                  "name": "geolocation_zip_code_prefix",
                  "rawType": "float64",
                  "type": "float"
                },
                {
                  "name": "geolocation_lat",
                  "rawType": "float64",
                  "type": "float"
                },
                {
                  "name": "geolocation_lng",
                  "rawType": "float64",
                  "type": "float"
                }
              ],
              "conversionMethod": "pd.DataFrame",
              "ref": "ce14d82f-de44-44ef-97bf-5f765baa7f42",
              "rows": [
                [
                  "count",
                  "1000163.0",
                  "1000163.0",
                  "1000163.0"
                ],
                [
                  "mean",
                  "36574.16646586607",
                  "-21.176152910383966",
                  "-46.39054132093579"
                ],
                [
                  "std",
                  "30549.33571032424",
                  "5.715866308822977",
                  "4.26974830661962"
                ],
                [
                  "min",
                  "1001.0",
                  "-36.6053744107061",
                  "-101.46676644931476"
                ],
                [
                  "25%",
                  "11075.0",
                  "-23.60354554038031",
                  "-48.573172180526896"
                ],
                [
                  "50%",
                  "26530.0",
                  "-22.91937749486411",
                  "-46.63787866960149"
                ],
                [
                  "75%",
                  "63504.0",
                  "-19.97962033957529",
                  "-43.7677088028139"
                ],
                [
                  "max",
                  "99990.0",
                  "45.06593318269697",
                  "121.10539381057764"
                ]
              ],
              "shape": {
                "columns": 3,
                "rows": 8
              }
            },
            "text/html": [
              "<div>\n",
              "<style scoped>\n",
              "    .dataframe tbody tr th:only-of-type {\n",
              "        vertical-align: middle;\n",
              "    }\n",
              "\n",
              "    .dataframe tbody tr th {\n",
              "        vertical-align: top;\n",
              "    }\n",
              "\n",
              "    .dataframe thead th {\n",
              "        text-align: right;\n",
              "    }\n",
              "</style>\n",
              "<table border=\"1\" class=\"dataframe\">\n",
              "  <thead>\n",
              "    <tr style=\"text-align: right;\">\n",
              "      <th></th>\n",
              "      <th>geolocation_zip_code_prefix</th>\n",
              "      <th>geolocation_lat</th>\n",
              "      <th>geolocation_lng</th>\n",
              "    </tr>\n",
              "  </thead>\n",
              "  <tbody>\n",
              "    <tr>\n",
              "      <th>count</th>\n",
              "      <td>1.000163e+06</td>\n",
              "      <td>1.000163e+06</td>\n",
              "      <td>1.000163e+06</td>\n",
              "    </tr>\n",
              "    <tr>\n",
              "      <th>mean</th>\n",
              "      <td>3.657417e+04</td>\n",
              "      <td>-2.117615e+01</td>\n",
              "      <td>-4.639054e+01</td>\n",
              "    </tr>\n",
              "    <tr>\n",
              "      <th>std</th>\n",
              "      <td>3.054934e+04</td>\n",
              "      <td>5.715866e+00</td>\n",
              "      <td>4.269748e+00</td>\n",
              "    </tr>\n",
              "    <tr>\n",
              "      <th>min</th>\n",
              "      <td>1.001000e+03</td>\n",
              "      <td>-3.660537e+01</td>\n",
              "      <td>-1.014668e+02</td>\n",
              "    </tr>\n",
              "    <tr>\n",
              "      <th>25%</th>\n",
              "      <td>1.107500e+04</td>\n",
              "      <td>-2.360355e+01</td>\n",
              "      <td>-4.857317e+01</td>\n",
              "    </tr>\n",
              "    <tr>\n",
              "      <th>50%</th>\n",
              "      <td>2.653000e+04</td>\n",
              "      <td>-2.291938e+01</td>\n",
              "      <td>-4.663788e+01</td>\n",
              "    </tr>\n",
              "    <tr>\n",
              "      <th>75%</th>\n",
              "      <td>6.350400e+04</td>\n",
              "      <td>-1.997962e+01</td>\n",
              "      <td>-4.376771e+01</td>\n",
              "    </tr>\n",
              "    <tr>\n",
              "      <th>max</th>\n",
              "      <td>9.999000e+04</td>\n",
              "      <td>4.506593e+01</td>\n",
              "      <td>1.211054e+02</td>\n",
              "    </tr>\n",
              "  </tbody>\n",
              "</table>\n",
              "</div>"
            ],
            "text/plain": [
              "       geolocation_zip_code_prefix  geolocation_lat  geolocation_lng\n",
              "count                 1.000163e+06     1.000163e+06     1.000163e+06\n",
              "mean                  3.657417e+04    -2.117615e+01    -4.639054e+01\n",
              "std                   3.054934e+04     5.715866e+00     4.269748e+00\n",
              "min                   1.001000e+03    -3.660537e+01    -1.014668e+02\n",
              "25%                   1.107500e+04    -2.360355e+01    -4.857317e+01\n",
              "50%                   2.653000e+04    -2.291938e+01    -4.663788e+01\n",
              "75%                   6.350400e+04    -1.997962e+01    -4.376771e+01\n",
              "max                   9.999000e+04     4.506593e+01     1.211054e+02"
            ]
          },
          "execution_count": 19,
          "metadata": {},
          "output_type": "execute_result"
        }
      ],
      "source": [
        "geolocation_df.describe() #pengecekan data abnormal pada geolocation"
      ]
    },
    {
      "cell_type": "markdown",
      "metadata": {
        "id": "7dtxhAPrkhPL"
      },
      "source": [
        "**Insight:**\n",
        "- Data frame customer tidak ada keanehan data sehingga tidak perlu di berishkan.\n",
        "- Data frame order terdapat beberapa data yang hilang di bagian date. Lalu terdapat beberapa type data yang salah, sehingga data frame order perlu dibersihkan.\n",
        "- Data frame geolocation tidak ada keanehan data sehingga tidak perlu di bersihkan"
      ]
    },
    {
      "cell_type": "markdown",
      "metadata": {
        "id": "EhN5R4hr8DC1"
      },
      "source": [
        "### Cleaning Data"
      ]
    },
    {
      "cell_type": "code",
      "execution_count": 20,
      "metadata": {
        "id": "Msx5YXjgh1F0"
      },
      "outputs": [],
      "source": [
        "orders_df[\"order_approved_at\"] = pd.to_datetime(orders_df[\"order_approved_at\"], errors='coerce') #Mengubah order_approved_at dari type object ke datetime\n",
        "orders_df[\"order_delivered_carrier_date\"] = pd.to_datetime(orders_df[\"order_delivered_carrier_date\"], errors='coerce') #Mengubah order_delivered_carrier_date dari type object ke datetime\n",
        "orders_df[\"order_delivered_customer_date\"] = pd.to_datetime(orders_df[\"order_delivered_customer_date\"], errors='coerce') #Mengubah order_delivered_customer_date dari type object ke datetime\n",
        "orders_df[\"order_estimated_delivery_date\"] = pd.to_datetime(orders_df[\"order_estimated_delivery_date\"], errors='coerce') #Mengubah order_estimated_delivery_date dari type object ke datetime\n",
        "orders_df[\"order_purchase_timestamp\"] = pd.to_datetime(orders_df[\"order_purchase_timestamp\"], errors='coerce') #Mengubah order_purchase_timestamp dari type object ke datetime"
      ]
    },
    {
      "cell_type": "code",
      "execution_count": 21,
      "metadata": {
        "colab": {
          "base_uri": "https://localhost:8080/"
        },
        "id": "jVnYpprE9Evz",
        "outputId": "021536ec-239f-4875-fa60-8a01917b969a"
      },
      "outputs": [],
      "source": [
        "orders_df.order_approved_at.interpolate(method=\"linear\", limit_direction=\"both\", inplace=True)#Melakukan interpolasi menggunakan direksi \"both\" terhadap order_approved_at, order_delivered_carrier_date, dan order_delivered_customer_date untuk mengisi data yang kosong. Alasan menggunakna direksi both karena data yang hilang merupakan didalam dan bukan di ujung dan di akhir\n",
        "orders_df.order_delivered_carrier_date.interpolate(method=\"linear\", limit_direction=\"both\", inplace=True)\n",
        "orders_df.order_delivered_customer_date.interpolate(method=\"linear\", limit_direction=\"both\", inplace=True)"
      ]
    },
    {
      "cell_type": "markdown",
      "metadata": {
        "id": "Q_5ejIqckiSP"
      },
      "source": [
        "**Insight:**\n",
        "- Berhasil mengubah type data pada dataframe order, serta mengisi data yang hilang menggunakan teknik interpolasi dengan direksi both."
      ]
    },
    {
      "cell_type": "markdown",
      "metadata": {
        "id": "gp-Y6wU38DC1"
      },
      "source": [
        "## Exploratory Data Analysis (EDA)"
      ]
    },
    {
      "cell_type": "markdown",
      "metadata": {
        "id": "MW7WF2kr8DC1"
      },
      "source": [
        "### Explore ..."
      ]
    },
    {
      "cell_type": "code",
      "execution_count": 22,
      "metadata": {
        "colab": {
          "base_uri": "https://localhost:8080/",
          "height": 478
        },
        "id": "EtvphbpW6O6d",
        "outputId": "197d9ce0-742e-49c2-a9e4-bc3a2f12ba81"
      },
      "outputs": [
        {
          "data": {
            "application/vnd.microsoft.datawrangler.viewer.v0+json": {
              "columns": [
                {
                  "name": "index",
                  "rawType": "int64",
                  "type": "integer"
                },
                {
                  "name": "customer_id",
                  "rawType": "object",
                  "type": "string"
                },
                {
                  "name": "customer_unique_id",
                  "rawType": "object",
                  "type": "string"
                },
                {
                  "name": "customer_zip_code_prefix",
                  "rawType": "int64",
                  "type": "integer"
                },
                {
                  "name": "customer_city",
                  "rawType": "object",
                  "type": "string"
                },
                {
                  "name": "customer_state",
                  "rawType": "object",
                  "type": "string"
                },
                {
                  "name": "order_id",
                  "rawType": "object",
                  "type": "string"
                },
                {
                  "name": "order_status",
                  "rawType": "object",
                  "type": "string"
                },
                {
                  "name": "order_purchase_timestamp",
                  "rawType": "datetime64[ns]",
                  "type": "datetime"
                },
                {
                  "name": "order_approved_at",
                  "rawType": "datetime64[ns]",
                  "type": "datetime"
                },
                {
                  "name": "order_delivered_carrier_date",
                  "rawType": "datetime64[ns]",
                  "type": "datetime"
                },
                {
                  "name": "order_delivered_customer_date",
                  "rawType": "datetime64[ns]",
                  "type": "datetime"
                },
                {
                  "name": "order_estimated_delivery_date",
                  "rawType": "datetime64[ns]",
                  "type": "datetime"
                }
              ],
              "conversionMethod": "pd.DataFrame",
              "ref": "9b3b857f-17e7-4648-be4a-b713140426ab",
              "rows": [
                [
                  "0",
                  "06b8999e2fba1a1fbc88172c00ba8bc7",
                  "861eff4711a542e4b93843c6dd7febb0",
                  "14409",
                  "franca",
                  "SP",
                  "00e7ee1b050b8499577073aeb2a297a1",
                  "delivered",
                  "2017-05-16 15:05:35",
                  "2017-05-16 15:22:12",
                  "2017-05-23 10:47:57",
                  "2017-05-25 10:35:35",
                  "2017-06-05 00:00:00"
                ],
                [
                  "1",
                  "18955e83d337fd6b2def6b18a428ac77",
                  "290c77bc529b7ac935b93aa66c333dc3",
                  "9790",
                  "sao bernardo do campo",
                  "SP",
                  "29150127e6685892b6eab3eec79f59c7",
                  "delivered",
                  "2018-01-12 20:48:24",
                  "2018-01-12 20:58:32",
                  "2018-01-15 17:14:59",
                  "2018-01-29 12:41:19",
                  "2018-02-06 00:00:00"
                ],
                [
                  "2",
                  "4e7b3e00288586ebd08712fdd0374a03",
                  "060e732b5b29e8181a18229c7b0b2b5e",
                  "1151",
                  "sao paulo",
                  "SP",
                  "b2059ed67ce144a36e2aa97d2c9e9ad2",
                  "delivered",
                  "2018-05-19 16:07:45",
                  "2018-05-20 16:19:10",
                  "2018-06-11 14:31:00",
                  "2018-06-14 17:58:51",
                  "2018-06-13 00:00:00"
                ],
                [
                  "3",
                  "b2b6027bc5c5109e529d4dc6358b12c3",
                  "259dac757896d24d7702b9acbbff3f3c",
                  "8775",
                  "mogi das cruzes",
                  "SP",
                  "951670f92359f4fe4a63112aa7306eba",
                  "delivered",
                  "2018-03-13 16:06:38",
                  "2018-03-13 17:29:19",
                  "2018-03-27 23:22:42",
                  "2018-03-28 16:04:25",
                  "2018-04-10 00:00:00"
                ],
                [
                  "4",
                  "4f2d8ab171c80ec8364f7c12e35b23ad",
                  "345ecd01c38d18a9036ed96c73b8d066",
                  "13056",
                  "campinas",
                  "SP",
                  "6b7d50bd145f6fc7f33cebabd7e49d0f",
                  "delivered",
                  "2018-07-29 09:51:30",
                  "2018-07-29 10:10:09",
                  "2018-07-30 15:16:00",
                  "2018-08-09 20:55:48",
                  "2018-08-15 00:00:00"
                ],
                [
                  "5",
                  "879864dab9bc3047522c92c82e1212b8",
                  "4c93744516667ad3b8f1fb645a3116a4",
                  "89254",
                  "jaragua do sul",
                  "SC",
                  "5741ea1f91b5fbab2bd2dc653a5b5099",
                  "delivered",
                  "2017-09-14 18:14:31",
                  "2017-09-14 18:25:11",
                  "2017-09-18 21:27:40",
                  "2017-09-28 17:32:43",
                  "2017-10-04 00:00:00"
                ],
                [
                  "6",
                  "fd826e7cf63160e536e0908c76c3f441",
                  "addec96d2e059c80c30fe6871d30d177",
                  "4534",
                  "sao paulo",
                  "SP",
                  "36e694cf4cbc2a4803200c35e84abdc4",
                  "delivered",
                  "2018-02-19 14:38:35",
                  "2018-02-19 14:50:37",
                  "2018-02-20 00:03:39",
                  "2018-02-20 16:25:51",
                  "2018-03-05 00:00:00"
                ],
                [
                  "7",
                  "5e274e7a0c3809e14aba7ad5aae0d407",
                  "57b2a98a409812fe9618067b6b8ebe4f",
                  "35182",
                  "timoteo",
                  "MG",
                  "1093c8304c7a003280dd34598194913d",
                  "delivered",
                  "2017-11-16 19:29:02",
                  "2017-11-16 19:55:41",
                  "2017-11-22 16:46:33",
                  "2017-11-27 12:44:36",
                  "2017-12-08 00:00:00"
                ],
                [
                  "8",
                  "5adf08e34b2e993982a47070956c5c65",
                  "1175e95fb47ddff9de6b2b06188f7e0d",
                  "81560",
                  "curitiba",
                  "PR",
                  "1ebeea841c590e86a14a0d7a48e7d062",
                  "delivered",
                  "2018-01-18 12:35:44",
                  "2018-01-18 12:56:32",
                  "2018-01-18 23:25:35",
                  "2018-01-26 15:17:57",
                  "2018-02-20 00:00:00"
                ],
                [
                  "9",
                  "4b7139f34592b3a31687243a302fa75b",
                  "9afe194fb833f79e300e37e580171f22",
                  "30575",
                  "belo horizonte",
                  "MG",
                  "7433cbcc783205509d66a5260da5b574",
                  "delivered",
                  "2018-01-08 11:22:34",
                  "2018-01-08 11:35:27",
                  "2018-01-11 01:00:40",
                  "2018-01-13 14:51:55",
                  "2018-02-05 00:00:00"
                ],
                [
                  "10",
                  "9fb35e4ed6f0a14a4977cd9aea4042bb",
                  "2a7745e1ed516b289ed9b29c7d0539a5",
                  "39400",
                  "montes claros",
                  "MG",
                  "8428e578bb1cf839ae26a6b7615502b9",
                  "delivered",
                  "2017-11-27 17:23:20",
                  "2017-11-27 18:01:20",
                  "2017-11-28 23:04:41",
                  "2017-12-08 22:16:17",
                  "2017-12-20 00:00:00"
                ],
                [
                  "11",
                  "5aa9e4fdd4dfd20959cad2d772509598",
                  "2a46fb94aef5cbeeb850418118cee090",
                  "20231",
                  "rio de janeiro",
                  "RJ",
                  "f86c5ed7048ac10eb88ec21c00f71892",
                  "delivered",
                  "2018-02-07 11:36:42",
                  "2018-02-07 11:55:28",
                  "2018-02-08 17:46:32",
                  "2018-02-26 12:42:54",
                  "2018-03-06 00:00:00"
                ],
                [
                  "12",
                  "b2d1536598b73a9abd18e0d75d92f0a3",
                  "918dc87cd72cd9f6ed4bd442ed785235",
                  "18682",
                  "lencois paulista",
                  "SP",
                  "83d8f70418eefd96f37b483dff430305",
                  "delivered",
                  "2017-09-09 09:54:57",
                  "2017-09-09 10:10:17",
                  "2017-09-12 12:42:43",
                  "2017-09-20 20:23:34",
                  "2017-10-02 00:00:00"
                ],
                [
                  "13",
                  "eabebad39a88bb6f5b52376faec28612",
                  "295c05e81917928d76245e842748184d",
                  "5704",
                  "sao paulo",
                  "SP",
                  "852d2f4d37773bcbc21c8e09a05a4ea5",
                  "delivered",
                  "2018-03-07 15:57:14",
                  "2018-03-07 16:15:30",
                  "2018-03-12 23:02:49",
                  "2018-03-15 00:46:30",
                  "2018-03-19 00:00:00"
                ],
                [
                  "14",
                  "1f1c7bf1c9b041b292af6c1c4470b753",
                  "3151a81801c8386361b62277d7fa5ecf",
                  "95110",
                  "caxias do sul",
                  "RS",
                  "6c949e670b5d33dc8fb8ad25b6da4860",
                  "delivered",
                  "2018-04-01 18:59:31",
                  "2018-04-02 17:55:19",
                  "2018-04-03 19:33:13",
                  "2018-04-13 15:11:21",
                  "2018-04-24 00:00:00"
                ],
                [
                  "15",
                  "206f3129c0e4d7d0b9550426023f0a08",
                  "21f748a16f4e1688a9014eb3ee6fa325",
                  "13412",
                  "piracicaba",
                  "SP",
                  "eac76692452422620996fe5e1a7f8bb0",
                  "delivered",
                  "2018-01-29 20:32:08",
                  "2018-01-29 21:13:27",
                  "2018-02-03 00:09:40",
                  "2018-02-08 17:03:53",
                  "2018-02-22 00:00:00"
                ],
                [
                  "16",
                  "a7c125a0a07b75146167b7f04a7f8e98",
                  "5c2991dbd08bbf3cf410713c4de5a0b5",
                  "22750",
                  "rio de janeiro",
                  "RJ",
                  "72bab69c50432c6f94d8b50a5f84b69a",
                  "delivered",
                  "2018-08-13 23:45:05",
                  "2018-08-13 23:55:13",
                  "2018-08-15 12:11:00",
                  "2018-08-17 20:03:08",
                  "2018-08-30 00:00:00"
                ],
                [
                  "17",
                  "c5c61596a3b6bd0cee5766992c48a9a1",
                  "b6e99561fe6f34a55b0b7da92f8ed775",
                  "7124",
                  "guarulhos",
                  "SP",
                  "ec28553b12bef4b538e5d7454464a1c6",
                  "delivered",
                  "2018-06-18 13:34:21",
                  "2018-06-18 13:55:47",
                  "2018-06-19 15:07:00",
                  "2018-06-21 20:15:28",
                  "2018-07-03 00:00:00"
                ],
                [
                  "18",
                  "9b8ce803689b3562defaad4613ef426f",
                  "7f3a72e8f988c6e735ba118d54f47458",
                  "5416",
                  "sao paulo",
                  "SP",
                  "17825f24877a9289214c301ae0c9424b",
                  "delivered",
                  "2017-05-11 13:48:47",
                  "2017-05-13 11:55:16",
                  "2017-05-15 15:30:02",
                  "2017-06-07 12:02:14",
                  "2017-05-30 00:00:00"
                ],
                [
                  "19",
                  "49d0ea0986edde72da777f15456a0ee0",
                  "3e6fd6b2f0d499456a6a6820a40f2d79",
                  "68485",
                  "pacaja",
                  "PA",
                  "ab797176e01c2fa3d13aa1fe3e63d9ee",
                  "delivered",
                  "2017-11-01 21:54:10",
                  "2017-11-01 22:06:00",
                  "2017-11-06 15:43:02",
                  "2017-12-02 01:09:29",
                  "2017-12-12 00:00:00"
                ],
                [
                  "20",
                  "154c4ded6991bdfa3cd249d11abf4130",
                  "e607ede0e63436308660236f5a52da5e",
                  "88034",
                  "florianopolis",
                  "SC",
                  "830d8b3e6875ef6165ffc33219ab4fea",
                  "delivered",
                  "2017-08-13 10:03:36",
                  "2017-08-13 10:24:04",
                  "2017-08-14 18:43:45",
                  "2017-08-19 12:37:49",
                  "2017-09-20 00:00:00"
                ],
                [
                  "21",
                  "690172ab319622688d3b4df42f676898",
                  "a96d5cfa0d3181817e2b946f921ea021",
                  "74914",
                  "aparecida de goiania",
                  "GO",
                  "aaff8afa47c8426e414a6d908a97713c",
                  "delivered",
                  "2017-10-15 11:08:48",
                  "2017-10-15 11:25:49",
                  "2017-10-16 21:36:29",
                  "2017-10-25 22:30:58",
                  "2017-11-06 00:00:00"
                ],
                [
                  "22",
                  "2938121a40a20953c43caa8c98787fcb",
                  "482441ea6a06b1f72fe9784756c0ea75",
                  "5713",
                  "sao paulo",
                  "SP",
                  "0198c71148c2e08c7c52b860f640fa4e",
                  "delivered",
                  "2018-05-08 06:34:07",
                  "2018-05-09 04:31:29",
                  "2018-05-10 18:12:00",
                  "2018-05-18 18:49:30",
                  "2018-05-29 00:00:00"
                ],
                [
                  "23",
                  "237098a64674ae89babdc426746260fc",
                  "4390ddbb6276a66ff1736a6710205dca",
                  "82820",
                  "curitiba",
                  "PR",
                  "eac4ffbe456464bdc3ce5f001b6439c5",
                  "delivered",
                  "2017-04-14 11:24:56",
                  "2017-04-14 11:35:23",
                  "2017-04-17 10:43:50",
                  "2017-04-20 17:04:51",
                  "2017-05-10 00:00:00"
                ],
                [
                  "24",
                  "cb721d7b4f271fd87011c4c83462c076",
                  "a5844ba4bfc8d0cc61d13027c7e63bcc",
                  "8225",
                  "sao paulo",
                  "SP",
                  "6cdc131d3c28253cd03cd0fbc3d5f938",
                  "delivered",
                  "2018-05-16 13:04:22",
                  "2018-05-16 13:19:29",
                  "2018-05-17 15:06:00",
                  "2018-05-24 15:16:41",
                  "2018-06-05 00:00:00"
                ],
                [
                  "25",
                  "f681356046d9fde60e70c73a18d65ea2",
                  "5f102dd37243f152aec3607970aad100",
                  "9121",
                  "santo andre",
                  "SP",
                  "daf946e879dab6e7e6b3f968297c3fe3",
                  "delivered",
                  "2018-02-09 13:46:04",
                  "2018-02-09 14:08:53",
                  "2018-02-14 23:35:06",
                  "2018-02-15 22:41:29",
                  "2018-02-23 00:00:00"
                ],
                [
                  "26",
                  "167bd30a409e3e4127df5a9408ebd394",
                  "9c0096673baf55453a50073f12d1a37f",
                  "74310",
                  "goiania",
                  "GO",
                  "d10eafa208521dc30796e6a26099b6a6",
                  "delivered",
                  "2018-07-14 10:53:11",
                  "2018-07-14 11:05:18",
                  "2018-07-17 17:32:00",
                  "2018-07-25 16:28:33",
                  "2018-08-08 00:00:00"
                ],
                [
                  "27",
                  "6e359a57a91f84095cc64e1b351aef8c",
                  "2e6a42a9b5cbb0da62988694f18ee295",
                  "4571",
                  "sao paulo",
                  "SP",
                  "a8f5a2b22f55e0af45b300929d1fdc7d",
                  "delivered",
                  "2017-05-15 17:58:25",
                  "2017-05-15 18:10:18",
                  "2017-05-16 15:41:37",
                  "2017-05-19 11:10:11",
                  "2017-06-06 00:00:00"
                ],
                [
                  "28",
                  "e0eea8f69a457b3f1fa246e44c9ebefd",
                  "4d221875624017bc47b4d1ce7314a5b7",
                  "29311",
                  "cachoeiro de itapemirim",
                  "ES",
                  "3a6d41a4fe7a8e841b7c8e4b77d4e301",
                  "delivered",
                  "2017-11-24 11:29:52",
                  "2017-11-24 13:33:05",
                  "2017-11-27 21:12:51",
                  "2017-12-06 22:37:09",
                  "2017-12-18 00:00:00"
                ],
                [
                  "29",
                  "e3109970a3fe8021d5ff82c577ce5606",
                  "a8654e2af5da6bb72f52c22b164855e1",
                  "5528",
                  "sao paulo",
                  "SP",
                  "0330631bdb2ec8c341f487ed9c22fc8b",
                  "delivered",
                  "2018-05-25 12:02:08",
                  "2018-05-26 02:31:54",
                  "2018-05-29 15:41:00",
                  "2018-06-07 22:42:02",
                  "2018-06-26 00:00:00"
                ],
                [
                  "30",
                  "261cb4f92498ca05d5bd1a327a261d9c",
                  "424aca6872c5bab80780a8dec03b7516",
                  "12235",
                  "sao jose dos campos",
                  "SP",
                  "2904d3ae0064e840ffb4798ba4a12ae3",
                  "delivered",
                  "2017-09-12 08:00:03",
                  "2017-09-14 02:50:22",
                  "2017-09-19 19:27:49",
                  "2017-09-25 21:22:39",
                  "2017-10-05 00:00:00"
                ],
                [
                  "31",
                  "6f92779347724b67e44e3224f3b4cffd",
                  "bf4862777db128507e9efcc789215e9b",
                  "18130",
                  "sao roque",
                  "SP",
                  "f3b96845efd71daecf6b331fb3a9f537",
                  "delivered",
                  "2017-11-26 20:59:24",
                  "2017-11-27 09:16:13",
                  "2017-11-30 16:38:43",
                  "2017-12-09 11:56:34",
                  "2017-12-18 00:00:00"
                ],
                [
                  "32",
                  "2d5831cb2dff7cdefba62e950ae3dc7b",
                  "e9dd12dca17352644a959d9dea133935",
                  "42800",
                  "camacari",
                  "BA",
                  "19c0c76962278b152cc44fc63ffd5e48",
                  "delivered",
                  "2018-04-18 09:42:53",
                  "2018-04-18 09:55:17",
                  "2018-04-20 18:52:39",
                  "2018-05-17 20:19:49",
                  "2018-05-18 00:00:00"
                ],
                [
                  "33",
                  "b2bed119388167a954382cca36c4777f",
                  "e079b18794454de9d2be5c12b4392294",
                  "27525",
                  "resende",
                  "RJ",
                  "77b062be7c5bd21712905feb8e1cfeed",
                  "delivered",
                  "2017-06-14 18:31:54",
                  "2017-06-15 18:43:04",
                  "2017-06-22 08:11:38",
                  "2017-07-07 20:32:47",
                  "2017-07-07 00:00:00"
                ],
                [
                  "34",
                  "469634941c27cd844170935a3cf60b95",
                  "ef07ba9aa5226f77264ffa5762b2280b",
                  "81750",
                  "curitiba",
                  "PR",
                  "a9119eb77d6200811953803a7b6539e1",
                  "delivered",
                  "2018-03-12 13:07:03",
                  "2018-03-12 13:15:28",
                  "2018-03-13 22:12:18",
                  "2018-03-22 18:28:55",
                  "2018-03-29 00:00:00"
                ],
                [
                  "35",
                  "df0aa5b8586495e0ddf6b601122e43a1",
                  "85d234692f7bee8d6fea586e237334b6",
                  "13175",
                  "sumare",
                  "SP",
                  "72bd19ef4fa285334b95bda01a3718c7",
                  "delivered",
                  "2018-05-09 13:01:24",
                  "2018-05-09 13:11:21",
                  "2018-05-11 14:03:00",
                  "2018-05-16 16:58:37",
                  "2018-05-25 00:00:00"
                ],
                [
                  "36",
                  "41c8f4b570869791379a925899a6af8a",
                  "fe3634ccefbcdb0537b45fd589e32e8e",
                  "7170",
                  "guarulhos",
                  "SP",
                  "4ca8a781d1f4b13e966bf35cdc333f56",
                  "delivered",
                  "2017-10-13 10:04:59",
                  "2017-10-14 03:46:19",
                  "2017-10-20 18:57:47",
                  "2017-10-25 20:52:20",
                  "2017-11-06 00:00:00"
                ],
                [
                  "37",
                  "54f755c3fd2709231f9964a1430c5218",
                  "40febde16f4718a5def537786473b0be",
                  "93415",
                  "novo hamburgo",
                  "RS",
                  "d4668cd8ef48b78df597195703c95da2",
                  "delivered",
                  "2017-08-10 13:01:54",
                  "2017-08-10 13:23:32",
                  "2017-08-14 19:44:58",
                  "2017-08-21 13:42:55",
                  "2017-09-01 00:00:00"
                ],
                [
                  "38",
                  "4c06b42fbf7b97ab10779cda5549cd1c",
                  "07d190f123147d9e89d4b922543d7948",
                  "65075",
                  "sao luis",
                  "MA",
                  "997fd4b37386d10b57d4ac8cdec011a6",
                  "delivered",
                  "2018-07-08 09:59:19",
                  "2018-07-08 10:30:15",
                  "2018-07-25 15:12:00",
                  "2018-08-08 19:42:53",
                  "2018-08-16 00:00:00"
                ],
                [
                  "39",
                  "b6368ca0f56d4632f44d58ca431487b2",
                  "dd992305cba295d997f263dbdf4e8c2e",
                  "88104",
                  "sao jose",
                  "SC",
                  "47cb08d5bac6105ae32587814fca96ca",
                  "delivered",
                  "2018-02-11 14:07:45",
                  "2018-02-11 14:48:15",
                  "2018-02-14 18:38:51",
                  "2018-02-27 20:46:42",
                  "2018-03-08 00:00:00"
                ],
                [
                  "40",
                  "4a0e66fd30684aa1409cd1b66fec77cc",
                  "86085586aaa8c5f47ed0b400da64c59d",
                  "7176",
                  "guarulhos",
                  "SP",
                  "42cebac003b40e6aa0b3e37b99d83c2f",
                  "delivered",
                  "2018-07-06 14:29:57",
                  "2018-07-10 04:05:12",
                  "2018-07-10 15:06:00",
                  "2018-07-11 17:35:50",
                  "2018-07-19 00:00:00"
                ],
                [
                  "41",
                  "c168abb9077b7821adae01dc1f0886c5",
                  "5ad58a4e6a1a656b6bed070cadbaa003",
                  "35960",
                  "santa barbara",
                  "MG",
                  "1bae3477022e0394ab9af1d25a242fd0",
                  "delivered",
                  "2017-12-18 08:52:09",
                  "2017-12-18 09:11:59",
                  "2017-12-20 12:59:02",
                  "2017-12-30 10:53:09",
                  "2018-01-18 00:00:00"
                ],
                [
                  "42",
                  "a3b0fda37bae14cf754877bed475e80c",
                  "c9158d089637ab443c78984d20da7fc0",
                  "5727",
                  "sao paulo",
                  "SP",
                  "2dd604f5ec1bd2f58c14e9908c7df826",
                  "delivered",
                  "2018-01-31 16:43:23",
                  "2018-02-01 11:35:44",
                  "2018-02-06 15:35:16",
                  "2018-02-10 16:12:22",
                  "2018-02-22 00:00:00"
                ],
                [
                  "43",
                  "0ccd415657ae8a6cd1c71b00155a019e",
                  "66cc90195ca44cc7ac6a1cd0e1e1e7b2",
                  "7053",
                  "guarulhos",
                  "SP",
                  "a74869096437cef33d04006e8480e0db",
                  "delivered",
                  "2017-10-09 21:01:08",
                  "2017-10-09 21:14:37",
                  "2017-10-11 17:17:46",
                  "2017-10-14 12:03:34",
                  "2017-10-20 00:00:00"
                ],
                [
                  "44",
                  "c532a74a3ebf1bacce2e2bcce3783317",
                  "91ec50a00ae74d0a229d2efdf4344e1e",
                  "14026",
                  "ribeirao preto",
                  "SP",
                  "04a92860751dfe7ae41f71e1228ffd18",
                  "delivered",
                  "2018-05-14 13:30:21",
                  "2018-05-14 13:56:47",
                  "2018-05-24 14:26:00",
                  "2018-06-04 20:48:29",
                  "2018-06-12 00:00:00"
                ],
                [
                  "45",
                  "19cecb194f54e614b70d971306a9931b",
                  "d251c190ca75786e9ab937982d60d1d4",
                  "30320",
                  "belo horizonte",
                  "MG",
                  "14282bc70be9bdda515182fb1ce62af4",
                  "delivered",
                  "2018-04-18 14:18:09",
                  "2018-04-19 02:52:02",
                  "2018-04-20 00:47:44",
                  "2018-04-26 16:26:38",
                  "2018-05-11 00:00:00"
                ],
                [
                  "46",
                  "f34a6e874087ec1f0e3dab9fdf659c5d",
                  "233896de79986082f1f479f1f85281cb",
                  "38300",
                  "ituiutaba",
                  "MG",
                  "6e98de3a85c84ead6689189b825d35b5",
                  "canceled",
                  "2018-03-15 10:07:02",
                  "2018-03-15 10:29:33",
                  "2018-01-02 19:11:35",
                  "2018-01-07 04:16:26",
                  "2018-04-09 00:00:00"
                ],
                [
                  "47",
                  "c132855c926907970dcf6f2bf0b33a24",
                  "a8ae36a2bb6c2bbc3b5d62ede131c9ef",
                  "18740",
                  "taquarituba",
                  "SP",
                  "b5172d4a722c0ebb34c29bbbb7a3cb42",
                  "invoiced",
                  "2018-04-17 13:14:13",
                  "2018-04-18 05:31:51",
                  "2018-05-06 02:17:30",
                  "2018-05-31 15:57:08",
                  "2018-05-24 00:00:00"
                ],
                [
                  "48",
                  "df85b96ba2ce3e49bde101b1614f52ac",
                  "8d46223c91cbeb93e0930ca8bd8ffca2",
                  "83085",
                  "sao jose dos pinhais",
                  "PR",
                  "d13130a0433949ba242b2f0632fd49a2",
                  "delivered",
                  "2017-11-26 11:43:57",
                  "2017-11-26 11:55:36",
                  "2017-11-28 15:11:48",
                  "2017-12-07 23:17:20",
                  "2017-12-20 00:00:00"
                ],
                [
                  "49",
                  "4d27341acd30a36bca39008ee9bb9050",
                  "e021e698833bdeb89dfef3acb2e91f37",
                  "89254",
                  "jaragua do sul",
                  "SC",
                  "38e2829123a2bd1cbe111564824d0abb",
                  "delivered",
                  "2017-01-26 11:14:58",
                  "2017-01-26 11:25:21",
                  "2017-01-27 12:19:14",
                  "2017-02-09 12:15:20",
                  "2017-02-22 00:00:00"
                ]
              ],
              "shape": {
                "columns": 12,
                "rows": 99441
              }
            },
            "text/html": [
              "<div>\n",
              "<style scoped>\n",
              "    .dataframe tbody tr th:only-of-type {\n",
              "        vertical-align: middle;\n",
              "    }\n",
              "\n",
              "    .dataframe tbody tr th {\n",
              "        vertical-align: top;\n",
              "    }\n",
              "\n",
              "    .dataframe thead th {\n",
              "        text-align: right;\n",
              "    }\n",
              "</style>\n",
              "<table border=\"1\" class=\"dataframe\">\n",
              "  <thead>\n",
              "    <tr style=\"text-align: right;\">\n",
              "      <th></th>\n",
              "      <th>customer_id</th>\n",
              "      <th>customer_unique_id</th>\n",
              "      <th>customer_zip_code_prefix</th>\n",
              "      <th>customer_city</th>\n",
              "      <th>customer_state</th>\n",
              "      <th>order_id</th>\n",
              "      <th>order_status</th>\n",
              "      <th>order_purchase_timestamp</th>\n",
              "      <th>order_approved_at</th>\n",
              "      <th>order_delivered_carrier_date</th>\n",
              "      <th>order_delivered_customer_date</th>\n",
              "      <th>order_estimated_delivery_date</th>\n",
              "    </tr>\n",
              "  </thead>\n",
              "  <tbody>\n",
              "    <tr>\n",
              "      <th>0</th>\n",
              "      <td>06b8999e2fba1a1fbc88172c00ba8bc7</td>\n",
              "      <td>861eff4711a542e4b93843c6dd7febb0</td>\n",
              "      <td>14409</td>\n",
              "      <td>franca</td>\n",
              "      <td>SP</td>\n",
              "      <td>00e7ee1b050b8499577073aeb2a297a1</td>\n",
              "      <td>delivered</td>\n",
              "      <td>2017-05-16 15:05:35</td>\n",
              "      <td>2017-05-16 15:22:12</td>\n",
              "      <td>2017-05-23 10:47:57</td>\n",
              "      <td>2017-05-25 10:35:35</td>\n",
              "      <td>2017-06-05</td>\n",
              "    </tr>\n",
              "    <tr>\n",
              "      <th>1</th>\n",
              "      <td>18955e83d337fd6b2def6b18a428ac77</td>\n",
              "      <td>290c77bc529b7ac935b93aa66c333dc3</td>\n",
              "      <td>9790</td>\n",
              "      <td>sao bernardo do campo</td>\n",
              "      <td>SP</td>\n",
              "      <td>29150127e6685892b6eab3eec79f59c7</td>\n",
              "      <td>delivered</td>\n",
              "      <td>2018-01-12 20:48:24</td>\n",
              "      <td>2018-01-12 20:58:32</td>\n",
              "      <td>2018-01-15 17:14:59</td>\n",
              "      <td>2018-01-29 12:41:19</td>\n",
              "      <td>2018-02-06</td>\n",
              "    </tr>\n",
              "    <tr>\n",
              "      <th>2</th>\n",
              "      <td>4e7b3e00288586ebd08712fdd0374a03</td>\n",
              "      <td>060e732b5b29e8181a18229c7b0b2b5e</td>\n",
              "      <td>1151</td>\n",
              "      <td>sao paulo</td>\n",
              "      <td>SP</td>\n",
              "      <td>b2059ed67ce144a36e2aa97d2c9e9ad2</td>\n",
              "      <td>delivered</td>\n",
              "      <td>2018-05-19 16:07:45</td>\n",
              "      <td>2018-05-20 16:19:10</td>\n",
              "      <td>2018-06-11 14:31:00</td>\n",
              "      <td>2018-06-14 17:58:51</td>\n",
              "      <td>2018-06-13</td>\n",
              "    </tr>\n",
              "    <tr>\n",
              "      <th>3</th>\n",
              "      <td>b2b6027bc5c5109e529d4dc6358b12c3</td>\n",
              "      <td>259dac757896d24d7702b9acbbff3f3c</td>\n",
              "      <td>8775</td>\n",
              "      <td>mogi das cruzes</td>\n",
              "      <td>SP</td>\n",
              "      <td>951670f92359f4fe4a63112aa7306eba</td>\n",
              "      <td>delivered</td>\n",
              "      <td>2018-03-13 16:06:38</td>\n",
              "      <td>2018-03-13 17:29:19</td>\n",
              "      <td>2018-03-27 23:22:42</td>\n",
              "      <td>2018-03-28 16:04:25</td>\n",
              "      <td>2018-04-10</td>\n",
              "    </tr>\n",
              "    <tr>\n",
              "      <th>4</th>\n",
              "      <td>4f2d8ab171c80ec8364f7c12e35b23ad</td>\n",
              "      <td>345ecd01c38d18a9036ed96c73b8d066</td>\n",
              "      <td>13056</td>\n",
              "      <td>campinas</td>\n",
              "      <td>SP</td>\n",
              "      <td>6b7d50bd145f6fc7f33cebabd7e49d0f</td>\n",
              "      <td>delivered</td>\n",
              "      <td>2018-07-29 09:51:30</td>\n",
              "      <td>2018-07-29 10:10:09</td>\n",
              "      <td>2018-07-30 15:16:00</td>\n",
              "      <td>2018-08-09 20:55:48</td>\n",
              "      <td>2018-08-15</td>\n",
              "    </tr>\n",
              "    <tr>\n",
              "      <th>...</th>\n",
              "      <td>...</td>\n",
              "      <td>...</td>\n",
              "      <td>...</td>\n",
              "      <td>...</td>\n",
              "      <td>...</td>\n",
              "      <td>...</td>\n",
              "      <td>...</td>\n",
              "      <td>...</td>\n",
              "      <td>...</td>\n",
              "      <td>...</td>\n",
              "      <td>...</td>\n",
              "      <td>...</td>\n",
              "    </tr>\n",
              "    <tr>\n",
              "      <th>99436</th>\n",
              "      <td>17ddf5dd5d51696bb3d7c6291687be6f</td>\n",
              "      <td>1a29b476fee25c95fbafc67c5ac95cf8</td>\n",
              "      <td>3937</td>\n",
              "      <td>sao paulo</td>\n",
              "      <td>SP</td>\n",
              "      <td>6760e20addcf0121e9d58f2f1ff14298</td>\n",
              "      <td>delivered</td>\n",
              "      <td>2018-04-07 15:48:17</td>\n",
              "      <td>2018-04-07 16:08:45</td>\n",
              "      <td>2018-04-11 02:08:36</td>\n",
              "      <td>2018-04-13 20:06:37</td>\n",
              "      <td>2018-04-25</td>\n",
              "    </tr>\n",
              "    <tr>\n",
              "      <th>99437</th>\n",
              "      <td>e7b71a9017aa05c9a7fd292d714858e8</td>\n",
              "      <td>d52a67c98be1cf6a5c84435bd38d095d</td>\n",
              "      <td>6764</td>\n",
              "      <td>taboao da serra</td>\n",
              "      <td>SP</td>\n",
              "      <td>9ec0c8947d973db4f4e8dcf1fbfa8f1b</td>\n",
              "      <td>delivered</td>\n",
              "      <td>2018-04-04 08:20:22</td>\n",
              "      <td>2018-04-04 08:35:12</td>\n",
              "      <td>2018-04-05 18:42:35</td>\n",
              "      <td>2018-04-11 18:54:45</td>\n",
              "      <td>2018-04-20</td>\n",
              "    </tr>\n",
              "    <tr>\n",
              "      <th>99438</th>\n",
              "      <td>5e28dfe12db7fb50a4b2f691faecea5e</td>\n",
              "      <td>e9f50caf99f032f0bf3c55141f019d99</td>\n",
              "      <td>60115</td>\n",
              "      <td>fortaleza</td>\n",
              "      <td>CE</td>\n",
              "      <td>fed4434add09a6f332ea398efd656a5c</td>\n",
              "      <td>delivered</td>\n",
              "      <td>2018-04-08 20:11:50</td>\n",
              "      <td>2018-04-08 20:30:03</td>\n",
              "      <td>2018-04-09 17:52:17</td>\n",
              "      <td>2018-05-09 19:03:15</td>\n",
              "      <td>2018-05-02</td>\n",
              "    </tr>\n",
              "    <tr>\n",
              "      <th>99439</th>\n",
              "      <td>56b18e2166679b8a959d72dd06da27f9</td>\n",
              "      <td>73c2643a0a458b49f58cea58833b192e</td>\n",
              "      <td>92120</td>\n",
              "      <td>canoas</td>\n",
              "      <td>RS</td>\n",
              "      <td>e31ec91cea1ecf97797787471f98a8c2</td>\n",
              "      <td>delivered</td>\n",
              "      <td>2017-11-03 21:08:33</td>\n",
              "      <td>2017-11-03 21:31:20</td>\n",
              "      <td>2017-11-06 18:24:41</td>\n",
              "      <td>2017-11-16 19:58:39</td>\n",
              "      <td>2017-12-05</td>\n",
              "    </tr>\n",
              "    <tr>\n",
              "      <th>99440</th>\n",
              "      <td>274fa6071e5e17fe303b9748641082c8</td>\n",
              "      <td>84732c5050c01db9b23e19ba39899398</td>\n",
              "      <td>6703</td>\n",
              "      <td>cotia</td>\n",
              "      <td>SP</td>\n",
              "      <td>28db69209a75e59f20ccbb5c36a20b90</td>\n",
              "      <td>delivered</td>\n",
              "      <td>2017-12-19 14:27:23</td>\n",
              "      <td>2017-12-19 18:50:39</td>\n",
              "      <td>2017-12-21 19:17:21</td>\n",
              "      <td>2017-12-26 18:42:36</td>\n",
              "      <td>2018-01-08</td>\n",
              "    </tr>\n",
              "  </tbody>\n",
              "</table>\n",
              "<p>99441 rows × 12 columns</p>\n",
              "</div>"
            ],
            "text/plain": [
              "                            customer_id                customer_unique_id  \\\n",
              "0      06b8999e2fba1a1fbc88172c00ba8bc7  861eff4711a542e4b93843c6dd7febb0   \n",
              "1      18955e83d337fd6b2def6b18a428ac77  290c77bc529b7ac935b93aa66c333dc3   \n",
              "2      4e7b3e00288586ebd08712fdd0374a03  060e732b5b29e8181a18229c7b0b2b5e   \n",
              "3      b2b6027bc5c5109e529d4dc6358b12c3  259dac757896d24d7702b9acbbff3f3c   \n",
              "4      4f2d8ab171c80ec8364f7c12e35b23ad  345ecd01c38d18a9036ed96c73b8d066   \n",
              "...                                 ...                               ...   \n",
              "99436  17ddf5dd5d51696bb3d7c6291687be6f  1a29b476fee25c95fbafc67c5ac95cf8   \n",
              "99437  e7b71a9017aa05c9a7fd292d714858e8  d52a67c98be1cf6a5c84435bd38d095d   \n",
              "99438  5e28dfe12db7fb50a4b2f691faecea5e  e9f50caf99f032f0bf3c55141f019d99   \n",
              "99439  56b18e2166679b8a959d72dd06da27f9  73c2643a0a458b49f58cea58833b192e   \n",
              "99440  274fa6071e5e17fe303b9748641082c8  84732c5050c01db9b23e19ba39899398   \n",
              "\n",
              "       customer_zip_code_prefix          customer_city customer_state  \\\n",
              "0                         14409                 franca             SP   \n",
              "1                          9790  sao bernardo do campo             SP   \n",
              "2                          1151              sao paulo             SP   \n",
              "3                          8775        mogi das cruzes             SP   \n",
              "4                         13056               campinas             SP   \n",
              "...                         ...                    ...            ...   \n",
              "99436                      3937              sao paulo             SP   \n",
              "99437                      6764        taboao da serra             SP   \n",
              "99438                     60115              fortaleza             CE   \n",
              "99439                     92120                 canoas             RS   \n",
              "99440                      6703                  cotia             SP   \n",
              "\n",
              "                               order_id order_status order_purchase_timestamp  \\\n",
              "0      00e7ee1b050b8499577073aeb2a297a1    delivered      2017-05-16 15:05:35   \n",
              "1      29150127e6685892b6eab3eec79f59c7    delivered      2018-01-12 20:48:24   \n",
              "2      b2059ed67ce144a36e2aa97d2c9e9ad2    delivered      2018-05-19 16:07:45   \n",
              "3      951670f92359f4fe4a63112aa7306eba    delivered      2018-03-13 16:06:38   \n",
              "4      6b7d50bd145f6fc7f33cebabd7e49d0f    delivered      2018-07-29 09:51:30   \n",
              "...                                 ...          ...                      ...   \n",
              "99436  6760e20addcf0121e9d58f2f1ff14298    delivered      2018-04-07 15:48:17   \n",
              "99437  9ec0c8947d973db4f4e8dcf1fbfa8f1b    delivered      2018-04-04 08:20:22   \n",
              "99438  fed4434add09a6f332ea398efd656a5c    delivered      2018-04-08 20:11:50   \n",
              "99439  e31ec91cea1ecf97797787471f98a8c2    delivered      2017-11-03 21:08:33   \n",
              "99440  28db69209a75e59f20ccbb5c36a20b90    delivered      2017-12-19 14:27:23   \n",
              "\n",
              "        order_approved_at order_delivered_carrier_date  \\\n",
              "0     2017-05-16 15:22:12          2017-05-23 10:47:57   \n",
              "1     2018-01-12 20:58:32          2018-01-15 17:14:59   \n",
              "2     2018-05-20 16:19:10          2018-06-11 14:31:00   \n",
              "3     2018-03-13 17:29:19          2018-03-27 23:22:42   \n",
              "4     2018-07-29 10:10:09          2018-07-30 15:16:00   \n",
              "...                   ...                          ...   \n",
              "99436 2018-04-07 16:08:45          2018-04-11 02:08:36   \n",
              "99437 2018-04-04 08:35:12          2018-04-05 18:42:35   \n",
              "99438 2018-04-08 20:30:03          2018-04-09 17:52:17   \n",
              "99439 2017-11-03 21:31:20          2017-11-06 18:24:41   \n",
              "99440 2017-12-19 18:50:39          2017-12-21 19:17:21   \n",
              "\n",
              "      order_delivered_customer_date order_estimated_delivery_date  \n",
              "0               2017-05-25 10:35:35                    2017-06-05  \n",
              "1               2018-01-29 12:41:19                    2018-02-06  \n",
              "2               2018-06-14 17:58:51                    2018-06-13  \n",
              "3               2018-03-28 16:04:25                    2018-04-10  \n",
              "4               2018-08-09 20:55:48                    2018-08-15  \n",
              "...                             ...                           ...  \n",
              "99436           2018-04-13 20:06:37                    2018-04-25  \n",
              "99437           2018-04-11 18:54:45                    2018-04-20  \n",
              "99438           2018-05-09 19:03:15                    2018-05-02  \n",
              "99439           2017-11-16 19:58:39                    2017-12-05  \n",
              "99440           2017-12-26 18:42:36                    2018-01-08  \n",
              "\n",
              "[99441 rows x 12 columns]"
            ]
          },
          "execution_count": 22,
          "metadata": {},
          "output_type": "execute_result"
        }
      ],
      "source": [
        "#Membuat data frame gabungan dari customer dan order menggunakan irisan inner pada kolom customer_id\n",
        "full_df = pd.merge(\n",
        "    customer_df,\n",
        "    orders_df,\n",
        "    on=\"customer_id\",\n",
        "    how=\"inner\"\n",
        ")\n",
        "\n",
        "full_df"
      ]
    },
    {
      "cell_type": "code",
      "execution_count": 23,
      "metadata": {
        "colab": {
          "base_uri": "https://localhost:8080/",
          "height": 461
        },
        "id": "rZ6QZO4YDu0n",
        "outputId": "c647e979-f865-4b1a-a9ea-cbc7764cae8b"
      },
      "outputs": [
        {
          "data": {
            "application/vnd.microsoft.datawrangler.viewer.v0+json": {
              "columns": [
                {
                  "name": "index",
                  "rawType": "int64",
                  "type": "integer"
                },
                {
                  "name": "customer_id",
                  "rawType": "object",
                  "type": "string"
                },
                {
                  "name": "customer_unique_id",
                  "rawType": "object",
                  "type": "string"
                },
                {
                  "name": "customer_zip_code_prefix",
                  "rawType": "int64",
                  "type": "integer"
                },
                {
                  "name": "customer_city",
                  "rawType": "object",
                  "type": "string"
                },
                {
                  "name": "customer_state",
                  "rawType": "object",
                  "type": "string"
                },
                {
                  "name": "order_id",
                  "rawType": "object",
                  "type": "string"
                },
                {
                  "name": "order_status",
                  "rawType": "object",
                  "type": "string"
                },
                {
                  "name": "order_purchase_timestamp",
                  "rawType": "datetime64[ns]",
                  "type": "datetime"
                },
                {
                  "name": "order_approved_at",
                  "rawType": "datetime64[ns]",
                  "type": "datetime"
                },
                {
                  "name": "order_delivered_carrier_date",
                  "rawType": "datetime64[ns]",
                  "type": "datetime"
                },
                {
                  "name": "order_delivered_customer_date",
                  "rawType": "datetime64[ns]",
                  "type": "datetime"
                },
                {
                  "name": "order_estimated_delivery_date",
                  "rawType": "datetime64[ns]",
                  "type": "datetime"
                }
              ],
              "conversionMethod": "pd.DataFrame",
              "ref": "1fb365a2-a447-444a-8c61-c7f77113ad86",
              "rows": [
                [
                  "5",
                  "879864dab9bc3047522c92c82e1212b8",
                  "4c93744516667ad3b8f1fb645a3116a4",
                  "89254",
                  "jaragua do sul",
                  "SC",
                  "5741ea1f91b5fbab2bd2dc653a5b5099",
                  "delivered",
                  "2017-09-14 18:14:31",
                  "2017-09-14 18:25:11",
                  "2017-09-18 21:27:40",
                  "2017-09-28 17:32:43",
                  "2017-10-04 00:00:00"
                ],
                [
                  "7",
                  "5e274e7a0c3809e14aba7ad5aae0d407",
                  "57b2a98a409812fe9618067b6b8ebe4f",
                  "35182",
                  "timoteo",
                  "MG",
                  "1093c8304c7a003280dd34598194913d",
                  "delivered",
                  "2017-11-16 19:29:02",
                  "2017-11-16 19:55:41",
                  "2017-11-22 16:46:33",
                  "2017-11-27 12:44:36",
                  "2017-12-08 00:00:00"
                ],
                [
                  "10",
                  "9fb35e4ed6f0a14a4977cd9aea4042bb",
                  "2a7745e1ed516b289ed9b29c7d0539a5",
                  "39400",
                  "montes claros",
                  "MG",
                  "8428e578bb1cf839ae26a6b7615502b9",
                  "delivered",
                  "2017-11-27 17:23:20",
                  "2017-11-27 18:01:20",
                  "2017-11-28 23:04:41",
                  "2017-12-08 22:16:17",
                  "2017-12-20 00:00:00"
                ],
                [
                  "12",
                  "b2d1536598b73a9abd18e0d75d92f0a3",
                  "918dc87cd72cd9f6ed4bd442ed785235",
                  "18682",
                  "lencois paulista",
                  "SP",
                  "83d8f70418eefd96f37b483dff430305",
                  "delivered",
                  "2017-09-09 09:54:57",
                  "2017-09-09 10:10:17",
                  "2017-09-12 12:42:43",
                  "2017-09-20 20:23:34",
                  "2017-10-02 00:00:00"
                ],
                [
                  "19",
                  "49d0ea0986edde72da777f15456a0ee0",
                  "3e6fd6b2f0d499456a6a6820a40f2d79",
                  "68485",
                  "pacaja",
                  "PA",
                  "ab797176e01c2fa3d13aa1fe3e63d9ee",
                  "delivered",
                  "2017-11-01 21:54:10",
                  "2017-11-01 22:06:00",
                  "2017-11-06 15:43:02",
                  "2017-12-02 01:09:29",
                  "2017-12-12 00:00:00"
                ],
                [
                  "20",
                  "154c4ded6991bdfa3cd249d11abf4130",
                  "e607ede0e63436308660236f5a52da5e",
                  "88034",
                  "florianopolis",
                  "SC",
                  "830d8b3e6875ef6165ffc33219ab4fea",
                  "delivered",
                  "2017-08-13 10:03:36",
                  "2017-08-13 10:24:04",
                  "2017-08-14 18:43:45",
                  "2017-08-19 12:37:49",
                  "2017-09-20 00:00:00"
                ],
                [
                  "21",
                  "690172ab319622688d3b4df42f676898",
                  "a96d5cfa0d3181817e2b946f921ea021",
                  "74914",
                  "aparecida de goiania",
                  "GO",
                  "aaff8afa47c8426e414a6d908a97713c",
                  "delivered",
                  "2017-10-15 11:08:48",
                  "2017-10-15 11:25:49",
                  "2017-10-16 21:36:29",
                  "2017-10-25 22:30:58",
                  "2017-11-06 00:00:00"
                ],
                [
                  "28",
                  "e0eea8f69a457b3f1fa246e44c9ebefd",
                  "4d221875624017bc47b4d1ce7314a5b7",
                  "29311",
                  "cachoeiro de itapemirim",
                  "ES",
                  "3a6d41a4fe7a8e841b7c8e4b77d4e301",
                  "delivered",
                  "2017-11-24 11:29:52",
                  "2017-11-24 13:33:05",
                  "2017-11-27 21:12:51",
                  "2017-12-06 22:37:09",
                  "2017-12-18 00:00:00"
                ],
                [
                  "30",
                  "261cb4f92498ca05d5bd1a327a261d9c",
                  "424aca6872c5bab80780a8dec03b7516",
                  "12235",
                  "sao jose dos campos",
                  "SP",
                  "2904d3ae0064e840ffb4798ba4a12ae3",
                  "delivered",
                  "2017-09-12 08:00:03",
                  "2017-09-14 02:50:22",
                  "2017-09-19 19:27:49",
                  "2017-09-25 21:22:39",
                  "2017-10-05 00:00:00"
                ],
                [
                  "31",
                  "6f92779347724b67e44e3224f3b4cffd",
                  "bf4862777db128507e9efcc789215e9b",
                  "18130",
                  "sao roque",
                  "SP",
                  "f3b96845efd71daecf6b331fb3a9f537",
                  "delivered",
                  "2017-11-26 20:59:24",
                  "2017-11-27 09:16:13",
                  "2017-11-30 16:38:43",
                  "2017-12-09 11:56:34",
                  "2017-12-18 00:00:00"
                ],
                [
                  "33",
                  "b2bed119388167a954382cca36c4777f",
                  "e079b18794454de9d2be5c12b4392294",
                  "27525",
                  "resende",
                  "RJ",
                  "77b062be7c5bd21712905feb8e1cfeed",
                  "delivered",
                  "2017-06-14 18:31:54",
                  "2017-06-15 18:43:04",
                  "2017-06-22 08:11:38",
                  "2017-07-07 20:32:47",
                  "2017-07-07 00:00:00"
                ],
                [
                  "36",
                  "41c8f4b570869791379a925899a6af8a",
                  "fe3634ccefbcdb0537b45fd589e32e8e",
                  "7170",
                  "guarulhos",
                  "SP",
                  "4ca8a781d1f4b13e966bf35cdc333f56",
                  "delivered",
                  "2017-10-13 10:04:59",
                  "2017-10-14 03:46:19",
                  "2017-10-20 18:57:47",
                  "2017-10-25 20:52:20",
                  "2017-11-06 00:00:00"
                ],
                [
                  "37",
                  "54f755c3fd2709231f9964a1430c5218",
                  "40febde16f4718a5def537786473b0be",
                  "93415",
                  "novo hamburgo",
                  "RS",
                  "d4668cd8ef48b78df597195703c95da2",
                  "delivered",
                  "2017-08-10 13:01:54",
                  "2017-08-10 13:23:32",
                  "2017-08-14 19:44:58",
                  "2017-08-21 13:42:55",
                  "2017-09-01 00:00:00"
                ],
                [
                  "43",
                  "0ccd415657ae8a6cd1c71b00155a019e",
                  "66cc90195ca44cc7ac6a1cd0e1e1e7b2",
                  "7053",
                  "guarulhos",
                  "SP",
                  "a74869096437cef33d04006e8480e0db",
                  "delivered",
                  "2017-10-09 21:01:08",
                  "2017-10-09 21:14:37",
                  "2017-10-11 17:17:46",
                  "2017-10-14 12:03:34",
                  "2017-10-20 00:00:00"
                ],
                [
                  "48",
                  "df85b96ba2ce3e49bde101b1614f52ac",
                  "8d46223c91cbeb93e0930ca8bd8ffca2",
                  "83085",
                  "sao jose dos pinhais",
                  "PR",
                  "d13130a0433949ba242b2f0632fd49a2",
                  "delivered",
                  "2017-11-26 11:43:57",
                  "2017-11-26 11:55:36",
                  "2017-11-28 15:11:48",
                  "2017-12-07 23:17:20",
                  "2017-12-20 00:00:00"
                ],
                [
                  "54",
                  "8247b5583327ab8be19f96e1fb82f77b",
                  "d85547cd859833520b311b4458a14c1c",
                  "23970",
                  "parati",
                  "RJ",
                  "a6917b5d71e0e9bc434e9228db8daeb2",
                  "delivered",
                  "2017-06-09 15:46:17",
                  "2017-06-10 15:42:38",
                  "2017-06-12 17:10:55",
                  "2017-06-19 19:32:32",
                  "2017-07-04 00:00:00"
                ],
                [
                  "57",
                  "aa9f03ecd3728c9bd12e6d962c66c7cb",
                  "b03e9d9818ee170e9d6b983803c7d406",
                  "75388",
                  "trindade",
                  "GO",
                  "07429f7601b56a66d1854c79a2f5c9e5",
                  "delivered",
                  "2017-07-11 09:36:46",
                  "2017-07-11 09:50:30",
                  "2017-07-11 19:42:28",
                  "2017-07-21 20:06:22",
                  "2017-08-04 00:00:00"
                ],
                [
                  "64",
                  "cc32707d2e2f7c92ab449f9b28154809",
                  "0d516ca029d6a28d5cfddd80b27a26dc",
                  "22440",
                  "rio de janeiro",
                  "RJ",
                  "0a082979e13de340740a9883be061fcf",
                  "delivered",
                  "2017-11-19 08:43:10",
                  "2017-11-19 09:05:48",
                  "2017-11-20 19:24:26",
                  "2017-12-02 14:26:51",
                  "2017-12-18 00:00:00"
                ],
                [
                  "65",
                  "a02f66c3af7b16eec19ddcd98b645fe3",
                  "b3548d0cec408ae13d143bb4eeebaa6c",
                  "13323",
                  "salto",
                  "SP",
                  "db97652cf517d2cd03db63dec489ca62",
                  "delivered",
                  "2017-10-01 08:57:03",
                  "2017-10-01 09:14:07",
                  "2017-10-02 19:32:57",
                  "2017-10-03 14:23:50",
                  "2017-10-18 00:00:00"
                ],
                [
                  "67",
                  "f64cdee66599119324ce57a97e43700d",
                  "d89e05e2d23c3d8247aeecd07758004b",
                  "13212",
                  "jundiai",
                  "SP",
                  "84725ed03be12141b53a435b57fbd336",
                  "delivered",
                  "2017-09-11 16:51:05",
                  "2017-09-12 04:44:45",
                  "2017-09-15 14:33:20",
                  "2017-09-18 21:39:58",
                  "2017-09-28 00:00:00"
                ],
                [
                  "68",
                  "7ab7a537b678b6dd73d825ff6ee7be9d",
                  "dad5018ffc0de85eb72f72575b552784",
                  "29307",
                  "cachoeiro de itapemirim",
                  "ES",
                  "3e4a8d7b151d4f81900cea441f80d544",
                  "delivered",
                  "2017-09-08 15:41:51",
                  "2017-09-08 16:04:38",
                  "2017-09-12 16:31:47",
                  "2017-09-21 19:23:31",
                  "2017-09-28 00:00:00"
                ],
                [
                  "73",
                  "6810c3dc47f641181fcc7f73275c3d19",
                  "7eaa86786b5955ab188db287f4726d79",
                  "37720",
                  "botelhos",
                  "MG",
                  "c1f9a3a835ab0d3d2975ab179f78ab75",
                  "delivered",
                  "2017-09-26 18:53:39",
                  "2017-09-26 19:07:10",
                  "2017-09-27 20:30:03",
                  "2017-10-05 20:18:06",
                  "2017-10-23 00:00:00"
                ],
                [
                  "85",
                  "5a3260cfde2a918b597dada7ddd247bb",
                  "6d3f61e35d0422fd8cae65b1798784be",
                  "2175",
                  "sao paulo",
                  "SP",
                  "3f113daaf8b405bcc4349a2812061fa4",
                  "delivered",
                  "2017-10-27 18:24:19",
                  "2017-10-27 18:35:15",
                  "2017-10-31 16:35:54",
                  "2017-11-01 17:42:09",
                  "2017-11-09 00:00:00"
                ],
                [
                  "92",
                  "ea2196dc456ba36fe4f6b81dca4867d4",
                  "4a4de987b37555970ffcc9608d858a72",
                  "44033",
                  "feira de santana",
                  "BA",
                  "2b4da54d791ba338407fa772e336b880",
                  "delivered",
                  "2017-10-06 08:37:41",
                  "2017-10-07 08:44:25",
                  "2017-10-09 18:44:06",
                  "2017-11-03 21:52:12",
                  "2017-11-07 00:00:00"
                ],
                [
                  "97",
                  "369708cabd9831ea6fde670a3b602a92",
                  "94b731a41867b47c3856e324840c4c99",
                  "3636",
                  "sao paulo",
                  "SP",
                  "cf50fec98e2167d836c09c0ed57ba841",
                  "delivered",
                  "2017-08-27 15:05:33",
                  "2017-08-27 15:24:23",
                  "2017-08-28 20:22:13",
                  "2017-08-29 15:56:57",
                  "2017-09-08 00:00:00"
                ],
                [
                  "100",
                  "ae76a4650235ab18764708174f1da31e",
                  "2b6082a140c439e2df870c85b0aa5e88",
                  "2983",
                  "sao paulo",
                  "SP",
                  "4c33ec562d9dc5655e160913aa86eb53",
                  "shipped",
                  "2017-08-11 23:47:48",
                  "2017-08-12 00:03:51",
                  "2017-08-14 13:24:58",
                  "2017-09-21 09:56:42.500000",
                  "2017-09-11 00:00:00"
                ],
                [
                  "104",
                  "530220145a68ef57f0cc54faf1061f8c",
                  "7b24d0e6584ac5a21ec1256d96965500",
                  "35500",
                  "divinopolis",
                  "MG",
                  "3e64ee45a339ce09c4e27564b45ba09e",
                  "delivered",
                  "2017-08-07 20:11:56",
                  "2017-08-09 02:50:33",
                  "2017-08-09 19:46:00",
                  "2017-08-15 17:42:30",
                  "2017-08-25 00:00:00"
                ],
                [
                  "108",
                  "39c9dc82d5f60eb1ee8bc4fe4aa29dc6",
                  "1f6d48610f32c723924f9af3e88f1c64",
                  "2209",
                  "sao paulo",
                  "SP",
                  "dfc9bc36d5db98182f4b1dc41fe8e258",
                  "delivered",
                  "2017-09-21 13:22:26",
                  "2017-09-21 13:35:21",
                  "2017-09-22 16:23:59",
                  "2017-09-25 22:53:41",
                  "2017-10-06 00:00:00"
                ],
                [
                  "109",
                  "560829a36d563e8395cc073071a02bfd",
                  "fa7e6f153b7724fda5c1d7cc7b9ae4ec",
                  "25850",
                  "paraiba do sul",
                  "RJ",
                  "f07b0af882cdeef616def36fd78fbb23",
                  "delivered",
                  "2017-07-16 19:20:47",
                  "2017-07-16 19:30:17",
                  "2017-07-18 19:47:50",
                  "2017-07-24 17:44:47",
                  "2017-08-08 00:00:00"
                ],
                [
                  "112",
                  "70a8cfb1730fd53e5c15f2a62e1e5448",
                  "29f61e71b90b55a988f45a66bb91bfb7",
                  "6382",
                  "carapicuiba",
                  "SP",
                  "eb7ac481803eb5bc5b7cfe431a03d39a",
                  "delivered",
                  "2017-09-13 21:41:43",
                  "2017-09-13 21:55:11",
                  "2017-09-14 16:54:04",
                  "2017-09-15 19:36:35",
                  "2017-09-25 00:00:00"
                ],
                [
                  "117",
                  "aa0fbd830c89acc3d79d311ff43d0920",
                  "eabd76f3506262b0db0dda1d48394a9b",
                  "80050",
                  "curitiba",
                  "PR",
                  "7c7b5f633170511dbd889d3c4b2794bc",
                  "delivered",
                  "2017-08-11 21:40:37",
                  "2017-08-11 22:05:19",
                  "2017-08-15 19:52:08",
                  "2017-08-21 20:55:04",
                  "2017-09-06 00:00:00"
                ],
                [
                  "121",
                  "66cc929741c3d1d277e05b4540bf9a8c",
                  "1bdff446efb5846d0969eaf8978d4342",
                  "15015",
                  "sao jose do rio preto",
                  "SP",
                  "fc24b77521e400e8290a902026efcc85",
                  "delivered",
                  "2017-08-01 15:14:40",
                  "2017-08-01 15:35:30",
                  "2017-08-04 19:49:40",
                  "2017-08-07 21:15:05",
                  "2017-08-23 00:00:00"
                ],
                [
                  "131",
                  "53b6d45cb9684a4b93e0ba2030222456",
                  "5d348bbc0f1a5cc45c3e4b93b8c9f802",
                  "24431",
                  "sao goncalo",
                  "RJ",
                  "4550a99f6056026fc76c5030f0f45fe6",
                  "delivered",
                  "2017-06-24 13:10:07",
                  "2017-06-24 13:23:15",
                  "2017-06-26 14:52:14",
                  "2017-08-16 15:36:05",
                  "2017-07-18 00:00:00"
                ],
                [
                  "132",
                  "f7c5afab273b47ab517e096e0219b932",
                  "b6c083700ca8c135ba9f0f132930d4e8",
                  "8686",
                  "suzano",
                  "SP",
                  "0be5691eb4c245d190a1e194494f754d",
                  "delivered",
                  "2017-09-05 15:32:33",
                  "2017-09-05 15:50:35",
                  "2017-09-06 19:37:44",
                  "2017-09-11 22:19:57",
                  "2017-09-28 00:00:00"
                ],
                [
                  "133",
                  "faafae37ddb3e4af81c10a397bcca35f",
                  "1a7a10e9273fca58179bdd0d40843b0c",
                  "7243",
                  "guarulhos",
                  "SP",
                  "e9376d90b28f9cdea83d4d850e4bb1a7",
                  "invoiced",
                  "2017-09-01 15:02:24",
                  "2017-09-01 15:15:30",
                  "2017-12-21 09:18:36.500000",
                  "2017-12-31 06:39:28",
                  "2017-09-15 00:00:00"
                ],
                [
                  "134",
                  "acca74d2a60c03b46a5256c02cef9244",
                  "f34cd7fd85a1f8baff886edf09567be3",
                  "89120",
                  "timbo",
                  "SC",
                  "200331f78002771b79409a9cf7962dfa",
                  "delivered",
                  "2017-08-22 12:49:28",
                  "2017-08-22 13:07:26",
                  "2017-08-31 13:55:04",
                  "2017-09-05 18:40:50",
                  "2017-09-18 00:00:00"
                ],
                [
                  "136",
                  "05323a24770d4897bba59aab79f6d7b0",
                  "56636fd22de1a315b8a50d45cf94d859",
                  "95340",
                  "nova bassano",
                  "RS",
                  "227d9fcfc9f51432d5ad2898364eafff",
                  "delivered",
                  "2017-08-27 23:00:33",
                  "2017-08-27 23:10:14",
                  "2017-08-31 17:53:41",
                  "2017-09-14 21:13:47",
                  "2017-09-26 00:00:00"
                ],
                [
                  "137",
                  "e255bea28fdeb105b85a23947349cca5",
                  "34c6f984b590bbfe3d4d6c76007c0b1c",
                  "96215",
                  "rio grande",
                  "RS",
                  "c05959bbcc139450377c258a39f80602",
                  "delivered",
                  "2017-11-28 08:43:12",
                  "2017-11-30 02:25:23",
                  "2017-12-01 16:29:08",
                  "2018-01-10 00:16:46",
                  "2017-12-28 00:00:00"
                ],
                [
                  "139",
                  "c67de3b27c091f07a35cd57362cf225e",
                  "0567f279c243671842613f581ed3462c",
                  "12929",
                  "braganca paulista",
                  "SP",
                  "b2f9c5f1cd2900a3d140068d35509ff5",
                  "delivered",
                  "2017-09-27 14:59:05",
                  "2017-09-27 15:07:24",
                  "2017-09-28 18:02:59",
                  "2017-09-29 18:23:41",
                  "2017-10-17 00:00:00"
                ],
                [
                  "142",
                  "d387341bbce5ab96e3647bb0e8d0b55a",
                  "91e6fd64694fa9a828270d442ba88e03",
                  "6835",
                  "embu",
                  "SP",
                  "820152b6c457a82037e534fa94953a56",
                  "delivered",
                  "2017-08-01 10:40:04",
                  "2017-08-01 10:50:14",
                  "2017-08-03 18:14:43",
                  "2017-08-04 20:21:38",
                  "2017-08-14 00:00:00"
                ],
                [
                  "150",
                  "dc0a596a36f033e89eeecbbbaa5603e9",
                  "8dfb24fac32ec7170821d2be63fa9c1c",
                  "37701",
                  "pocos de caldas",
                  "MG",
                  "e75a94d6e8bdba1aa2a9946c3837a636",
                  "delivered",
                  "2017-09-01 10:26:06",
                  "2017-09-01 10:35:15",
                  "2017-09-01 19:12:29",
                  "2017-09-08 19:07:34",
                  "2017-09-21 00:00:00"
                ],
                [
                  "153",
                  "caa060324a30054bae148e4d7ad1da22",
                  "05aa2ef3623cdba9ca3e83b91f1eee5c",
                  "12970",
                  "piracaia",
                  "SP",
                  "4d0a364f71f715f93b8b96eaa4c2dcb6",
                  "delivered",
                  "2017-07-07 17:56:19",
                  "2017-07-07 18:10:10",
                  "2017-07-12 10:16:36",
                  "2017-07-17 20:32:58",
                  "2017-08-04 00:00:00"
                ],
                [
                  "154",
                  "7f2357cfd99c900565e6ffd6d2708d9d",
                  "466c3a741a952640c1984a48ebbffbf9",
                  "22251",
                  "rio de janeiro",
                  "RJ",
                  "f72289715f4416fb6e9a289031977b6d",
                  "delivered",
                  "2017-11-24 22:57:06",
                  "2017-11-25 01:57:33",
                  "2017-11-30 22:32:03",
                  "2017-12-08 21:29:11",
                  "2017-12-19 00:00:00"
                ],
                [
                  "161",
                  "f20afd4cc727293b97398aa1c665e9cc",
                  "2eac18b475d7d985f0ab52b9c010f59f",
                  "4679",
                  "sao paulo",
                  "SP",
                  "507ade1b30ebcd50657684efabcd135f",
                  "delivered",
                  "2017-11-09 10:09:01",
                  "2017-11-09 10:26:52",
                  "2017-11-10 18:46:47",
                  "2017-11-13 15:59:18",
                  "2017-12-01 00:00:00"
                ],
                [
                  "168",
                  "5195c80d2034a6123f3866574cfffde8",
                  "a296df1cf7557b871094bda3d269972e",
                  "70750",
                  "brasilia",
                  "DF",
                  "5db62a99be52172b589440403f644aa9",
                  "delivered",
                  "2017-09-16 21:41:43",
                  "2017-09-16 21:55:16",
                  "2017-09-18 20:32:02",
                  "2017-09-26 15:35:48",
                  "2017-10-06 00:00:00"
                ],
                [
                  "169",
                  "bd30c8ec7f7139af7195e1f7f031e131",
                  "237c219a24b6a3183a216a5ca00f6edf",
                  "89031",
                  "blumenau",
                  "SC",
                  "0bb96548fdaf9fb98f6a72c4936a54d1",
                  "delivered",
                  "2017-07-15 20:31:41",
                  "2017-07-18 05:55:30",
                  "2017-07-24 19:18:39",
                  "2017-08-03 20:12:41",
                  "2017-08-08 00:00:00"
                ],
                [
                  "170",
                  "9712f52bb03dbf1e5f778230d13d96cc",
                  "49d79c76cf12065b7a08103cdba3e1b8",
                  "15275",
                  "moncoes",
                  "SP",
                  "ee6a6563831f675482a3a816f1bef6e3",
                  "delivered",
                  "2017-11-11 11:32:53",
                  "2017-11-13 17:15:54",
                  "2017-11-16 23:24:32",
                  "2017-11-22 22:42:07",
                  "2017-12-01 00:00:00"
                ],
                [
                  "171",
                  "21fb2ebc5077f72af04e6ead0763eba5",
                  "59150cde6405fb8f31f6dd1882d15754",
                  "22290",
                  "rio de janeiro",
                  "RJ",
                  "7e5755dcda787dcc7269f1698d6372b7",
                  "delivered",
                  "2017-08-08 09:53:50",
                  "2017-08-08 10:10:15",
                  "2017-08-09 19:29:41",
                  "2017-08-16 15:45:19",
                  "2017-08-30 00:00:00"
                ],
                [
                  "197",
                  "eee74b2a9aa0989243d2793c1a90fbf6",
                  "a40096fc0a3862e9e12bc55b5f8e6ab2",
                  "20561",
                  "rio de janeiro",
                  "RJ",
                  "d839ea07a528e914f89702508023da37",
                  "delivered",
                  "2017-10-11 14:49:49",
                  "2017-10-11 15:08:32",
                  "2017-10-13 21:09:03",
                  "2017-10-17 21:56:01",
                  "2017-11-03 00:00:00"
                ],
                [
                  "201",
                  "af75138c42a3bc72157eaf45b6da592f",
                  "ca87392503c5a503ff16afc9344ebbe0",
                  "78580",
                  "alta floresta",
                  "MT",
                  "ca414766885ef23fbb64dcfffe684699",
                  "delivered",
                  "2017-09-25 13:18:24",
                  "2017-09-25 13:30:17",
                  "2017-09-25 19:29:55",
                  "2017-10-06 13:17:52",
                  "2017-10-26 00:00:00"
                ]
              ],
              "shape": {
                "columns": 12,
                "rows": 28062
              }
            },
            "text/html": [
              "<div>\n",
              "<style scoped>\n",
              "    .dataframe tbody tr th:only-of-type {\n",
              "        vertical-align: middle;\n",
              "    }\n",
              "\n",
              "    .dataframe tbody tr th {\n",
              "        vertical-align: top;\n",
              "    }\n",
              "\n",
              "    .dataframe thead th {\n",
              "        text-align: right;\n",
              "    }\n",
              "</style>\n",
              "<table border=\"1\" class=\"dataframe\">\n",
              "  <thead>\n",
              "    <tr style=\"text-align: right;\">\n",
              "      <th></th>\n",
              "      <th>customer_id</th>\n",
              "      <th>customer_unique_id</th>\n",
              "      <th>customer_zip_code_prefix</th>\n",
              "      <th>customer_city</th>\n",
              "      <th>customer_state</th>\n",
              "      <th>order_id</th>\n",
              "      <th>order_status</th>\n",
              "      <th>order_purchase_timestamp</th>\n",
              "      <th>order_approved_at</th>\n",
              "      <th>order_delivered_carrier_date</th>\n",
              "      <th>order_delivered_customer_date</th>\n",
              "      <th>order_estimated_delivery_date</th>\n",
              "    </tr>\n",
              "  </thead>\n",
              "  <tbody>\n",
              "    <tr>\n",
              "      <th>5</th>\n",
              "      <td>879864dab9bc3047522c92c82e1212b8</td>\n",
              "      <td>4c93744516667ad3b8f1fb645a3116a4</td>\n",
              "      <td>89254</td>\n",
              "      <td>jaragua do sul</td>\n",
              "      <td>SC</td>\n",
              "      <td>5741ea1f91b5fbab2bd2dc653a5b5099</td>\n",
              "      <td>delivered</td>\n",
              "      <td>2017-09-14 18:14:31</td>\n",
              "      <td>2017-09-14 18:25:11</td>\n",
              "      <td>2017-09-18 21:27:40</td>\n",
              "      <td>2017-09-28 17:32:43</td>\n",
              "      <td>2017-10-04</td>\n",
              "    </tr>\n",
              "    <tr>\n",
              "      <th>7</th>\n",
              "      <td>5e274e7a0c3809e14aba7ad5aae0d407</td>\n",
              "      <td>57b2a98a409812fe9618067b6b8ebe4f</td>\n",
              "      <td>35182</td>\n",
              "      <td>timoteo</td>\n",
              "      <td>MG</td>\n",
              "      <td>1093c8304c7a003280dd34598194913d</td>\n",
              "      <td>delivered</td>\n",
              "      <td>2017-11-16 19:29:02</td>\n",
              "      <td>2017-11-16 19:55:41</td>\n",
              "      <td>2017-11-22 16:46:33</td>\n",
              "      <td>2017-11-27 12:44:36</td>\n",
              "      <td>2017-12-08</td>\n",
              "    </tr>\n",
              "    <tr>\n",
              "      <th>10</th>\n",
              "      <td>9fb35e4ed6f0a14a4977cd9aea4042bb</td>\n",
              "      <td>2a7745e1ed516b289ed9b29c7d0539a5</td>\n",
              "      <td>39400</td>\n",
              "      <td>montes claros</td>\n",
              "      <td>MG</td>\n",
              "      <td>8428e578bb1cf839ae26a6b7615502b9</td>\n",
              "      <td>delivered</td>\n",
              "      <td>2017-11-27 17:23:20</td>\n",
              "      <td>2017-11-27 18:01:20</td>\n",
              "      <td>2017-11-28 23:04:41</td>\n",
              "      <td>2017-12-08 22:16:17</td>\n",
              "      <td>2017-12-20</td>\n",
              "    </tr>\n",
              "    <tr>\n",
              "      <th>12</th>\n",
              "      <td>b2d1536598b73a9abd18e0d75d92f0a3</td>\n",
              "      <td>918dc87cd72cd9f6ed4bd442ed785235</td>\n",
              "      <td>18682</td>\n",
              "      <td>lencois paulista</td>\n",
              "      <td>SP</td>\n",
              "      <td>83d8f70418eefd96f37b483dff430305</td>\n",
              "      <td>delivered</td>\n",
              "      <td>2017-09-09 09:54:57</td>\n",
              "      <td>2017-09-09 10:10:17</td>\n",
              "      <td>2017-09-12 12:42:43</td>\n",
              "      <td>2017-09-20 20:23:34</td>\n",
              "      <td>2017-10-02</td>\n",
              "    </tr>\n",
              "    <tr>\n",
              "      <th>19</th>\n",
              "      <td>49d0ea0986edde72da777f15456a0ee0</td>\n",
              "      <td>3e6fd6b2f0d499456a6a6820a40f2d79</td>\n",
              "      <td>68485</td>\n",
              "      <td>pacaja</td>\n",
              "      <td>PA</td>\n",
              "      <td>ab797176e01c2fa3d13aa1fe3e63d9ee</td>\n",
              "      <td>delivered</td>\n",
              "      <td>2017-11-01 21:54:10</td>\n",
              "      <td>2017-11-01 22:06:00</td>\n",
              "      <td>2017-11-06 15:43:02</td>\n",
              "      <td>2017-12-02 01:09:29</td>\n",
              "      <td>2017-12-12</td>\n",
              "    </tr>\n",
              "    <tr>\n",
              "      <th>...</th>\n",
              "      <td>...</td>\n",
              "      <td>...</td>\n",
              "      <td>...</td>\n",
              "      <td>...</td>\n",
              "      <td>...</td>\n",
              "      <td>...</td>\n",
              "      <td>...</td>\n",
              "      <td>...</td>\n",
              "      <td>...</td>\n",
              "      <td>...</td>\n",
              "      <td>...</td>\n",
              "      <td>...</td>\n",
              "    </tr>\n",
              "    <tr>\n",
              "      <th>99414</th>\n",
              "      <td>eabf770240659f7a6d09b11f12f10f89</td>\n",
              "      <td>065b9e6198f11dbdf7fc1250f9e08afc</td>\n",
              "      <td>19905</td>\n",
              "      <td>ourinhos</td>\n",
              "      <td>SP</td>\n",
              "      <td>9524a52b2633d2f96da98b947c60a4de</td>\n",
              "      <td>delivered</td>\n",
              "      <td>2017-11-08 12:41:52</td>\n",
              "      <td>2017-11-08 13:30:46</td>\n",
              "      <td>2017-11-14 16:08:53</td>\n",
              "      <td>2017-11-21 18:57:38</td>\n",
              "      <td>2017-12-14</td>\n",
              "    </tr>\n",
              "    <tr>\n",
              "      <th>99423</th>\n",
              "      <td>c6ece8a5137f3c9c3a3a12302a19a2ac</td>\n",
              "      <td>aaf22868003377e859049dcf5f0b3fdf</td>\n",
              "      <td>1323</td>\n",
              "      <td>sao paulo</td>\n",
              "      <td>SP</td>\n",
              "      <td>52b783557d95971d0b42195e6bacdc68</td>\n",
              "      <td>delivered</td>\n",
              "      <td>2017-10-20 07:16:27</td>\n",
              "      <td>2017-10-20 07:28:14</td>\n",
              "      <td>2017-10-23 19:13:38</td>\n",
              "      <td>2017-10-24 17:03:38</td>\n",
              "      <td>2017-11-01</td>\n",
              "    </tr>\n",
              "    <tr>\n",
              "      <th>99426</th>\n",
              "      <td>935993f47af1ed7d0715c26b686341c5</td>\n",
              "      <td>4452b8ef472646c4cc042cb31a291f3b</td>\n",
              "      <td>12236</td>\n",
              "      <td>sao jose dos campos</td>\n",
              "      <td>SP</td>\n",
              "      <td>e86b1b2dd48839d7351406434afb578d</td>\n",
              "      <td>delivered</td>\n",
              "      <td>2017-11-25 00:31:20</td>\n",
              "      <td>2017-11-25 02:33:11</td>\n",
              "      <td>2017-11-27 18:24:54</td>\n",
              "      <td>2017-12-04 21:13:10</td>\n",
              "      <td>2017-12-20</td>\n",
              "    </tr>\n",
              "    <tr>\n",
              "      <th>99429</th>\n",
              "      <td>1ed0c832c2dd99570a59260e71768bdf</td>\n",
              "      <td>82d46759af0369aad49084bacf85a6c3</td>\n",
              "      <td>37610</td>\n",
              "      <td>bom repouso</td>\n",
              "      <td>MG</td>\n",
              "      <td>51c6d2f460589fa7b65f2da51e860206</td>\n",
              "      <td>delivered</td>\n",
              "      <td>2017-11-14 12:04:09</td>\n",
              "      <td>2017-11-14 12:15:25</td>\n",
              "      <td>2017-11-27 20:44:47</td>\n",
              "      <td>2017-12-19 19:37:33</td>\n",
              "      <td>2017-12-12</td>\n",
              "    </tr>\n",
              "    <tr>\n",
              "      <th>99439</th>\n",
              "      <td>56b18e2166679b8a959d72dd06da27f9</td>\n",
              "      <td>73c2643a0a458b49f58cea58833b192e</td>\n",
              "      <td>92120</td>\n",
              "      <td>canoas</td>\n",
              "      <td>RS</td>\n",
              "      <td>e31ec91cea1ecf97797787471f98a8c2</td>\n",
              "      <td>delivered</td>\n",
              "      <td>2017-11-03 21:08:33</td>\n",
              "      <td>2017-11-03 21:31:20</td>\n",
              "      <td>2017-11-06 18:24:41</td>\n",
              "      <td>2017-11-16 19:58:39</td>\n",
              "      <td>2017-12-05</td>\n",
              "    </tr>\n",
              "  </tbody>\n",
              "</table>\n",
              "<p>28062 rows × 12 columns</p>\n",
              "</div>"
            ],
            "text/plain": [
              "                            customer_id                customer_unique_id  \\\n",
              "5      879864dab9bc3047522c92c82e1212b8  4c93744516667ad3b8f1fb645a3116a4   \n",
              "7      5e274e7a0c3809e14aba7ad5aae0d407  57b2a98a409812fe9618067b6b8ebe4f   \n",
              "10     9fb35e4ed6f0a14a4977cd9aea4042bb  2a7745e1ed516b289ed9b29c7d0539a5   \n",
              "12     b2d1536598b73a9abd18e0d75d92f0a3  918dc87cd72cd9f6ed4bd442ed785235   \n",
              "19     49d0ea0986edde72da777f15456a0ee0  3e6fd6b2f0d499456a6a6820a40f2d79   \n",
              "...                                 ...                               ...   \n",
              "99414  eabf770240659f7a6d09b11f12f10f89  065b9e6198f11dbdf7fc1250f9e08afc   \n",
              "99423  c6ece8a5137f3c9c3a3a12302a19a2ac  aaf22868003377e859049dcf5f0b3fdf   \n",
              "99426  935993f47af1ed7d0715c26b686341c5  4452b8ef472646c4cc042cb31a291f3b   \n",
              "99429  1ed0c832c2dd99570a59260e71768bdf  82d46759af0369aad49084bacf85a6c3   \n",
              "99439  56b18e2166679b8a959d72dd06da27f9  73c2643a0a458b49f58cea58833b192e   \n",
              "\n",
              "       customer_zip_code_prefix        customer_city customer_state  \\\n",
              "5                         89254       jaragua do sul             SC   \n",
              "7                         35182              timoteo             MG   \n",
              "10                        39400        montes claros             MG   \n",
              "12                        18682     lencois paulista             SP   \n",
              "19                        68485               pacaja             PA   \n",
              "...                         ...                  ...            ...   \n",
              "99414                     19905             ourinhos             SP   \n",
              "99423                      1323            sao paulo             SP   \n",
              "99426                     12236  sao jose dos campos             SP   \n",
              "99429                     37610          bom repouso             MG   \n",
              "99439                     92120               canoas             RS   \n",
              "\n",
              "                               order_id order_status order_purchase_timestamp  \\\n",
              "5      5741ea1f91b5fbab2bd2dc653a5b5099    delivered      2017-09-14 18:14:31   \n",
              "7      1093c8304c7a003280dd34598194913d    delivered      2017-11-16 19:29:02   \n",
              "10     8428e578bb1cf839ae26a6b7615502b9    delivered      2017-11-27 17:23:20   \n",
              "12     83d8f70418eefd96f37b483dff430305    delivered      2017-09-09 09:54:57   \n",
              "19     ab797176e01c2fa3d13aa1fe3e63d9ee    delivered      2017-11-01 21:54:10   \n",
              "...                                 ...          ...                      ...   \n",
              "99414  9524a52b2633d2f96da98b947c60a4de    delivered      2017-11-08 12:41:52   \n",
              "99423  52b783557d95971d0b42195e6bacdc68    delivered      2017-10-20 07:16:27   \n",
              "99426  e86b1b2dd48839d7351406434afb578d    delivered      2017-11-25 00:31:20   \n",
              "99429  51c6d2f460589fa7b65f2da51e860206    delivered      2017-11-14 12:04:09   \n",
              "99439  e31ec91cea1ecf97797787471f98a8c2    delivered      2017-11-03 21:08:33   \n",
              "\n",
              "        order_approved_at order_delivered_carrier_date  \\\n",
              "5     2017-09-14 18:25:11          2017-09-18 21:27:40   \n",
              "7     2017-11-16 19:55:41          2017-11-22 16:46:33   \n",
              "10    2017-11-27 18:01:20          2017-11-28 23:04:41   \n",
              "12    2017-09-09 10:10:17          2017-09-12 12:42:43   \n",
              "19    2017-11-01 22:06:00          2017-11-06 15:43:02   \n",
              "...                   ...                          ...   \n",
              "99414 2017-11-08 13:30:46          2017-11-14 16:08:53   \n",
              "99423 2017-10-20 07:28:14          2017-10-23 19:13:38   \n",
              "99426 2017-11-25 02:33:11          2017-11-27 18:24:54   \n",
              "99429 2017-11-14 12:15:25          2017-11-27 20:44:47   \n",
              "99439 2017-11-03 21:31:20          2017-11-06 18:24:41   \n",
              "\n",
              "      order_delivered_customer_date order_estimated_delivery_date  \n",
              "5               2017-09-28 17:32:43                    2017-10-04  \n",
              "7               2017-11-27 12:44:36                    2017-12-08  \n",
              "10              2017-12-08 22:16:17                    2017-12-20  \n",
              "12              2017-09-20 20:23:34                    2017-10-02  \n",
              "19              2017-12-02 01:09:29                    2017-12-12  \n",
              "...                             ...                           ...  \n",
              "99414           2017-11-21 18:57:38                    2017-12-14  \n",
              "99423           2017-10-24 17:03:38                    2017-11-01  \n",
              "99426           2017-12-04 21:13:10                    2017-12-20  \n",
              "99429           2017-12-19 19:37:33                    2017-12-12  \n",
              "99439           2017-11-16 19:58:39                    2017-12-05  \n",
              "\n",
              "[28062 rows x 12 columns]"
            ]
          },
          "execution_count": 23,
          "metadata": {},
          "output_type": "execute_result"
        }
      ],
      "source": [
        "#Melakukan filter data pada waktu yang sudah ditentukan yakni 2 kuartil terkahir 2017\n",
        "filtered_date_df = full_df[\n",
        "    (full_df[\"order_purchase_timestamp\"] > \"2017-06-01\") &\n",
        "    (full_df[\"order_purchase_timestamp\"] < \"2017-12-01\")\n",
        "    ]\n",
        "\n",
        "filtered_date_df"
      ]
    },
    {
      "cell_type": "code",
      "execution_count": 24,
      "metadata": {
        "colab": {
          "base_uri": "https://localhost:8080/",
          "height": 423
        },
        "id": "e9CQCZjk8DC2",
        "outputId": "3e5ea0d4-3234-4f8f-9e8c-16ff7ae465e5"
      },
      "outputs": [
        {
          "data": {
            "application/vnd.microsoft.datawrangler.viewer.v0+json": {
              "columns": [
                {
                  "name": "index",
                  "rawType": "int64",
                  "type": "integer"
                },
                {
                  "name": "customer_city",
                  "rawType": "object",
                  "type": "string"
                },
                {
                  "name": "customer_count",
                  "rawType": "int64",
                  "type": "integer"
                }
              ],
              "conversionMethod": "pd.DataFrame",
              "ref": "0790ec73-fd72-4c60-b857-515a5bf7c74d",
              "rows": [
                [
                  "2379",
                  "sao paulo",
                  "4005"
                ],
                [
                  "2088",
                  "rio de janeiro",
                  "2081"
                ],
                [
                  "291",
                  "belo horizonte",
                  "721"
                ],
                [
                  "357",
                  "brasilia",
                  "591"
                ],
                [
                  "1972",
                  "porto alegre",
                  "452"
                ],
                [
                  "462",
                  "campinas",
                  "401"
                ],
                [
                  "756",
                  "curitiba",
                  "397"
                ],
                [
                  "2152",
                  "salvador",
                  "345"
                ],
                [
                  "1009",
                  "guarulhos",
                  "308"
                ],
                [
                  "2278",
                  "sao bernardo do campo",
                  "255"
                ],
                [
                  "2247",
                  "santo andre",
                  "221"
                ],
                [
                  "1722",
                  "osasco",
                  "221"
                ],
                [
                  "1634",
                  "niteroi",
                  "218"
                ],
                [
                  "902",
                  "fortaleza",
                  "210"
                ],
                [
                  "2270",
                  "santos",
                  "199"
                ],
                [
                  "946",
                  "goiania",
                  "185"
                ],
                [
                  "2485",
                  "sorocaba",
                  "178"
                ],
                [
                  "2350",
                  "sao jose dos campos",
                  "165"
                ],
                [
                  "2045",
                  "recife",
                  "161"
                ],
                [
                  "893",
                  "florianopolis",
                  "154"
                ],
                [
                  "1340",
                  "jundiai",
                  "148"
                ],
                [
                  "1664",
                  "nova iguacu",
                  "137"
                ],
                [
                  "2302",
                  "sao goncalo",
                  "131"
                ],
                [
                  "288",
                  "belem",
                  "130"
                ],
                [
                  "1553",
                  "mogi das cruzes",
                  "129"
                ],
                [
                  "2073",
                  "ribeirao preto",
                  "126"
                ],
                [
                  "2707",
                  "vitoria",
                  "118"
                ],
                [
                  "2360",
                  "sao luis",
                  "113"
                ],
                [
                  "1336",
                  "juiz de fora",
                  "108"
                ],
                [
                  "2619",
                  "uberlandia",
                  "107"
                ],
                [
                  "274",
                  "barueri",
                  "101"
                ],
                [
                  "687",
                  "contagem",
                  "98"
                ],
                [
                  "2698",
                  "vila velha",
                  "92"
                ],
                [
                  "812",
                  "duque de caxias",
                  "92"
                ],
                [
                  "2441",
                  "serra",
                  "91"
                ],
                [
                  "539",
                  "carapicuiba",
                  "91"
                ],
                [
                  "1995",
                  "praia grande",
                  "90"
                ],
                [
                  "2346",
                  "sao jose do rio preto",
                  "86"
                ],
                [
                  "1099",
                  "indaiatuba",
                  "85"
                ],
                [
                  "2535",
                  "taubate",
                  "83"
                ],
                [
                  "1902",
                  "piracicaba",
                  "82"
                ],
                [
                  "473",
                  "campo grande",
                  "80"
                ],
                [
                  "282",
                  "bauru",
                  "80"
                ],
                [
                  "770",
                  "diadema",
                  "80"
                ],
                [
                  "1585",
                  "montes claros",
                  "77"
                ],
                [
                  "1400",
                  "londrina",
                  "73"
                ],
                [
                  "486",
                  "campos dos goytacazes",
                  "73"
                ],
                [
                  "2713",
                  "volta redonda",
                  "72"
                ],
                [
                  "597",
                  "caxias do sul",
                  "72"
                ],
                [
                  "1488",
                  "maringa",
                  "71"
                ]
              ],
              "shape": {
                "columns": 2,
                "rows": 2727
              }
            },
            "text/html": [
              "<div>\n",
              "<style scoped>\n",
              "    .dataframe tbody tr th:only-of-type {\n",
              "        vertical-align: middle;\n",
              "    }\n",
              "\n",
              "    .dataframe tbody tr th {\n",
              "        vertical-align: top;\n",
              "    }\n",
              "\n",
              "    .dataframe thead th {\n",
              "        text-align: right;\n",
              "    }\n",
              "</style>\n",
              "<table border=\"1\" class=\"dataframe\">\n",
              "  <thead>\n",
              "    <tr style=\"text-align: right;\">\n",
              "      <th></th>\n",
              "      <th>customer_city</th>\n",
              "      <th>customer_count</th>\n",
              "    </tr>\n",
              "  </thead>\n",
              "  <tbody>\n",
              "    <tr>\n",
              "      <th>2379</th>\n",
              "      <td>sao paulo</td>\n",
              "      <td>4005</td>\n",
              "    </tr>\n",
              "    <tr>\n",
              "      <th>2088</th>\n",
              "      <td>rio de janeiro</td>\n",
              "      <td>2081</td>\n",
              "    </tr>\n",
              "    <tr>\n",
              "      <th>291</th>\n",
              "      <td>belo horizonte</td>\n",
              "      <td>721</td>\n",
              "    </tr>\n",
              "    <tr>\n",
              "      <th>357</th>\n",
              "      <td>brasilia</td>\n",
              "      <td>591</td>\n",
              "    </tr>\n",
              "    <tr>\n",
              "      <th>1972</th>\n",
              "      <td>porto alegre</td>\n",
              "      <td>452</td>\n",
              "    </tr>\n",
              "    <tr>\n",
              "      <th>...</th>\n",
              "      <td>...</td>\n",
              "      <td>...</td>\n",
              "    </tr>\n",
              "    <tr>\n",
              "      <th>1281</th>\n",
              "      <td>janduis</td>\n",
              "      <td>1</td>\n",
              "    </tr>\n",
              "    <tr>\n",
              "      <th>1279</th>\n",
              "      <td>jandaira</td>\n",
              "      <td>1</td>\n",
              "    </tr>\n",
              "    <tr>\n",
              "      <th>1276</th>\n",
              "      <td>jampruca</td>\n",
              "      <td>1</td>\n",
              "    </tr>\n",
              "    <tr>\n",
              "      <th>1275</th>\n",
              "      <td>jamapara</td>\n",
              "      <td>1</td>\n",
              "    </tr>\n",
              "    <tr>\n",
              "      <th>2726</th>\n",
              "      <td>zortea</td>\n",
              "      <td>1</td>\n",
              "    </tr>\n",
              "  </tbody>\n",
              "</table>\n",
              "<p>2727 rows × 2 columns</p>\n",
              "</div>"
            ],
            "text/plain": [
              "       customer_city  customer_count\n",
              "2379       sao paulo            4005\n",
              "2088  rio de janeiro            2081\n",
              "291   belo horizonte             721\n",
              "357         brasilia             591\n",
              "1972    porto alegre             452\n",
              "...              ...             ...\n",
              "1281         janduis               1\n",
              "1279        jandaira               1\n",
              "1276        jampruca               1\n",
              "1275        jamapara               1\n",
              "2726          zortea               1\n",
              "\n",
              "[2727 rows x 2 columns]"
            ]
          },
          "execution_count": 24,
          "metadata": {},
          "output_type": "execute_result"
        }
      ],
      "source": [
        "customer_counts = (\n",
        "    filtered_date_df.groupby([\"customer_city\"]) #Melakukan group by berdasarkan asal kota\n",
        "    .customer_id.nunique() #Menghitung jumlah dari customer menggunakan customer id\n",
        "    .reset_index() #Index direset\n",
        "    .rename(columns={\"customer_id\": \"customer_count\"}) #Untuk kolom di tabel customer_counts customer id diubah menjadi customer count\n",
        "    .sort_values(by=\"customer_count\", ascending=False) #Melakukan sorting descending berdasarkan customer yang paling banyak dari daerah mana\n",
        ")\n",
        "\n",
        "customer_counts #Print tabel customer_count"
      ]
    },
    {
      "cell_type": "code",
      "execution_count": 25,
      "metadata": {
        "colab": {
          "base_uri": "https://localhost:8080/",
          "height": 570
        },
        "id": "HnGn9IRmq4--",
        "outputId": "4d149dc7-a354-48a3-cfe7-2c7801ef619d"
      },
      "outputs": [
        {
          "name": "stderr",
          "output_type": "stream",
          "text": [
            "C:\\Users\\rizki\\AppData\\Local\\Temp\\ipykernel_14392\\1006598501.py:2: SettingWithCopyWarning: \n",
            "A value is trying to be set on a copy of a slice from a DataFrame.\n",
            "Try using .loc[row_indexer,col_indexer] = value instead\n",
            "\n",
            "See the caveats in the documentation: https://pandas.pydata.org/pandas-docs/stable/user_guide/indexing.html#returning-a-view-versus-a-copy\n",
            "  filtered_date_df[\"delivery_time_day\"] = ((\n"
          ]
        },
        {
          "data": {
            "application/vnd.microsoft.datawrangler.viewer.v0+json": {
              "columns": [
                {
                  "name": "index",
                  "rawType": "int64",
                  "type": "integer"
                },
                {
                  "name": "customer_id",
                  "rawType": "object",
                  "type": "string"
                },
                {
                  "name": "customer_unique_id",
                  "rawType": "object",
                  "type": "string"
                },
                {
                  "name": "customer_zip_code_prefix",
                  "rawType": "int64",
                  "type": "integer"
                },
                {
                  "name": "customer_city",
                  "rawType": "object",
                  "type": "string"
                },
                {
                  "name": "customer_state",
                  "rawType": "object",
                  "type": "string"
                },
                {
                  "name": "order_id",
                  "rawType": "object",
                  "type": "string"
                },
                {
                  "name": "order_status",
                  "rawType": "object",
                  "type": "string"
                },
                {
                  "name": "order_purchase_timestamp",
                  "rawType": "datetime64[ns]",
                  "type": "datetime"
                },
                {
                  "name": "order_approved_at",
                  "rawType": "datetime64[ns]",
                  "type": "datetime"
                },
                {
                  "name": "order_delivered_carrier_date",
                  "rawType": "datetime64[ns]",
                  "type": "datetime"
                },
                {
                  "name": "order_delivered_customer_date",
                  "rawType": "datetime64[ns]",
                  "type": "datetime"
                },
                {
                  "name": "order_estimated_delivery_date",
                  "rawType": "datetime64[ns]",
                  "type": "datetime"
                },
                {
                  "name": "delivery_time_day",
                  "rawType": "int64",
                  "type": "integer"
                }
              ],
              "conversionMethod": "pd.DataFrame",
              "ref": "ea831fc3-b9c9-465b-900f-18fe9c909c63",
              "rows": [
                [
                  "5",
                  "879864dab9bc3047522c92c82e1212b8",
                  "4c93744516667ad3b8f1fb645a3116a4",
                  "89254",
                  "jaragua do sul",
                  "SC",
                  "5741ea1f91b5fbab2bd2dc653a5b5099",
                  "delivered",
                  "2017-09-14 18:14:31",
                  "2017-09-14 18:25:11",
                  "2017-09-18 21:27:40",
                  "2017-09-28 17:32:43",
                  "2017-10-04 00:00:00",
                  "9"
                ],
                [
                  "7",
                  "5e274e7a0c3809e14aba7ad5aae0d407",
                  "57b2a98a409812fe9618067b6b8ebe4f",
                  "35182",
                  "timoteo",
                  "MG",
                  "1093c8304c7a003280dd34598194913d",
                  "delivered",
                  "2017-11-16 19:29:02",
                  "2017-11-16 19:55:41",
                  "2017-11-22 16:46:33",
                  "2017-11-27 12:44:36",
                  "2017-12-08 00:00:00",
                  "4"
                ],
                [
                  "10",
                  "9fb35e4ed6f0a14a4977cd9aea4042bb",
                  "2a7745e1ed516b289ed9b29c7d0539a5",
                  "39400",
                  "montes claros",
                  "MG",
                  "8428e578bb1cf839ae26a6b7615502b9",
                  "delivered",
                  "2017-11-27 17:23:20",
                  "2017-11-27 18:01:20",
                  "2017-11-28 23:04:41",
                  "2017-12-08 22:16:17",
                  "2017-12-20 00:00:00",
                  "9"
                ],
                [
                  "12",
                  "b2d1536598b73a9abd18e0d75d92f0a3",
                  "918dc87cd72cd9f6ed4bd442ed785235",
                  "18682",
                  "lencois paulista",
                  "SP",
                  "83d8f70418eefd96f37b483dff430305",
                  "delivered",
                  "2017-09-09 09:54:57",
                  "2017-09-09 10:10:17",
                  "2017-09-12 12:42:43",
                  "2017-09-20 20:23:34",
                  "2017-10-02 00:00:00",
                  "8"
                ],
                [
                  "19",
                  "49d0ea0986edde72da777f15456a0ee0",
                  "3e6fd6b2f0d499456a6a6820a40f2d79",
                  "68485",
                  "pacaja",
                  "PA",
                  "ab797176e01c2fa3d13aa1fe3e63d9ee",
                  "delivered",
                  "2017-11-01 21:54:10",
                  "2017-11-01 22:06:00",
                  "2017-11-06 15:43:02",
                  "2017-12-02 01:09:29",
                  "2017-12-12 00:00:00",
                  "25"
                ],
                [
                  "20",
                  "154c4ded6991bdfa3cd249d11abf4130",
                  "e607ede0e63436308660236f5a52da5e",
                  "88034",
                  "florianopolis",
                  "SC",
                  "830d8b3e6875ef6165ffc33219ab4fea",
                  "delivered",
                  "2017-08-13 10:03:36",
                  "2017-08-13 10:24:04",
                  "2017-08-14 18:43:45",
                  "2017-08-19 12:37:49",
                  "2017-09-20 00:00:00",
                  "4"
                ],
                [
                  "21",
                  "690172ab319622688d3b4df42f676898",
                  "a96d5cfa0d3181817e2b946f921ea021",
                  "74914",
                  "aparecida de goiania",
                  "GO",
                  "aaff8afa47c8426e414a6d908a97713c",
                  "delivered",
                  "2017-10-15 11:08:48",
                  "2017-10-15 11:25:49",
                  "2017-10-16 21:36:29",
                  "2017-10-25 22:30:58",
                  "2017-11-06 00:00:00",
                  "9"
                ],
                [
                  "28",
                  "e0eea8f69a457b3f1fa246e44c9ebefd",
                  "4d221875624017bc47b4d1ce7314a5b7",
                  "29311",
                  "cachoeiro de itapemirim",
                  "ES",
                  "3a6d41a4fe7a8e841b7c8e4b77d4e301",
                  "delivered",
                  "2017-11-24 11:29:52",
                  "2017-11-24 13:33:05",
                  "2017-11-27 21:12:51",
                  "2017-12-06 22:37:09",
                  "2017-12-18 00:00:00",
                  "9"
                ],
                [
                  "30",
                  "261cb4f92498ca05d5bd1a327a261d9c",
                  "424aca6872c5bab80780a8dec03b7516",
                  "12235",
                  "sao jose dos campos",
                  "SP",
                  "2904d3ae0064e840ffb4798ba4a12ae3",
                  "delivered",
                  "2017-09-12 08:00:03",
                  "2017-09-14 02:50:22",
                  "2017-09-19 19:27:49",
                  "2017-09-25 21:22:39",
                  "2017-10-05 00:00:00",
                  "6"
                ],
                [
                  "31",
                  "6f92779347724b67e44e3224f3b4cffd",
                  "bf4862777db128507e9efcc789215e9b",
                  "18130",
                  "sao roque",
                  "SP",
                  "f3b96845efd71daecf6b331fb3a9f537",
                  "delivered",
                  "2017-11-26 20:59:24",
                  "2017-11-27 09:16:13",
                  "2017-11-30 16:38:43",
                  "2017-12-09 11:56:34",
                  "2017-12-18 00:00:00",
                  "8"
                ],
                [
                  "33",
                  "b2bed119388167a954382cca36c4777f",
                  "e079b18794454de9d2be5c12b4392294",
                  "27525",
                  "resende",
                  "RJ",
                  "77b062be7c5bd21712905feb8e1cfeed",
                  "delivered",
                  "2017-06-14 18:31:54",
                  "2017-06-15 18:43:04",
                  "2017-06-22 08:11:38",
                  "2017-07-07 20:32:47",
                  "2017-07-07 00:00:00",
                  "15"
                ],
                [
                  "36",
                  "41c8f4b570869791379a925899a6af8a",
                  "fe3634ccefbcdb0537b45fd589e32e8e",
                  "7170",
                  "guarulhos",
                  "SP",
                  "4ca8a781d1f4b13e966bf35cdc333f56",
                  "delivered",
                  "2017-10-13 10:04:59",
                  "2017-10-14 03:46:19",
                  "2017-10-20 18:57:47",
                  "2017-10-25 20:52:20",
                  "2017-11-06 00:00:00",
                  "5"
                ],
                [
                  "37",
                  "54f755c3fd2709231f9964a1430c5218",
                  "40febde16f4718a5def537786473b0be",
                  "93415",
                  "novo hamburgo",
                  "RS",
                  "d4668cd8ef48b78df597195703c95da2",
                  "delivered",
                  "2017-08-10 13:01:54",
                  "2017-08-10 13:23:32",
                  "2017-08-14 19:44:58",
                  "2017-08-21 13:42:55",
                  "2017-09-01 00:00:00",
                  "6"
                ],
                [
                  "43",
                  "0ccd415657ae8a6cd1c71b00155a019e",
                  "66cc90195ca44cc7ac6a1cd0e1e1e7b2",
                  "7053",
                  "guarulhos",
                  "SP",
                  "a74869096437cef33d04006e8480e0db",
                  "delivered",
                  "2017-10-09 21:01:08",
                  "2017-10-09 21:14:37",
                  "2017-10-11 17:17:46",
                  "2017-10-14 12:03:34",
                  "2017-10-20 00:00:00",
                  "2"
                ],
                [
                  "48",
                  "df85b96ba2ce3e49bde101b1614f52ac",
                  "8d46223c91cbeb93e0930ca8bd8ffca2",
                  "83085",
                  "sao jose dos pinhais",
                  "PR",
                  "d13130a0433949ba242b2f0632fd49a2",
                  "delivered",
                  "2017-11-26 11:43:57",
                  "2017-11-26 11:55:36",
                  "2017-11-28 15:11:48",
                  "2017-12-07 23:17:20",
                  "2017-12-20 00:00:00",
                  "9"
                ],
                [
                  "54",
                  "8247b5583327ab8be19f96e1fb82f77b",
                  "d85547cd859833520b311b4458a14c1c",
                  "23970",
                  "parati",
                  "RJ",
                  "a6917b5d71e0e9bc434e9228db8daeb2",
                  "delivered",
                  "2017-06-09 15:46:17",
                  "2017-06-10 15:42:38",
                  "2017-06-12 17:10:55",
                  "2017-06-19 19:32:32",
                  "2017-07-04 00:00:00",
                  "7"
                ],
                [
                  "57",
                  "aa9f03ecd3728c9bd12e6d962c66c7cb",
                  "b03e9d9818ee170e9d6b983803c7d406",
                  "75388",
                  "trindade",
                  "GO",
                  "07429f7601b56a66d1854c79a2f5c9e5",
                  "delivered",
                  "2017-07-11 09:36:46",
                  "2017-07-11 09:50:30",
                  "2017-07-11 19:42:28",
                  "2017-07-21 20:06:22",
                  "2017-08-04 00:00:00",
                  "10"
                ],
                [
                  "64",
                  "cc32707d2e2f7c92ab449f9b28154809",
                  "0d516ca029d6a28d5cfddd80b27a26dc",
                  "22440",
                  "rio de janeiro",
                  "RJ",
                  "0a082979e13de340740a9883be061fcf",
                  "delivered",
                  "2017-11-19 08:43:10",
                  "2017-11-19 09:05:48",
                  "2017-11-20 19:24:26",
                  "2017-12-02 14:26:51",
                  "2017-12-18 00:00:00",
                  "11"
                ],
                [
                  "65",
                  "a02f66c3af7b16eec19ddcd98b645fe3",
                  "b3548d0cec408ae13d143bb4eeebaa6c",
                  "13323",
                  "salto",
                  "SP",
                  "db97652cf517d2cd03db63dec489ca62",
                  "delivered",
                  "2017-10-01 08:57:03",
                  "2017-10-01 09:14:07",
                  "2017-10-02 19:32:57",
                  "2017-10-03 14:23:50",
                  "2017-10-18 00:00:00",
                  "0"
                ],
                [
                  "67",
                  "f64cdee66599119324ce57a97e43700d",
                  "d89e05e2d23c3d8247aeecd07758004b",
                  "13212",
                  "jundiai",
                  "SP",
                  "84725ed03be12141b53a435b57fbd336",
                  "delivered",
                  "2017-09-11 16:51:05",
                  "2017-09-12 04:44:45",
                  "2017-09-15 14:33:20",
                  "2017-09-18 21:39:58",
                  "2017-09-28 00:00:00",
                  "3"
                ],
                [
                  "68",
                  "7ab7a537b678b6dd73d825ff6ee7be9d",
                  "dad5018ffc0de85eb72f72575b552784",
                  "29307",
                  "cachoeiro de itapemirim",
                  "ES",
                  "3e4a8d7b151d4f81900cea441f80d544",
                  "delivered",
                  "2017-09-08 15:41:51",
                  "2017-09-08 16:04:38",
                  "2017-09-12 16:31:47",
                  "2017-09-21 19:23:31",
                  "2017-09-28 00:00:00",
                  "9"
                ],
                [
                  "73",
                  "6810c3dc47f641181fcc7f73275c3d19",
                  "7eaa86786b5955ab188db287f4726d79",
                  "37720",
                  "botelhos",
                  "MG",
                  "c1f9a3a835ab0d3d2975ab179f78ab75",
                  "delivered",
                  "2017-09-26 18:53:39",
                  "2017-09-26 19:07:10",
                  "2017-09-27 20:30:03",
                  "2017-10-05 20:18:06",
                  "2017-10-23 00:00:00",
                  "7"
                ],
                [
                  "85",
                  "5a3260cfde2a918b597dada7ddd247bb",
                  "6d3f61e35d0422fd8cae65b1798784be",
                  "2175",
                  "sao paulo",
                  "SP",
                  "3f113daaf8b405bcc4349a2812061fa4",
                  "delivered",
                  "2017-10-27 18:24:19",
                  "2017-10-27 18:35:15",
                  "2017-10-31 16:35:54",
                  "2017-11-01 17:42:09",
                  "2017-11-09 00:00:00",
                  "1"
                ],
                [
                  "92",
                  "ea2196dc456ba36fe4f6b81dca4867d4",
                  "4a4de987b37555970ffcc9608d858a72",
                  "44033",
                  "feira de santana",
                  "BA",
                  "2b4da54d791ba338407fa772e336b880",
                  "delivered",
                  "2017-10-06 08:37:41",
                  "2017-10-07 08:44:25",
                  "2017-10-09 18:44:06",
                  "2017-11-03 21:52:12",
                  "2017-11-07 00:00:00",
                  "25"
                ],
                [
                  "97",
                  "369708cabd9831ea6fde670a3b602a92",
                  "94b731a41867b47c3856e324840c4c99",
                  "3636",
                  "sao paulo",
                  "SP",
                  "cf50fec98e2167d836c09c0ed57ba841",
                  "delivered",
                  "2017-08-27 15:05:33",
                  "2017-08-27 15:24:23",
                  "2017-08-28 20:22:13",
                  "2017-08-29 15:56:57",
                  "2017-09-08 00:00:00",
                  "0"
                ],
                [
                  "100",
                  "ae76a4650235ab18764708174f1da31e",
                  "2b6082a140c439e2df870c85b0aa5e88",
                  "2983",
                  "sao paulo",
                  "SP",
                  "4c33ec562d9dc5655e160913aa86eb53",
                  "shipped",
                  "2017-08-11 23:47:48",
                  "2017-08-12 00:03:51",
                  "2017-08-14 13:24:58",
                  "2017-09-21 09:56:42.500000",
                  "2017-09-11 00:00:00",
                  "37"
                ],
                [
                  "104",
                  "530220145a68ef57f0cc54faf1061f8c",
                  "7b24d0e6584ac5a21ec1256d96965500",
                  "35500",
                  "divinopolis",
                  "MG",
                  "3e64ee45a339ce09c4e27564b45ba09e",
                  "delivered",
                  "2017-08-07 20:11:56",
                  "2017-08-09 02:50:33",
                  "2017-08-09 19:46:00",
                  "2017-08-15 17:42:30",
                  "2017-08-25 00:00:00",
                  "5"
                ],
                [
                  "108",
                  "39c9dc82d5f60eb1ee8bc4fe4aa29dc6",
                  "1f6d48610f32c723924f9af3e88f1c64",
                  "2209",
                  "sao paulo",
                  "SP",
                  "dfc9bc36d5db98182f4b1dc41fe8e258",
                  "delivered",
                  "2017-09-21 13:22:26",
                  "2017-09-21 13:35:21",
                  "2017-09-22 16:23:59",
                  "2017-09-25 22:53:41",
                  "2017-10-06 00:00:00",
                  "3"
                ],
                [
                  "109",
                  "560829a36d563e8395cc073071a02bfd",
                  "fa7e6f153b7724fda5c1d7cc7b9ae4ec",
                  "25850",
                  "paraiba do sul",
                  "RJ",
                  "f07b0af882cdeef616def36fd78fbb23",
                  "delivered",
                  "2017-07-16 19:20:47",
                  "2017-07-16 19:30:17",
                  "2017-07-18 19:47:50",
                  "2017-07-24 17:44:47",
                  "2017-08-08 00:00:00",
                  "5"
                ],
                [
                  "112",
                  "70a8cfb1730fd53e5c15f2a62e1e5448",
                  "29f61e71b90b55a988f45a66bb91bfb7",
                  "6382",
                  "carapicuiba",
                  "SP",
                  "eb7ac481803eb5bc5b7cfe431a03d39a",
                  "delivered",
                  "2017-09-13 21:41:43",
                  "2017-09-13 21:55:11",
                  "2017-09-14 16:54:04",
                  "2017-09-15 19:36:35",
                  "2017-09-25 00:00:00",
                  "1"
                ],
                [
                  "117",
                  "aa0fbd830c89acc3d79d311ff43d0920",
                  "eabd76f3506262b0db0dda1d48394a9b",
                  "80050",
                  "curitiba",
                  "PR",
                  "7c7b5f633170511dbd889d3c4b2794bc",
                  "delivered",
                  "2017-08-11 21:40:37",
                  "2017-08-11 22:05:19",
                  "2017-08-15 19:52:08",
                  "2017-08-21 20:55:04",
                  "2017-09-06 00:00:00",
                  "6"
                ],
                [
                  "121",
                  "66cc929741c3d1d277e05b4540bf9a8c",
                  "1bdff446efb5846d0969eaf8978d4342",
                  "15015",
                  "sao jose do rio preto",
                  "SP",
                  "fc24b77521e400e8290a902026efcc85",
                  "delivered",
                  "2017-08-01 15:14:40",
                  "2017-08-01 15:35:30",
                  "2017-08-04 19:49:40",
                  "2017-08-07 21:15:05",
                  "2017-08-23 00:00:00",
                  "3"
                ],
                [
                  "131",
                  "53b6d45cb9684a4b93e0ba2030222456",
                  "5d348bbc0f1a5cc45c3e4b93b8c9f802",
                  "24431",
                  "sao goncalo",
                  "RJ",
                  "4550a99f6056026fc76c5030f0f45fe6",
                  "delivered",
                  "2017-06-24 13:10:07",
                  "2017-06-24 13:23:15",
                  "2017-06-26 14:52:14",
                  "2017-08-16 15:36:05",
                  "2017-07-18 00:00:00",
                  "51"
                ],
                [
                  "132",
                  "f7c5afab273b47ab517e096e0219b932",
                  "b6c083700ca8c135ba9f0f132930d4e8",
                  "8686",
                  "suzano",
                  "SP",
                  "0be5691eb4c245d190a1e194494f754d",
                  "delivered",
                  "2017-09-05 15:32:33",
                  "2017-09-05 15:50:35",
                  "2017-09-06 19:37:44",
                  "2017-09-11 22:19:57",
                  "2017-09-28 00:00:00",
                  "5"
                ],
                [
                  "133",
                  "faafae37ddb3e4af81c10a397bcca35f",
                  "1a7a10e9273fca58179bdd0d40843b0c",
                  "7243",
                  "guarulhos",
                  "SP",
                  "e9376d90b28f9cdea83d4d850e4bb1a7",
                  "invoiced",
                  "2017-09-01 15:02:24",
                  "2017-09-01 15:15:30",
                  "2017-12-21 09:18:36.500000",
                  "2017-12-31 06:39:28",
                  "2017-09-15 00:00:00",
                  "9"
                ],
                [
                  "134",
                  "acca74d2a60c03b46a5256c02cef9244",
                  "f34cd7fd85a1f8baff886edf09567be3",
                  "89120",
                  "timbo",
                  "SC",
                  "200331f78002771b79409a9cf7962dfa",
                  "delivered",
                  "2017-08-22 12:49:28",
                  "2017-08-22 13:07:26",
                  "2017-08-31 13:55:04",
                  "2017-09-05 18:40:50",
                  "2017-09-18 00:00:00",
                  "5"
                ],
                [
                  "136",
                  "05323a24770d4897bba59aab79f6d7b0",
                  "56636fd22de1a315b8a50d45cf94d859",
                  "95340",
                  "nova bassano",
                  "RS",
                  "227d9fcfc9f51432d5ad2898364eafff",
                  "delivered",
                  "2017-08-27 23:00:33",
                  "2017-08-27 23:10:14",
                  "2017-08-31 17:53:41",
                  "2017-09-14 21:13:47",
                  "2017-09-26 00:00:00",
                  "14"
                ],
                [
                  "137",
                  "e255bea28fdeb105b85a23947349cca5",
                  "34c6f984b590bbfe3d4d6c76007c0b1c",
                  "96215",
                  "rio grande",
                  "RS",
                  "c05959bbcc139450377c258a39f80602",
                  "delivered",
                  "2017-11-28 08:43:12",
                  "2017-11-30 02:25:23",
                  "2017-12-01 16:29:08",
                  "2018-01-10 00:16:46",
                  "2017-12-28 00:00:00",
                  "39"
                ],
                [
                  "139",
                  "c67de3b27c091f07a35cd57362cf225e",
                  "0567f279c243671842613f581ed3462c",
                  "12929",
                  "braganca paulista",
                  "SP",
                  "b2f9c5f1cd2900a3d140068d35509ff5",
                  "delivered",
                  "2017-09-27 14:59:05",
                  "2017-09-27 15:07:24",
                  "2017-09-28 18:02:59",
                  "2017-09-29 18:23:41",
                  "2017-10-17 00:00:00",
                  "1"
                ],
                [
                  "142",
                  "d387341bbce5ab96e3647bb0e8d0b55a",
                  "91e6fd64694fa9a828270d442ba88e03",
                  "6835",
                  "embu",
                  "SP",
                  "820152b6c457a82037e534fa94953a56",
                  "delivered",
                  "2017-08-01 10:40:04",
                  "2017-08-01 10:50:14",
                  "2017-08-03 18:14:43",
                  "2017-08-04 20:21:38",
                  "2017-08-14 00:00:00",
                  "1"
                ],
                [
                  "150",
                  "dc0a596a36f033e89eeecbbbaa5603e9",
                  "8dfb24fac32ec7170821d2be63fa9c1c",
                  "37701",
                  "pocos de caldas",
                  "MG",
                  "e75a94d6e8bdba1aa2a9946c3837a636",
                  "delivered",
                  "2017-09-01 10:26:06",
                  "2017-09-01 10:35:15",
                  "2017-09-01 19:12:29",
                  "2017-09-08 19:07:34",
                  "2017-09-21 00:00:00",
                  "6"
                ],
                [
                  "153",
                  "caa060324a30054bae148e4d7ad1da22",
                  "05aa2ef3623cdba9ca3e83b91f1eee5c",
                  "12970",
                  "piracaia",
                  "SP",
                  "4d0a364f71f715f93b8b96eaa4c2dcb6",
                  "delivered",
                  "2017-07-07 17:56:19",
                  "2017-07-07 18:10:10",
                  "2017-07-12 10:16:36",
                  "2017-07-17 20:32:58",
                  "2017-08-04 00:00:00",
                  "5"
                ],
                [
                  "154",
                  "7f2357cfd99c900565e6ffd6d2708d9d",
                  "466c3a741a952640c1984a48ebbffbf9",
                  "22251",
                  "rio de janeiro",
                  "RJ",
                  "f72289715f4416fb6e9a289031977b6d",
                  "delivered",
                  "2017-11-24 22:57:06",
                  "2017-11-25 01:57:33",
                  "2017-11-30 22:32:03",
                  "2017-12-08 21:29:11",
                  "2017-12-19 00:00:00",
                  "7"
                ],
                [
                  "161",
                  "f20afd4cc727293b97398aa1c665e9cc",
                  "2eac18b475d7d985f0ab52b9c010f59f",
                  "4679",
                  "sao paulo",
                  "SP",
                  "507ade1b30ebcd50657684efabcd135f",
                  "delivered",
                  "2017-11-09 10:09:01",
                  "2017-11-09 10:26:52",
                  "2017-11-10 18:46:47",
                  "2017-11-13 15:59:18",
                  "2017-12-01 00:00:00",
                  "2"
                ],
                [
                  "168",
                  "5195c80d2034a6123f3866574cfffde8",
                  "a296df1cf7557b871094bda3d269972e",
                  "70750",
                  "brasilia",
                  "DF",
                  "5db62a99be52172b589440403f644aa9",
                  "delivered",
                  "2017-09-16 21:41:43",
                  "2017-09-16 21:55:16",
                  "2017-09-18 20:32:02",
                  "2017-09-26 15:35:48",
                  "2017-10-06 00:00:00",
                  "7"
                ],
                [
                  "169",
                  "bd30c8ec7f7139af7195e1f7f031e131",
                  "237c219a24b6a3183a216a5ca00f6edf",
                  "89031",
                  "blumenau",
                  "SC",
                  "0bb96548fdaf9fb98f6a72c4936a54d1",
                  "delivered",
                  "2017-07-15 20:31:41",
                  "2017-07-18 05:55:30",
                  "2017-07-24 19:18:39",
                  "2017-08-03 20:12:41",
                  "2017-08-08 00:00:00",
                  "10"
                ],
                [
                  "170",
                  "9712f52bb03dbf1e5f778230d13d96cc",
                  "49d79c76cf12065b7a08103cdba3e1b8",
                  "15275",
                  "moncoes",
                  "SP",
                  "ee6a6563831f675482a3a816f1bef6e3",
                  "delivered",
                  "2017-11-11 11:32:53",
                  "2017-11-13 17:15:54",
                  "2017-11-16 23:24:32",
                  "2017-11-22 22:42:07",
                  "2017-12-01 00:00:00",
                  "5"
                ],
                [
                  "171",
                  "21fb2ebc5077f72af04e6ead0763eba5",
                  "59150cde6405fb8f31f6dd1882d15754",
                  "22290",
                  "rio de janeiro",
                  "RJ",
                  "7e5755dcda787dcc7269f1698d6372b7",
                  "delivered",
                  "2017-08-08 09:53:50",
                  "2017-08-08 10:10:15",
                  "2017-08-09 19:29:41",
                  "2017-08-16 15:45:19",
                  "2017-08-30 00:00:00",
                  "6"
                ],
                [
                  "197",
                  "eee74b2a9aa0989243d2793c1a90fbf6",
                  "a40096fc0a3862e9e12bc55b5f8e6ab2",
                  "20561",
                  "rio de janeiro",
                  "RJ",
                  "d839ea07a528e914f89702508023da37",
                  "delivered",
                  "2017-10-11 14:49:49",
                  "2017-10-11 15:08:32",
                  "2017-10-13 21:09:03",
                  "2017-10-17 21:56:01",
                  "2017-11-03 00:00:00",
                  "4"
                ],
                [
                  "201",
                  "af75138c42a3bc72157eaf45b6da592f",
                  "ca87392503c5a503ff16afc9344ebbe0",
                  "78580",
                  "alta floresta",
                  "MT",
                  "ca414766885ef23fbb64dcfffe684699",
                  "delivered",
                  "2017-09-25 13:18:24",
                  "2017-09-25 13:30:17",
                  "2017-09-25 19:29:55",
                  "2017-10-06 13:17:52",
                  "2017-10-26 00:00:00",
                  "10"
                ]
              ],
              "shape": {
                "columns": 13,
                "rows": 28008
              }
            },
            "text/html": [
              "<div>\n",
              "<style scoped>\n",
              "    .dataframe tbody tr th:only-of-type {\n",
              "        vertical-align: middle;\n",
              "    }\n",
              "\n",
              "    .dataframe tbody tr th {\n",
              "        vertical-align: top;\n",
              "    }\n",
              "\n",
              "    .dataframe thead th {\n",
              "        text-align: right;\n",
              "    }\n",
              "</style>\n",
              "<table border=\"1\" class=\"dataframe\">\n",
              "  <thead>\n",
              "    <tr style=\"text-align: right;\">\n",
              "      <th></th>\n",
              "      <th>customer_id</th>\n",
              "      <th>customer_unique_id</th>\n",
              "      <th>customer_zip_code_prefix</th>\n",
              "      <th>customer_city</th>\n",
              "      <th>customer_state</th>\n",
              "      <th>order_id</th>\n",
              "      <th>order_status</th>\n",
              "      <th>order_purchase_timestamp</th>\n",
              "      <th>order_approved_at</th>\n",
              "      <th>order_delivered_carrier_date</th>\n",
              "      <th>order_delivered_customer_date</th>\n",
              "      <th>order_estimated_delivery_date</th>\n",
              "      <th>delivery_time_day</th>\n",
              "    </tr>\n",
              "  </thead>\n",
              "  <tbody>\n",
              "    <tr>\n",
              "      <th>5</th>\n",
              "      <td>879864dab9bc3047522c92c82e1212b8</td>\n",
              "      <td>4c93744516667ad3b8f1fb645a3116a4</td>\n",
              "      <td>89254</td>\n",
              "      <td>jaragua do sul</td>\n",
              "      <td>SC</td>\n",
              "      <td>5741ea1f91b5fbab2bd2dc653a5b5099</td>\n",
              "      <td>delivered</td>\n",
              "      <td>2017-09-14 18:14:31</td>\n",
              "      <td>2017-09-14 18:25:11</td>\n",
              "      <td>2017-09-18 21:27:40</td>\n",
              "      <td>2017-09-28 17:32:43</td>\n",
              "      <td>2017-10-04</td>\n",
              "      <td>9</td>\n",
              "    </tr>\n",
              "    <tr>\n",
              "      <th>7</th>\n",
              "      <td>5e274e7a0c3809e14aba7ad5aae0d407</td>\n",
              "      <td>57b2a98a409812fe9618067b6b8ebe4f</td>\n",
              "      <td>35182</td>\n",
              "      <td>timoteo</td>\n",
              "      <td>MG</td>\n",
              "      <td>1093c8304c7a003280dd34598194913d</td>\n",
              "      <td>delivered</td>\n",
              "      <td>2017-11-16 19:29:02</td>\n",
              "      <td>2017-11-16 19:55:41</td>\n",
              "      <td>2017-11-22 16:46:33</td>\n",
              "      <td>2017-11-27 12:44:36</td>\n",
              "      <td>2017-12-08</td>\n",
              "      <td>4</td>\n",
              "    </tr>\n",
              "    <tr>\n",
              "      <th>10</th>\n",
              "      <td>9fb35e4ed6f0a14a4977cd9aea4042bb</td>\n",
              "      <td>2a7745e1ed516b289ed9b29c7d0539a5</td>\n",
              "      <td>39400</td>\n",
              "      <td>montes claros</td>\n",
              "      <td>MG</td>\n",
              "      <td>8428e578bb1cf839ae26a6b7615502b9</td>\n",
              "      <td>delivered</td>\n",
              "      <td>2017-11-27 17:23:20</td>\n",
              "      <td>2017-11-27 18:01:20</td>\n",
              "      <td>2017-11-28 23:04:41</td>\n",
              "      <td>2017-12-08 22:16:17</td>\n",
              "      <td>2017-12-20</td>\n",
              "      <td>9</td>\n",
              "    </tr>\n",
              "    <tr>\n",
              "      <th>12</th>\n",
              "      <td>b2d1536598b73a9abd18e0d75d92f0a3</td>\n",
              "      <td>918dc87cd72cd9f6ed4bd442ed785235</td>\n",
              "      <td>18682</td>\n",
              "      <td>lencois paulista</td>\n",
              "      <td>SP</td>\n",
              "      <td>83d8f70418eefd96f37b483dff430305</td>\n",
              "      <td>delivered</td>\n",
              "      <td>2017-09-09 09:54:57</td>\n",
              "      <td>2017-09-09 10:10:17</td>\n",
              "      <td>2017-09-12 12:42:43</td>\n",
              "      <td>2017-09-20 20:23:34</td>\n",
              "      <td>2017-10-02</td>\n",
              "      <td>8</td>\n",
              "    </tr>\n",
              "    <tr>\n",
              "      <th>19</th>\n",
              "      <td>49d0ea0986edde72da777f15456a0ee0</td>\n",
              "      <td>3e6fd6b2f0d499456a6a6820a40f2d79</td>\n",
              "      <td>68485</td>\n",
              "      <td>pacaja</td>\n",
              "      <td>PA</td>\n",
              "      <td>ab797176e01c2fa3d13aa1fe3e63d9ee</td>\n",
              "      <td>delivered</td>\n",
              "      <td>2017-11-01 21:54:10</td>\n",
              "      <td>2017-11-01 22:06:00</td>\n",
              "      <td>2017-11-06 15:43:02</td>\n",
              "      <td>2017-12-02 01:09:29</td>\n",
              "      <td>2017-12-12</td>\n",
              "      <td>25</td>\n",
              "    </tr>\n",
              "    <tr>\n",
              "      <th>...</th>\n",
              "      <td>...</td>\n",
              "      <td>...</td>\n",
              "      <td>...</td>\n",
              "      <td>...</td>\n",
              "      <td>...</td>\n",
              "      <td>...</td>\n",
              "      <td>...</td>\n",
              "      <td>...</td>\n",
              "      <td>...</td>\n",
              "      <td>...</td>\n",
              "      <td>...</td>\n",
              "      <td>...</td>\n",
              "      <td>...</td>\n",
              "    </tr>\n",
              "    <tr>\n",
              "      <th>99414</th>\n",
              "      <td>eabf770240659f7a6d09b11f12f10f89</td>\n",
              "      <td>065b9e6198f11dbdf7fc1250f9e08afc</td>\n",
              "      <td>19905</td>\n",
              "      <td>ourinhos</td>\n",
              "      <td>SP</td>\n",
              "      <td>9524a52b2633d2f96da98b947c60a4de</td>\n",
              "      <td>delivered</td>\n",
              "      <td>2017-11-08 12:41:52</td>\n",
              "      <td>2017-11-08 13:30:46</td>\n",
              "      <td>2017-11-14 16:08:53</td>\n",
              "      <td>2017-11-21 18:57:38</td>\n",
              "      <td>2017-12-14</td>\n",
              "      <td>7</td>\n",
              "    </tr>\n",
              "    <tr>\n",
              "      <th>99423</th>\n",
              "      <td>c6ece8a5137f3c9c3a3a12302a19a2ac</td>\n",
              "      <td>aaf22868003377e859049dcf5f0b3fdf</td>\n",
              "      <td>1323</td>\n",
              "      <td>sao paulo</td>\n",
              "      <td>SP</td>\n",
              "      <td>52b783557d95971d0b42195e6bacdc68</td>\n",
              "      <td>delivered</td>\n",
              "      <td>2017-10-20 07:16:27</td>\n",
              "      <td>2017-10-20 07:28:14</td>\n",
              "      <td>2017-10-23 19:13:38</td>\n",
              "      <td>2017-10-24 17:03:38</td>\n",
              "      <td>2017-11-01</td>\n",
              "      <td>0</td>\n",
              "    </tr>\n",
              "    <tr>\n",
              "      <th>99426</th>\n",
              "      <td>935993f47af1ed7d0715c26b686341c5</td>\n",
              "      <td>4452b8ef472646c4cc042cb31a291f3b</td>\n",
              "      <td>12236</td>\n",
              "      <td>sao jose dos campos</td>\n",
              "      <td>SP</td>\n",
              "      <td>e86b1b2dd48839d7351406434afb578d</td>\n",
              "      <td>delivered</td>\n",
              "      <td>2017-11-25 00:31:20</td>\n",
              "      <td>2017-11-25 02:33:11</td>\n",
              "      <td>2017-11-27 18:24:54</td>\n",
              "      <td>2017-12-04 21:13:10</td>\n",
              "      <td>2017-12-20</td>\n",
              "      <td>7</td>\n",
              "    </tr>\n",
              "    <tr>\n",
              "      <th>99429</th>\n",
              "      <td>1ed0c832c2dd99570a59260e71768bdf</td>\n",
              "      <td>82d46759af0369aad49084bacf85a6c3</td>\n",
              "      <td>37610</td>\n",
              "      <td>bom repouso</td>\n",
              "      <td>MG</td>\n",
              "      <td>51c6d2f460589fa7b65f2da51e860206</td>\n",
              "      <td>delivered</td>\n",
              "      <td>2017-11-14 12:04:09</td>\n",
              "      <td>2017-11-14 12:15:25</td>\n",
              "      <td>2017-11-27 20:44:47</td>\n",
              "      <td>2017-12-19 19:37:33</td>\n",
              "      <td>2017-12-12</td>\n",
              "      <td>21</td>\n",
              "    </tr>\n",
              "    <tr>\n",
              "      <th>99439</th>\n",
              "      <td>56b18e2166679b8a959d72dd06da27f9</td>\n",
              "      <td>73c2643a0a458b49f58cea58833b192e</td>\n",
              "      <td>92120</td>\n",
              "      <td>canoas</td>\n",
              "      <td>RS</td>\n",
              "      <td>e31ec91cea1ecf97797787471f98a8c2</td>\n",
              "      <td>delivered</td>\n",
              "      <td>2017-11-03 21:08:33</td>\n",
              "      <td>2017-11-03 21:31:20</td>\n",
              "      <td>2017-11-06 18:24:41</td>\n",
              "      <td>2017-11-16 19:58:39</td>\n",
              "      <td>2017-12-05</td>\n",
              "      <td>10</td>\n",
              "    </tr>\n",
              "  </tbody>\n",
              "</table>\n",
              "<p>28008 rows × 13 columns</p>\n",
              "</div>"
            ],
            "text/plain": [
              "                            customer_id                customer_unique_id  \\\n",
              "5      879864dab9bc3047522c92c82e1212b8  4c93744516667ad3b8f1fb645a3116a4   \n",
              "7      5e274e7a0c3809e14aba7ad5aae0d407  57b2a98a409812fe9618067b6b8ebe4f   \n",
              "10     9fb35e4ed6f0a14a4977cd9aea4042bb  2a7745e1ed516b289ed9b29c7d0539a5   \n",
              "12     b2d1536598b73a9abd18e0d75d92f0a3  918dc87cd72cd9f6ed4bd442ed785235   \n",
              "19     49d0ea0986edde72da777f15456a0ee0  3e6fd6b2f0d499456a6a6820a40f2d79   \n",
              "...                                 ...                               ...   \n",
              "99414  eabf770240659f7a6d09b11f12f10f89  065b9e6198f11dbdf7fc1250f9e08afc   \n",
              "99423  c6ece8a5137f3c9c3a3a12302a19a2ac  aaf22868003377e859049dcf5f0b3fdf   \n",
              "99426  935993f47af1ed7d0715c26b686341c5  4452b8ef472646c4cc042cb31a291f3b   \n",
              "99429  1ed0c832c2dd99570a59260e71768bdf  82d46759af0369aad49084bacf85a6c3   \n",
              "99439  56b18e2166679b8a959d72dd06da27f9  73c2643a0a458b49f58cea58833b192e   \n",
              "\n",
              "       customer_zip_code_prefix        customer_city customer_state  \\\n",
              "5                         89254       jaragua do sul             SC   \n",
              "7                         35182              timoteo             MG   \n",
              "10                        39400        montes claros             MG   \n",
              "12                        18682     lencois paulista             SP   \n",
              "19                        68485               pacaja             PA   \n",
              "...                         ...                  ...            ...   \n",
              "99414                     19905             ourinhos             SP   \n",
              "99423                      1323            sao paulo             SP   \n",
              "99426                     12236  sao jose dos campos             SP   \n",
              "99429                     37610          bom repouso             MG   \n",
              "99439                     92120               canoas             RS   \n",
              "\n",
              "                               order_id order_status order_purchase_timestamp  \\\n",
              "5      5741ea1f91b5fbab2bd2dc653a5b5099    delivered      2017-09-14 18:14:31   \n",
              "7      1093c8304c7a003280dd34598194913d    delivered      2017-11-16 19:29:02   \n",
              "10     8428e578bb1cf839ae26a6b7615502b9    delivered      2017-11-27 17:23:20   \n",
              "12     83d8f70418eefd96f37b483dff430305    delivered      2017-09-09 09:54:57   \n",
              "19     ab797176e01c2fa3d13aa1fe3e63d9ee    delivered      2017-11-01 21:54:10   \n",
              "...                                 ...          ...                      ...   \n",
              "99414  9524a52b2633d2f96da98b947c60a4de    delivered      2017-11-08 12:41:52   \n",
              "99423  52b783557d95971d0b42195e6bacdc68    delivered      2017-10-20 07:16:27   \n",
              "99426  e86b1b2dd48839d7351406434afb578d    delivered      2017-11-25 00:31:20   \n",
              "99429  51c6d2f460589fa7b65f2da51e860206    delivered      2017-11-14 12:04:09   \n",
              "99439  e31ec91cea1ecf97797787471f98a8c2    delivered      2017-11-03 21:08:33   \n",
              "\n",
              "        order_approved_at order_delivered_carrier_date  \\\n",
              "5     2017-09-14 18:25:11          2017-09-18 21:27:40   \n",
              "7     2017-11-16 19:55:41          2017-11-22 16:46:33   \n",
              "10    2017-11-27 18:01:20          2017-11-28 23:04:41   \n",
              "12    2017-09-09 10:10:17          2017-09-12 12:42:43   \n",
              "19    2017-11-01 22:06:00          2017-11-06 15:43:02   \n",
              "...                   ...                          ...   \n",
              "99414 2017-11-08 13:30:46          2017-11-14 16:08:53   \n",
              "99423 2017-10-20 07:28:14          2017-10-23 19:13:38   \n",
              "99426 2017-11-25 02:33:11          2017-11-27 18:24:54   \n",
              "99429 2017-11-14 12:15:25          2017-11-27 20:44:47   \n",
              "99439 2017-11-03 21:31:20          2017-11-06 18:24:41   \n",
              "\n",
              "      order_delivered_customer_date order_estimated_delivery_date  \\\n",
              "5               2017-09-28 17:32:43                    2017-10-04   \n",
              "7               2017-11-27 12:44:36                    2017-12-08   \n",
              "10              2017-12-08 22:16:17                    2017-12-20   \n",
              "12              2017-09-20 20:23:34                    2017-10-02   \n",
              "19              2017-12-02 01:09:29                    2017-12-12   \n",
              "...                             ...                           ...   \n",
              "99414           2017-11-21 18:57:38                    2017-12-14   \n",
              "99423           2017-10-24 17:03:38                    2017-11-01   \n",
              "99426           2017-12-04 21:13:10                    2017-12-20   \n",
              "99429           2017-12-19 19:37:33                    2017-12-12   \n",
              "99439           2017-11-16 19:58:39                    2017-12-05   \n",
              "\n",
              "       delivery_time_day  \n",
              "5                      9  \n",
              "7                      4  \n",
              "10                     9  \n",
              "12                     8  \n",
              "19                    25  \n",
              "...                  ...  \n",
              "99414                  7  \n",
              "99423                  0  \n",
              "99426                  7  \n",
              "99429                 21  \n",
              "99439                 10  \n",
              "\n",
              "[28008 rows x 13 columns]"
            ]
          },
          "execution_count": 25,
          "metadata": {},
          "output_type": "execute_result"
        }
      ],
      "source": [
        "#Penambahan kolom delivery_time_day pada data frame filtered_date_df guna menghitung hari yang dibutuhkan untuk mengirim barang\n",
        "filtered_date_df[\"delivery_time_day\"] = ((\n",
        "    filtered_date_df[\"order_delivered_customer_date\"] - filtered_date_df[\"order_delivered_carrier_date\"]\n",
        "    ).dt.days )\n",
        "\n",
        "filtered_date_df = filtered_date_df[filtered_date_df[\"delivery_time_day\"] >= 0]\n",
        "\n",
        "filtered_date_df"
      ]
    },
    {
      "cell_type": "code",
      "execution_count": 26,
      "metadata": {
        "colab": {
          "base_uri": "https://localhost:8080/",
          "height": 423
        },
        "id": "59QxhcB2Tsfx",
        "outputId": "7dea0260-8e47-4085-c87b-8dbad03cba5a"
      },
      "outputs": [
        {
          "data": {
            "application/vnd.microsoft.datawrangler.viewer.v0+json": {
              "columns": [
                {
                  "name": "index",
                  "rawType": "int64",
                  "type": "integer"
                },
                {
                  "name": "customer_city",
                  "rawType": "object",
                  "type": "string"
                },
                {
                  "name": "delivery_time_day",
                  "rawType": "float64",
                  "type": "float"
                }
              ],
              "conversionMethod": "pd.DataFrame",
              "ref": "0f3c6db6-bea2-4081-b3ff-19373eaf30e4",
              "rows": [
                [
                  "223",
                  "baguari",
                  "306.0"
                ],
                [
                  "593",
                  "caturama",
                  "248.0"
                ],
                [
                  "2689",
                  "vigia",
                  "205.0"
                ],
                [
                  "2573",
                  "tombos",
                  "144.0"
                ],
                [
                  "1712",
                  "olindina",
                  "121.5"
                ],
                [
                  "2261",
                  "santo antonio do jacinto",
                  "120.33333333333333"
                ],
                [
                  "1606",
                  "muliterno",
                  "119.0"
                ],
                [
                  "2355",
                  "sao lourenco da mata",
                  "117.5"
                ],
                [
                  "1370",
                  "lajedo",
                  "111.0"
                ],
                [
                  "552",
                  "carlos chagas",
                  "102.0"
                ],
                [
                  "16",
                  "adhemar de barros",
                  "92.0"
                ],
                [
                  "385",
                  "cabedelo",
                  "92.0"
                ],
                [
                  "2030",
                  "quintana",
                  "74.5"
                ],
                [
                  "7",
                  "abrantes",
                  "74.0"
                ],
                [
                  "1530",
                  "miguel calmon",
                  "73.0"
                ],
                [
                  "1103",
                  "inhambupe",
                  "71.0"
                ],
                [
                  "2709",
                  "vitoria do mearim",
                  "70.0"
                ],
                [
                  "1014",
                  "herval",
                  "67.0"
                ],
                [
                  "2514",
                  "tangara da serra",
                  "64.5"
                ],
                [
                  "2266",
                  "santo augusto",
                  "63.333333333333336"
                ],
                [
                  "2503",
                  "tacaratu",
                  "61.0"
                ],
                [
                  "2413",
                  "sapiranga",
                  "60.714285714285715"
                ],
                [
                  "1510",
                  "matoes do norte",
                  "60.0"
                ],
                [
                  "1633",
                  "niquelandia",
                  "59.4"
                ],
                [
                  "2688",
                  "videira",
                  "57.06666666666667"
                ],
                [
                  "1049",
                  "ibiraja",
                  "56.0"
                ],
                [
                  "1987",
                  "posse",
                  "53.833333333333336"
                ],
                [
                  "249",
                  "barra de santa rosa",
                  "53.0"
                ],
                [
                  "2718",
                  "xangri-la",
                  "53.0"
                ],
                [
                  "259",
                  "barra dos coqueiros",
                  "53.0"
                ],
                [
                  "746",
                  "cruzeiro do sul",
                  "51.0"
                ],
                [
                  "1776",
                  "paragominas",
                  "50.5"
                ],
                [
                  "132",
                  "aquiraz",
                  "47.0"
                ],
                [
                  "988",
                  "guarabira",
                  "47.0"
                ],
                [
                  "2623",
                  "umbauba",
                  "46.0"
                ],
                [
                  "522",
                  "capinzal do norte",
                  "45.0"
                ],
                [
                  "1223",
                  "itatiaiucu",
                  "45.0"
                ],
                [
                  "2609",
                  "turmalina",
                  "44.0"
                ],
                [
                  "953",
                  "goncalves dias",
                  "44.0"
                ],
                [
                  "1355",
                  "lagoa da canoa",
                  "43.0"
                ],
                [
                  "1285",
                  "japi",
                  "43.0"
                ],
                [
                  "461",
                  "campinapolis",
                  "42.0"
                ],
                [
                  "2373",
                  "sao miguel do gostoso",
                  "42.0"
                ],
                [
                  "2677",
                  "vera cruz",
                  "42.0"
                ],
                [
                  "199",
                  "ascurra",
                  "41.0"
                ],
                [
                  "177",
                  "arembepe",
                  "41.0"
                ],
                [
                  "1177",
                  "itambe",
                  "40.666666666666664"
                ],
                [
                  "1110",
                  "ipameri",
                  "40.333333333333336"
                ],
                [
                  "614",
                  "ceu azul",
                  "40.0"
                ],
                [
                  "2724",
                  "ze doca",
                  "40.0"
                ]
              ],
              "shape": {
                "columns": 2,
                "rows": 2726
              }
            },
            "text/html": [
              "<div>\n",
              "<style scoped>\n",
              "    .dataframe tbody tr th:only-of-type {\n",
              "        vertical-align: middle;\n",
              "    }\n",
              "\n",
              "    .dataframe tbody tr th {\n",
              "        vertical-align: top;\n",
              "    }\n",
              "\n",
              "    .dataframe thead th {\n",
              "        text-align: right;\n",
              "    }\n",
              "</style>\n",
              "<table border=\"1\" class=\"dataframe\">\n",
              "  <thead>\n",
              "    <tr style=\"text-align: right;\">\n",
              "      <th></th>\n",
              "      <th>customer_city</th>\n",
              "      <th>delivery_time_day</th>\n",
              "    </tr>\n",
              "  </thead>\n",
              "  <tbody>\n",
              "    <tr>\n",
              "      <th>223</th>\n",
              "      <td>baguari</td>\n",
              "      <td>306.0</td>\n",
              "    </tr>\n",
              "    <tr>\n",
              "      <th>593</th>\n",
              "      <td>caturama</td>\n",
              "      <td>248.0</td>\n",
              "    </tr>\n",
              "    <tr>\n",
              "      <th>2689</th>\n",
              "      <td>vigia</td>\n",
              "      <td>205.0</td>\n",
              "    </tr>\n",
              "    <tr>\n",
              "      <th>2573</th>\n",
              "      <td>tombos</td>\n",
              "      <td>144.0</td>\n",
              "    </tr>\n",
              "    <tr>\n",
              "      <th>1712</th>\n",
              "      <td>olindina</td>\n",
              "      <td>121.5</td>\n",
              "    </tr>\n",
              "    <tr>\n",
              "      <th>...</th>\n",
              "      <td>...</td>\n",
              "      <td>...</td>\n",
              "    </tr>\n",
              "    <tr>\n",
              "      <th>113</th>\n",
              "      <td>anta</td>\n",
              "      <td>1.0</td>\n",
              "    </tr>\n",
              "    <tr>\n",
              "      <th>2605</th>\n",
              "      <td>tupancireta</td>\n",
              "      <td>1.0</td>\n",
              "    </tr>\n",
              "    <tr>\n",
              "      <th>50</th>\n",
              "      <td>alexania</td>\n",
              "      <td>1.0</td>\n",
              "    </tr>\n",
              "    <tr>\n",
              "      <th>776</th>\n",
              "      <td>dionisio</td>\n",
              "      <td>1.0</td>\n",
              "    </tr>\n",
              "    <tr>\n",
              "      <th>1916</th>\n",
              "      <td>pirapora do bom jesus</td>\n",
              "      <td>1.0</td>\n",
              "    </tr>\n",
              "  </tbody>\n",
              "</table>\n",
              "<p>2726 rows × 2 columns</p>\n",
              "</div>"
            ],
            "text/plain": [
              "              customer_city  delivery_time_day\n",
              "223                 baguari              306.0\n",
              "593                caturama              248.0\n",
              "2689                  vigia              205.0\n",
              "2573                 tombos              144.0\n",
              "1712               olindina              121.5\n",
              "...                     ...                ...\n",
              "113                    anta                1.0\n",
              "2605            tupancireta                1.0\n",
              "50                 alexania                1.0\n",
              "776                dionisio                1.0\n",
              "1916  pirapora do bom jesus                1.0\n",
              "\n",
              "[2726 rows x 2 columns]"
            ]
          },
          "execution_count": 26,
          "metadata": {},
          "output_type": "execute_result"
        }
      ],
      "source": [
        "#Pembuatan tabel untuk mencari tau berapa waktu yang dibutuhkan untuk mengirim barang\n",
        "delivery_time_city = (\n",
        "    filtered_date_df.groupby([\"customer_city\"])\n",
        "    .delivery_time_day.mean()\n",
        "    .reset_index()\n",
        "    .rename(columns={\"delivery_time_day\": \"delivery_time_day\"})\n",
        "    .sort_values(by=\"delivery_time_day\", ascending=False)\n",
        ")\n",
        "\n",
        "delivery_time_city"
      ]
    },
    {
      "cell_type": "code",
      "execution_count": 27,
      "metadata": {},
      "outputs": [
        {
          "data": {
            "application/vnd.microsoft.datawrangler.viewer.v0+json": {
              "columns": [
                {
                  "name": "index",
                  "rawType": "int64",
                  "type": "integer"
                },
                {
                  "name": "customer_zip_code_prefix",
                  "rawType": "int64",
                  "type": "integer"
                },
                {
                  "name": "customer_city",
                  "rawType": "object",
                  "type": "string"
                },
                {
                  "name": "geolocation_zip_code_prefix",
                  "rawType": "float64",
                  "type": "float"
                },
                {
                  "name": "geolocation_lat",
                  "rawType": "float64",
                  "type": "float"
                },
                {
                  "name": "geolocation_lng",
                  "rawType": "float64",
                  "type": "float"
                }
              ],
              "conversionMethod": "pd.DataFrame",
              "ref": "a5ef42b8-afb8-4adc-9eec-2654a8f17cfa",
              "rows": [
                [
                  "0",
                  "89254",
                  "jaragua do sul",
                  "89254.0",
                  "-26.46850294670808",
                  "-49.109883098307336"
                ],
                [
                  "1",
                  "89254",
                  "jaragua do sul",
                  "89254.0",
                  "-26.48127806301567",
                  "-49.116976365803005"
                ],
                [
                  "2",
                  "89254",
                  "jaragua do sul",
                  "89254.0",
                  "-26.467770425212",
                  "-49.10826240660166"
                ],
                [
                  "3",
                  "89254",
                  "jaragua do sul",
                  "89254.0",
                  "-26.48082777536488",
                  "-49.12236549861839"
                ],
                [
                  "4",
                  "89254",
                  "jaragua do sul",
                  "89254.0",
                  "-26.4738640753957",
                  "-49.10168910958495"
                ],
                [
                  "5",
                  "89254",
                  "jaragua do sul",
                  "89254.0",
                  "-26.47015133801814",
                  "-49.12665515735774"
                ],
                [
                  "6",
                  "89254",
                  "jaragua do sul",
                  "89254.0",
                  "-26.46084097202973",
                  "-49.11335391671437"
                ],
                [
                  "7",
                  "89254",
                  "jaragua do sul",
                  "89254.0",
                  "-26.464934536211032",
                  "-49.11738140743839"
                ],
                [
                  "8",
                  "89254",
                  "jaragua do sul",
                  "89254.0",
                  "-26.465237318627704",
                  "-49.12353775757393"
                ],
                [
                  "9",
                  "89254",
                  "jaragua do sul",
                  "89254.0",
                  "-26.478861820705177",
                  "-49.10646258341501"
                ],
                [
                  "10",
                  "89254",
                  "jaragua do sul",
                  "89254.0",
                  "-26.45395067998731",
                  "-49.12154249627775"
                ],
                [
                  "11",
                  "89254",
                  "jaragua do sul",
                  "89254.0",
                  "-26.469255261631517",
                  "-49.11259381059721"
                ],
                [
                  "12",
                  "89254",
                  "jaragua do sul",
                  "89254.0",
                  "-26.46195634139297",
                  "-49.11456232278264"
                ],
                [
                  "13",
                  "89254",
                  "jaragua do sul",
                  "89254.0",
                  "-26.48152270672872",
                  "-49.10640107616901"
                ],
                [
                  "14",
                  "89254",
                  "jaragua do sul",
                  "89254.0",
                  "-26.468037110705986",
                  "-49.10894278309902"
                ],
                [
                  "15",
                  "89254",
                  "jaragua do sul",
                  "89254.0",
                  "-26.47956881903173",
                  "-49.10334718177633"
                ],
                [
                  "16",
                  "89254",
                  "jaragua do sul",
                  "89254.0",
                  "-26.47831246378896",
                  "-49.10965158090482"
                ],
                [
                  "17",
                  "89254",
                  "jaragua do sul",
                  "89254.0",
                  "-26.47416838665387",
                  "-49.108536819923216"
                ],
                [
                  "18",
                  "89254",
                  "jaragua do sul",
                  "89254.0",
                  "-26.47416838665387",
                  "-49.108536819923216"
                ],
                [
                  "19",
                  "89254",
                  "jaragua do sul",
                  "89254.0",
                  "-26.48185730004604",
                  "-49.1344737901783"
                ],
                [
                  "20",
                  "89254",
                  "jaragua do sul",
                  "89254.0",
                  "-26.455492943189427",
                  "-49.11391878611455"
                ],
                [
                  "21",
                  "89254",
                  "jaragua do sul",
                  "89254.0",
                  "-26.4728512965566",
                  "-49.10560355789313"
                ],
                [
                  "22",
                  "89254",
                  "jaragua do sul",
                  "89254.0",
                  "-26.465307339431064",
                  "-49.11950972733552"
                ],
                [
                  "23",
                  "89254",
                  "jaragua do sul",
                  "89254.0",
                  "-26.48430726124999",
                  "-49.12043404623368"
                ],
                [
                  "24",
                  "89254",
                  "jaragua do sul",
                  "89254.0",
                  "-26.4817011468347",
                  "-49.11912706189049"
                ],
                [
                  "25",
                  "89254",
                  "jaragua do sul",
                  "89254.0",
                  "-26.485955615349148",
                  "-49.11569131820199"
                ],
                [
                  "26",
                  "89254",
                  "jaragua do sul",
                  "89254.0",
                  "-26.4773970313636",
                  "-49.10702177448215"
                ],
                [
                  "27",
                  "89254",
                  "jaragua do sul",
                  "89254.0",
                  "-26.47903507067289",
                  "-49.10413724287039"
                ],
                [
                  "28",
                  "89254",
                  "jaragua do sul",
                  "89254.0",
                  "-26.449965481822364",
                  "-49.11893089104976"
                ],
                [
                  "29",
                  "89254",
                  "jaragua do sul",
                  "89254.0",
                  "-26.46027640730212",
                  "-49.11168039343155"
                ],
                [
                  "30",
                  "89254",
                  "jaragua do sul",
                  "89254.0",
                  "-26.46516286536363",
                  "-49.11842462591887"
                ],
                [
                  "31",
                  "89254",
                  "jaragua do sul",
                  "89254.0",
                  "-26.477270077990653",
                  "-49.10707166002066"
                ],
                [
                  "32",
                  "89254",
                  "jaragua do sul",
                  "89254.0",
                  "-26.463144446303826",
                  "-49.12469865211481"
                ],
                [
                  "33",
                  "89254",
                  "jaragua do sul",
                  "89254.0",
                  "-26.481816031363604",
                  "-49.12103328169551"
                ],
                [
                  "34",
                  "89254",
                  "jaragua do sul",
                  "89254.0",
                  "-26.47746627505908",
                  "-49.105241608229086"
                ],
                [
                  "35",
                  "89254",
                  "jaragua do sul",
                  "89254.0",
                  "-26.47220487497157",
                  "-49.105572817561416"
                ],
                [
                  "36",
                  "89254",
                  "jaragua do sul",
                  "89254.0",
                  "-26.469255261631517",
                  "-49.11259381059721"
                ],
                [
                  "37",
                  "89254",
                  "jaragua do sul",
                  "89254.0",
                  "-26.4806959977783",
                  "-49.10343152885344"
                ],
                [
                  "38",
                  "89254",
                  "jaragua do sul",
                  "89254.0",
                  "-26.47072609325409",
                  "-49.107455476542256"
                ],
                [
                  "39",
                  "89254",
                  "jaragua do sul",
                  "89254.0",
                  "-26.463431754659748",
                  "-49.11947569735688"
                ],
                [
                  "40",
                  "89254",
                  "jaragua do sul",
                  "89254.0",
                  "-26.478955404493497",
                  "-49.10909372469643"
                ],
                [
                  "41",
                  "89254",
                  "jaragua do sul",
                  "89254.0",
                  "-26.463906691644077",
                  "-49.11458400054825"
                ],
                [
                  "42",
                  "89254",
                  "jaragua do sul",
                  "89254.0",
                  "-26.463906691644077",
                  "-49.11458400054825"
                ],
                [
                  "43",
                  "89254",
                  "jaragua do sul",
                  "89254.0",
                  "-26.469255261631517",
                  "-49.11259381059721"
                ],
                [
                  "44",
                  "89254",
                  "jaragua do sul",
                  "89254.0",
                  "-26.456472230365268",
                  "-49.11789043822508"
                ],
                [
                  "45",
                  "89254",
                  "jaragua do sul",
                  "89254.0",
                  "-26.480577594494843",
                  "-49.11154281709849"
                ],
                [
                  "46",
                  "89254",
                  "jaragua do sul",
                  "89254.0",
                  "-26.47116535469451",
                  "-49.13230360075592"
                ],
                [
                  "47",
                  "89254",
                  "jaragua do sul",
                  "89254.0",
                  "-26.475470256997014",
                  "-49.09964748958398"
                ],
                [
                  "48",
                  "89254",
                  "jaragua do sul",
                  "89254.0",
                  "-26.48127806301567",
                  "-49.116976365803005"
                ],
                [
                  "49",
                  "89254",
                  "jaragua do sul",
                  "89254.0",
                  "-26.45107660202549",
                  "-49.12810444490383"
                ]
              ],
              "shape": {
                "columns": 5,
                "rows": 4281687
              }
            },
            "text/html": [
              "<div>\n",
              "<style scoped>\n",
              "    .dataframe tbody tr th:only-of-type {\n",
              "        vertical-align: middle;\n",
              "    }\n",
              "\n",
              "    .dataframe tbody tr th {\n",
              "        vertical-align: top;\n",
              "    }\n",
              "\n",
              "    .dataframe thead th {\n",
              "        text-align: right;\n",
              "    }\n",
              "</style>\n",
              "<table border=\"1\" class=\"dataframe\">\n",
              "  <thead>\n",
              "    <tr style=\"text-align: right;\">\n",
              "      <th></th>\n",
              "      <th>customer_zip_code_prefix</th>\n",
              "      <th>customer_city</th>\n",
              "      <th>geolocation_zip_code_prefix</th>\n",
              "      <th>geolocation_lat</th>\n",
              "      <th>geolocation_lng</th>\n",
              "    </tr>\n",
              "  </thead>\n",
              "  <tbody>\n",
              "    <tr>\n",
              "      <th>0</th>\n",
              "      <td>89254</td>\n",
              "      <td>jaragua do sul</td>\n",
              "      <td>89254.0</td>\n",
              "      <td>-26.468503</td>\n",
              "      <td>-49.109883</td>\n",
              "    </tr>\n",
              "    <tr>\n",
              "      <th>1</th>\n",
              "      <td>89254</td>\n",
              "      <td>jaragua do sul</td>\n",
              "      <td>89254.0</td>\n",
              "      <td>-26.481278</td>\n",
              "      <td>-49.116976</td>\n",
              "    </tr>\n",
              "    <tr>\n",
              "      <th>2</th>\n",
              "      <td>89254</td>\n",
              "      <td>jaragua do sul</td>\n",
              "      <td>89254.0</td>\n",
              "      <td>-26.467770</td>\n",
              "      <td>-49.108262</td>\n",
              "    </tr>\n",
              "    <tr>\n",
              "      <th>3</th>\n",
              "      <td>89254</td>\n",
              "      <td>jaragua do sul</td>\n",
              "      <td>89254.0</td>\n",
              "      <td>-26.480828</td>\n",
              "      <td>-49.122365</td>\n",
              "    </tr>\n",
              "    <tr>\n",
              "      <th>4</th>\n",
              "      <td>89254</td>\n",
              "      <td>jaragua do sul</td>\n",
              "      <td>89254.0</td>\n",
              "      <td>-26.473864</td>\n",
              "      <td>-49.101689</td>\n",
              "    </tr>\n",
              "    <tr>\n",
              "      <th>...</th>\n",
              "      <td>...</td>\n",
              "      <td>...</td>\n",
              "      <td>...</td>\n",
              "      <td>...</td>\n",
              "      <td>...</td>\n",
              "    </tr>\n",
              "    <tr>\n",
              "      <th>4281682</th>\n",
              "      <td>92120</td>\n",
              "      <td>canoas</td>\n",
              "      <td>92120.0</td>\n",
              "      <td>-29.945771</td>\n",
              "      <td>-51.162390</td>\n",
              "    </tr>\n",
              "    <tr>\n",
              "      <th>4281683</th>\n",
              "      <td>92120</td>\n",
              "      <td>canoas</td>\n",
              "      <td>92120.0</td>\n",
              "      <td>-29.944954</td>\n",
              "      <td>-51.164778</td>\n",
              "    </tr>\n",
              "    <tr>\n",
              "      <th>4281684</th>\n",
              "      <td>92120</td>\n",
              "      <td>canoas</td>\n",
              "      <td>92120.0</td>\n",
              "      <td>-29.950813</td>\n",
              "      <td>-51.170203</td>\n",
              "    </tr>\n",
              "    <tr>\n",
              "      <th>4281685</th>\n",
              "      <td>92120</td>\n",
              "      <td>canoas</td>\n",
              "      <td>92120.0</td>\n",
              "      <td>-29.949313</td>\n",
              "      <td>-51.156308</td>\n",
              "    </tr>\n",
              "    <tr>\n",
              "      <th>4281686</th>\n",
              "      <td>92120</td>\n",
              "      <td>canoas</td>\n",
              "      <td>92120.0</td>\n",
              "      <td>-29.955478</td>\n",
              "      <td>-51.169328</td>\n",
              "    </tr>\n",
              "  </tbody>\n",
              "</table>\n",
              "<p>4281687 rows × 5 columns</p>\n",
              "</div>"
            ],
            "text/plain": [
              "         customer_zip_code_prefix   customer_city  \\\n",
              "0                           89254  jaragua do sul   \n",
              "1                           89254  jaragua do sul   \n",
              "2                           89254  jaragua do sul   \n",
              "3                           89254  jaragua do sul   \n",
              "4                           89254  jaragua do sul   \n",
              "...                           ...             ...   \n",
              "4281682                     92120          canoas   \n",
              "4281683                     92120          canoas   \n",
              "4281684                     92120          canoas   \n",
              "4281685                     92120          canoas   \n",
              "4281686                     92120          canoas   \n",
              "\n",
              "         geolocation_zip_code_prefix  geolocation_lat  geolocation_lng  \n",
              "0                            89254.0       -26.468503       -49.109883  \n",
              "1                            89254.0       -26.481278       -49.116976  \n",
              "2                            89254.0       -26.467770       -49.108262  \n",
              "3                            89254.0       -26.480828       -49.122365  \n",
              "4                            89254.0       -26.473864       -49.101689  \n",
              "...                              ...              ...              ...  \n",
              "4281682                      92120.0       -29.945771       -51.162390  \n",
              "4281683                      92120.0       -29.944954       -51.164778  \n",
              "4281684                      92120.0       -29.950813       -51.170203  \n",
              "4281685                      92120.0       -29.949313       -51.156308  \n",
              "4281686                      92120.0       -29.955478       -51.169328  \n",
              "\n",
              "[4281687 rows x 5 columns]"
            ]
          },
          "execution_count": 27,
          "metadata": {},
          "output_type": "execute_result"
        }
      ],
      "source": [
        "\n",
        "#Pegabungan tabel delivery time dan geolocation untuk mencari tau koordinat lokasi kota\n",
        "temp_filtered_date_df = filtered_date_df[[\"customer_zip_code_prefix\", \"customer_city\"]]\n",
        "geolocation_df = geolocation_df[[\"geolocation_zip_code_prefix\", \"geolocation_lat\", \"geolocation_lng\"]]\n",
        "\n",
        "delivery_location_df = temp_filtered_date_df.merge(\n",
        "    geolocation_df[['geolocation_zip_code_prefix', 'geolocation_lat', 'geolocation_lng']],\n",
        "    left_on=\"customer_zip_code_prefix\",\n",
        "    right_on=\"geolocation_zip_code_prefix\",\n",
        "    how=\"left\"\n",
        ")\n",
        "\n",
        "delivery_location_df"
      ]
    },
    {
      "cell_type": "code",
      "execution_count": 28,
      "metadata": {},
      "outputs": [
        {
          "name": "stdout",
          "output_type": "stream",
          "text": [
            "<class 'pandas.core.frame.DataFrame'>\n",
            "RangeIndex: 4281687 entries, 0 to 4281686\n",
            "Data columns (total 5 columns):\n",
            " #   Column                       Dtype  \n",
            "---  ------                       -----  \n",
            " 0   customer_zip_code_prefix     int64  \n",
            " 1   customer_city                object \n",
            " 2   geolocation_zip_code_prefix  float64\n",
            " 3   geolocation_lat              float64\n",
            " 4   geolocation_lng              float64\n",
            "dtypes: float64(3), int64(1), object(1)\n",
            "memory usage: 163.3+ MB\n"
          ]
        }
      ],
      "source": [
        "#Pengecekan data secara umum\n",
        "delivery_location_df.info()"
      ]
    },
    {
      "cell_type": "code",
      "execution_count": 29,
      "metadata": {},
      "outputs": [
        {
          "data": {
            "text/plain": [
              "customer_zip_code_prefix        0\n",
              "customer_city                   0\n",
              "geolocation_zip_code_prefix    82\n",
              "geolocation_lat                82\n",
              "geolocation_lng                82\n",
              "dtype: int64"
            ]
          },
          "execution_count": 29,
          "metadata": {},
          "output_type": "execute_result"
        }
      ],
      "source": [
        "#Pengecekan data kosong pada data frame delivery location\n",
        "delivery_location_df.isna().sum()"
      ]
    },
    {
      "cell_type": "code",
      "execution_count": 30,
      "metadata": {},
      "outputs": [],
      "source": [
        "#Penghapusan data yang hilang menggunakan teknik drop pada df geolocation\n",
        "delivery_location_df = delivery_location_df.dropna(subset=['geolocation_lng', 'geolocation_lat'])"
      ]
    },
    {
      "cell_type": "markdown",
      "metadata": {
        "id": "th_Lzl2Fkj9O"
      },
      "source": [
        "**Insight:**\n",
        "- Berhasil membuat tabel customer count untuk mencari jumlah customer terbanyak untuk menjawab pertanyaan 1\n",
        "- Berhasil membuat tabel delivery time city untuk mencari waktu rata-rata yang dibutuhkan untuk mengirim barang dari tiap kota untuk menjawab pertanyaan 2\n",
        "- Berhasil membuat tabel delivery location df untuk mencari tau disribusi geografi pengiriman untuk menjawab pertanyaan 3"
      ]
    },
    {
      "cell_type": "markdown",
      "metadata": {
        "id": "zsyZjqak8DC2"
      },
      "source": [
        "## Visualization & Explanatory Analysis"
      ]
    },
    {
      "cell_type": "markdown",
      "metadata": {
        "id": "HZxOiQ6n8DC2"
      },
      "source": [
        "### Pertanyaan 1:"
      ]
    },
    {
      "cell_type": "code",
      "execution_count": 31,
      "metadata": {
        "colab": {
          "base_uri": "https://localhost:8080/",
          "height": 535
        },
        "id": "1swJUdAD8DC2",
        "outputId": "cedaaf4a-3c2a-450c-fd1d-19f0cf089bdd"
      },
      "outputs": [
        {
          "data": {
            "image/png": "[encoded data removed]",
            "text/plain": [
              "<Figure size 640x480 with 1 Axes>"
            ]
          },
          "metadata": {},
          "output_type": "display_data"
        }
      ],
      "source": [
        "visualization_customer = customer_counts.head(5)\n",
        "\n",
        "plt.bar(x = visualization_customer[\"customer_city\"], height = visualization_customer[\"customer_count\"])\n",
        "plt.xticks(rotation=45)\n",
        "plt.xlabel(\"Customer City\")\n",
        "plt.ylabel(\"Customer Count\")\n",
        "\n",
        "plt.show()\n",
        "\n",
        "visualization_customer.to_csv(\"dashboard/visualisasi_banyak_customer.csv\", index=False)"
      ]
    },
    {
      "cell_type": "markdown",
      "metadata": {
        "id": "DgHI7CiU8DC2"
      },
      "source": [
        "### Pertanyaan 2:"
      ]
    },
    {
      "cell_type": "code",
      "execution_count": 32,
      "metadata": {
        "colab": {
          "base_uri": "https://localhost:8080/",
          "height": 1000
        },
        "id": "Go0lCsvO8DC2",
        "outputId": "2e96567e-7974-4d57-c460-ca124508bc26"
      },
      "outputs": [
        {
          "data": {
            "image/png": "[encoded data removed]",
            "text/plain": [
              "<Figure size 640x480 with 1 Axes>"
            ]
          },
          "metadata": {},
          "output_type": "display_data"
        }
      ],
      "source": [
        "visualization_delivery_slowest = delivery_time_city.head(5)\n",
        "\n",
        "plt.bar(x = visualization_delivery_slowest[\"customer_city\"], height = visualization_delivery_slowest[\"delivery_time_day\"])\n",
        "plt.xticks(rotation = 45)\n",
        "plt.xlabel(\"Slowest Customer City\")\n",
        "plt.ylabel(\"Delivery Time Day\")\n",
        "plt.show()\n",
        "\n",
        "visualization_delivery_slowest.to_csv(\"dashboard/visualisasi_pengiriman_terlambat.csv\", index=False)"
      ]
    },
    {
      "cell_type": "code",
      "execution_count": 33,
      "metadata": {},
      "outputs": [
        {
          "data": {
            "image/png": "[encoded data removed]",
            "text/plain": [
              "<Figure size 640x480 with 1 Axes>"
            ]
          },
          "metadata": {},
          "output_type": "display_data"
        }
      ],
      "source": [
        "visualization_delivery_fastest = delivery_time_city.tail(5)\n",
        "\n",
        "plt.bar(x = visualization_delivery_fastest[\"customer_city\"], height = visualization_delivery_fastest[\"delivery_time_day\"])\n",
        "plt.xticks(rotation = 45)\n",
        "plt.xlabel(\"Fastest Customer City\")\n",
        "plt.ylabel(\"Delivery Time Day\")\n",
        "plt.show()\n",
        "\n",
        "visualization_delivery_fastest.to_csv(\"dashboard/visualisasi_pengiriman_tercepat.csv\", index=False)"
      ]
    },
    {
      "cell_type": "markdown",
      "metadata": {
        "id": "_0-36BDLklRg"
      },
      "source": [
        "**Insight:**\n",
        "- Berhasil dibuatnya visualisasi data untuk menjawab pertanyaan 1 dan 2."
      ]
    },
    {
      "cell_type": "markdown",
      "metadata": {
        "id": "9y4VUsmcYNZ5"
      },
      "source": [
        "## Analisis Lanjutan (Opsional)"
      ]
    },
    {
      "cell_type": "code",
      "execution_count": 34,
      "metadata": {
        "id": "iWhnzsJGYUCO"
      },
      "outputs": [],
      "source": [
        "import pandas as pd\n",
        "import geopandas as gpd\n",
        "from shapely.geometry import Point"
      ]
    },
    {
      "cell_type": "code",
      "execution_count": 35,
      "metadata": {},
      "outputs": [
        {
          "data": {
            "application/vnd.microsoft.datawrangler.viewer.v0+json": {
              "columns": [
                {
                  "name": "index",
                  "rawType": "int64",
                  "type": "integer"
                },
                {
                  "name": "customer_zip_code_prefix",
                  "rawType": "int64",
                  "type": "integer"
                },
                {
                  "name": "customer_city",
                  "rawType": "object",
                  "type": "string"
                },
                {
                  "name": "geolocation_zip_code_prefix",
                  "rawType": "float64",
                  "type": "float"
                },
                {
                  "name": "geolocation_lat",
                  "rawType": "float64",
                  "type": "float"
                },
                {
                  "name": "geolocation_lng",
                  "rawType": "float64",
                  "type": "float"
                }
              ],
              "conversionMethod": "pd.DataFrame",
              "ref": "9ae92ee4-baec-459d-b8e7-ed323f79a95a",
              "rows": [
                [
                  "0",
                  "89254",
                  "jaragua do sul",
                  "89254.0",
                  "-26.46850294670808",
                  "-49.109883098307336"
                ],
                [
                  "1",
                  "89254",
                  "jaragua do sul",
                  "89254.0",
                  "-26.48127806301567",
                  "-49.116976365803005"
                ],
                [
                  "2",
                  "89254",
                  "jaragua do sul",
                  "89254.0",
                  "-26.467770425212",
                  "-49.10826240660166"
                ],
                [
                  "3",
                  "89254",
                  "jaragua do sul",
                  "89254.0",
                  "-26.48082777536488",
                  "-49.12236549861839"
                ],
                [
                  "4",
                  "89254",
                  "jaragua do sul",
                  "89254.0",
                  "-26.4738640753957",
                  "-49.10168910958495"
                ]
              ],
              "shape": {
                "columns": 5,
                "rows": 5
              }
            },
            "text/html": [
              "<div>\n",
              "<style scoped>\n",
              "    .dataframe tbody tr th:only-of-type {\n",
              "        vertical-align: middle;\n",
              "    }\n",
              "\n",
              "    .dataframe tbody tr th {\n",
              "        vertical-align: top;\n",
              "    }\n",
              "\n",
              "    .dataframe thead th {\n",
              "        text-align: right;\n",
              "    }\n",
              "</style>\n",
              "<table border=\"1\" class=\"dataframe\">\n",
              "  <thead>\n",
              "    <tr style=\"text-align: right;\">\n",
              "      <th></th>\n",
              "      <th>customer_zip_code_prefix</th>\n",
              "      <th>customer_city</th>\n",
              "      <th>geolocation_zip_code_prefix</th>\n",
              "      <th>geolocation_lat</th>\n",
              "      <th>geolocation_lng</th>\n",
              "    </tr>\n",
              "  </thead>\n",
              "  <tbody>\n",
              "    <tr>\n",
              "      <th>0</th>\n",
              "      <td>89254</td>\n",
              "      <td>jaragua do sul</td>\n",
              "      <td>89254.0</td>\n",
              "      <td>-26.468503</td>\n",
              "      <td>-49.109883</td>\n",
              "    </tr>\n",
              "    <tr>\n",
              "      <th>1</th>\n",
              "      <td>89254</td>\n",
              "      <td>jaragua do sul</td>\n",
              "      <td>89254.0</td>\n",
              "      <td>-26.481278</td>\n",
              "      <td>-49.116976</td>\n",
              "    </tr>\n",
              "    <tr>\n",
              "      <th>2</th>\n",
              "      <td>89254</td>\n",
              "      <td>jaragua do sul</td>\n",
              "      <td>89254.0</td>\n",
              "      <td>-26.467770</td>\n",
              "      <td>-49.108262</td>\n",
              "    </tr>\n",
              "    <tr>\n",
              "      <th>3</th>\n",
              "      <td>89254</td>\n",
              "      <td>jaragua do sul</td>\n",
              "      <td>89254.0</td>\n",
              "      <td>-26.480828</td>\n",
              "      <td>-49.122365</td>\n",
              "    </tr>\n",
              "    <tr>\n",
              "      <th>4</th>\n",
              "      <td>89254</td>\n",
              "      <td>jaragua do sul</td>\n",
              "      <td>89254.0</td>\n",
              "      <td>-26.473864</td>\n",
              "      <td>-49.101689</td>\n",
              "    </tr>\n",
              "  </tbody>\n",
              "</table>\n",
              "</div>"
            ],
            "text/plain": [
              "   customer_zip_code_prefix   customer_city  geolocation_zip_code_prefix  \\\n",
              "0                     89254  jaragua do sul                      89254.0   \n",
              "1                     89254  jaragua do sul                      89254.0   \n",
              "2                     89254  jaragua do sul                      89254.0   \n",
              "3                     89254  jaragua do sul                      89254.0   \n",
              "4                     89254  jaragua do sul                      89254.0   \n",
              "\n",
              "   geolocation_lat  geolocation_lng  \n",
              "0       -26.468503       -49.109883  \n",
              "1       -26.481278       -49.116976  \n",
              "2       -26.467770       -49.108262  \n",
              "3       -26.480828       -49.122365  \n",
              "4       -26.473864       -49.101689  "
            ]
          },
          "execution_count": 35,
          "metadata": {},
          "output_type": "execute_result"
        }
      ],
      "source": [
        "delivery_location_df.head()"
      ]
    },
    {
      "cell_type": "code",
      "execution_count": 36,
      "metadata": {},
      "outputs": [
        {
          "ename": "DriverError",
          "evalue": "Failed to open dataset (flags=68): data/ne_10m_admin_0_countries_bra.shp",
          "output_type": "error",
          "traceback": [
            "\u001b[1;31m---------------------------------------------------------------------------\u001b[0m",
            "\u001b[1;31mCPLE_OpenFailedError\u001b[0m                      Traceback (most recent call last)",
            "File \u001b[1;32mfiona\\\\ogrext.pyx:130\u001b[0m, in \u001b[0;36mfiona.ogrext.gdal_open_vector\u001b[1;34m()\u001b[0m\n",
            "File \u001b[1;32mfiona\\\\ogrext.pyx:134\u001b[0m, in \u001b[0;36mfiona.ogrext.gdal_open_vector\u001b[1;34m()\u001b[0m\n",
            "File \u001b[1;32mfiona\\\\_err.pyx:375\u001b[0m, in \u001b[0;36mfiona._err.StackChecker.exc_wrap_pointer\u001b[1;34m()\u001b[0m\n",
            "\u001b[1;31mCPLE_OpenFailedError\u001b[0m: Unable to open data/ne_10m_admin_0_countries_bra.shx or data/ne_10m_admin_0_countries_bra.SHX. Set SHAPE_RESTORE_SHX config option to YES to restore or create it.",
            "\nThe above exception was the direct cause of the following exception:\n",
            "\u001b[1;31mDriverError\u001b[0m                               Traceback (most recent call last)",
            "Cell \u001b[1;32mIn[36], line 1\u001b[0m\n\u001b[1;32m----> 1\u001b[0m shape\u001b[38;5;241m=\u001b[39m\u001b[43mgpd\u001b[49m\u001b[38;5;241;43m.\u001b[39;49m\u001b[43mread_file\u001b[49m\u001b[43m(\u001b[49m\u001b[38;5;124;43m'\u001b[39;49m\u001b[38;5;124;43mdata/ne_10m_admin_0_countries_bra.shp\u001b[39;49m\u001b[38;5;124;43m'\u001b[39;49m\u001b[43m)\u001b[49m\n\u001b[0;32m      2\u001b[0m shape\u001b[38;5;241m.\u001b[39mplot()\n",
            "File \u001b[1;32mc:\\Users\\rizki\\anaconda3\\Lib\\site-packages\\geopandas\\io\\file.py:289\u001b[0m, in \u001b[0;36m_read_file\u001b[1;34m(filename, bbox, mask, rows, engine, **kwargs)\u001b[0m\n\u001b[0;32m    286\u001b[0m     \u001b[38;5;28;01melse\u001b[39;00m:\n\u001b[0;32m    287\u001b[0m         path_or_bytes \u001b[38;5;241m=\u001b[39m filename\n\u001b[1;32m--> 289\u001b[0m     \u001b[38;5;28;01mreturn\u001b[39;00m \u001b[43m_read_file_fiona\u001b[49m\u001b[43m(\u001b[49m\n\u001b[0;32m    290\u001b[0m \u001b[43m        \u001b[49m\u001b[43mpath_or_bytes\u001b[49m\u001b[43m,\u001b[49m\u001b[43m \u001b[49m\u001b[43mfrom_bytes\u001b[49m\u001b[43m,\u001b[49m\u001b[43m \u001b[49m\u001b[43mbbox\u001b[49m\u001b[38;5;241;43m=\u001b[39;49m\u001b[43mbbox\u001b[49m\u001b[43m,\u001b[49m\u001b[43m \u001b[49m\u001b[43mmask\u001b[49m\u001b[38;5;241;43m=\u001b[39;49m\u001b[43mmask\u001b[49m\u001b[43m,\u001b[49m\u001b[43m \u001b[49m\u001b[43mrows\u001b[49m\u001b[38;5;241;43m=\u001b[39;49m\u001b[43mrows\u001b[49m\u001b[43m,\u001b[49m\u001b[43m \u001b[49m\u001b[38;5;241;43m*\u001b[39;49m\u001b[38;5;241;43m*\u001b[39;49m\u001b[43mkwargs\u001b[49m\n\u001b[0;32m    291\u001b[0m \u001b[43m    \u001b[49m\u001b[43m)\u001b[49m\n\u001b[0;32m    293\u001b[0m \u001b[38;5;28;01melse\u001b[39;00m:\n\u001b[0;32m    294\u001b[0m     \u001b[38;5;28;01mraise\u001b[39;00m \u001b[38;5;167;01mValueError\u001b[39;00m(\u001b[38;5;124mf\u001b[39m\u001b[38;5;124m\"\u001b[39m\u001b[38;5;124munknown engine \u001b[39m\u001b[38;5;124m'\u001b[39m\u001b[38;5;132;01m{\u001b[39;00mengine\u001b[38;5;132;01m}\u001b[39;00m\u001b[38;5;124m'\u001b[39m\u001b[38;5;124m\"\u001b[39m)\n",
            "File \u001b[1;32mc:\\Users\\rizki\\anaconda3\\Lib\\site-packages\\geopandas\\io\\file.py:315\u001b[0m, in \u001b[0;36m_read_file_fiona\u001b[1;34m(path_or_bytes, from_bytes, bbox, mask, rows, where, **kwargs)\u001b[0m\n\u001b[0;32m    312\u001b[0m     reader \u001b[38;5;241m=\u001b[39m fiona\u001b[38;5;241m.\u001b[39mopen\n\u001b[0;32m    314\u001b[0m \u001b[38;5;28;01mwith\u001b[39;00m fiona_env():\n\u001b[1;32m--> 315\u001b[0m     \u001b[38;5;28;01mwith\u001b[39;00m \u001b[43mreader\u001b[49m\u001b[43m(\u001b[49m\u001b[43mpath_or_bytes\u001b[49m\u001b[43m,\u001b[49m\u001b[43m \u001b[49m\u001b[38;5;241;43m*\u001b[39;49m\u001b[38;5;241;43m*\u001b[39;49m\u001b[43mkwargs\u001b[49m\u001b[43m)\u001b[49m \u001b[38;5;28;01mas\u001b[39;00m features:\n\u001b[0;32m    316\u001b[0m         crs \u001b[38;5;241m=\u001b[39m features\u001b[38;5;241m.\u001b[39mcrs_wkt\n\u001b[0;32m    317\u001b[0m         \u001b[38;5;66;03m# attempt to get EPSG code\u001b[39;00m\n",
            "File \u001b[1;32mc:\\Users\\rizki\\anaconda3\\Lib\\site-packages\\fiona\\env.py:457\u001b[0m, in \u001b[0;36mensure_env_with_credentials.<locals>.wrapper\u001b[1;34m(*args, **kwds)\u001b[0m\n\u001b[0;32m    454\u001b[0m     session \u001b[38;5;241m=\u001b[39m DummySession()\n\u001b[0;32m    456\u001b[0m \u001b[38;5;28;01mwith\u001b[39;00m env_ctor(session\u001b[38;5;241m=\u001b[39msession):\n\u001b[1;32m--> 457\u001b[0m     \u001b[38;5;28;01mreturn\u001b[39;00m \u001b[43mf\u001b[49m\u001b[43m(\u001b[49m\u001b[38;5;241;43m*\u001b[39;49m\u001b[43margs\u001b[49m\u001b[43m,\u001b[49m\u001b[43m \u001b[49m\u001b[38;5;241;43m*\u001b[39;49m\u001b[38;5;241;43m*\u001b[39;49m\u001b[43mkwds\u001b[49m\u001b[43m)\u001b[49m\n",
            "File \u001b[1;32mc:\\Users\\rizki\\anaconda3\\Lib\\site-packages\\fiona\\__init__.py:342\u001b[0m, in \u001b[0;36mopen\u001b[1;34m(fp, mode, driver, schema, crs, encoding, layer, vfs, enabled_drivers, crs_wkt, ignore_fields, ignore_geometry, include_fields, wkt_version, allow_unsupported_drivers, opener, **kwargs)\u001b[0m\n\u001b[0;32m    339\u001b[0m         path \u001b[38;5;241m=\u001b[39m _parse_path(fp)\n\u001b[0;32m    341\u001b[0m \u001b[38;5;28;01mif\u001b[39;00m mode \u001b[38;5;129;01min\u001b[39;00m (\u001b[38;5;124m\"\u001b[39m\u001b[38;5;124ma\u001b[39m\u001b[38;5;124m\"\u001b[39m, \u001b[38;5;124m\"\u001b[39m\u001b[38;5;124mr\u001b[39m\u001b[38;5;124m\"\u001b[39m):\n\u001b[1;32m--> 342\u001b[0m     colxn \u001b[38;5;241m=\u001b[39m \u001b[43mCollection\u001b[49m\u001b[43m(\u001b[49m\n\u001b[0;32m    343\u001b[0m \u001b[43m        \u001b[49m\u001b[43mpath\u001b[49m\u001b[43m,\u001b[49m\n\u001b[0;32m    344\u001b[0m \u001b[43m        \u001b[49m\u001b[43mmode\u001b[49m\u001b[43m,\u001b[49m\n\u001b[0;32m    345\u001b[0m \u001b[43m        \u001b[49m\u001b[43mdriver\u001b[49m\u001b[38;5;241;43m=\u001b[39;49m\u001b[43mdriver\u001b[49m\u001b[43m,\u001b[49m\n\u001b[0;32m    346\u001b[0m \u001b[43m        \u001b[49m\u001b[43mencoding\u001b[49m\u001b[38;5;241;43m=\u001b[39;49m\u001b[43mencoding\u001b[49m\u001b[43m,\u001b[49m\n\u001b[0;32m    347\u001b[0m \u001b[43m        \u001b[49m\u001b[43mlayer\u001b[49m\u001b[38;5;241;43m=\u001b[39;49m\u001b[43mlayer\u001b[49m\u001b[43m,\u001b[49m\n\u001b[0;32m    348\u001b[0m \u001b[43m        \u001b[49m\u001b[43mignore_fields\u001b[49m\u001b[38;5;241;43m=\u001b[39;49m\u001b[43mignore_fields\u001b[49m\u001b[43m,\u001b[49m\n\u001b[0;32m    349\u001b[0m \u001b[43m        \u001b[49m\u001b[43minclude_fields\u001b[49m\u001b[38;5;241;43m=\u001b[39;49m\u001b[43minclude_fields\u001b[49m\u001b[43m,\u001b[49m\n\u001b[0;32m    350\u001b[0m \u001b[43m        \u001b[49m\u001b[43mignore_geometry\u001b[49m\u001b[38;5;241;43m=\u001b[39;49m\u001b[43mignore_geometry\u001b[49m\u001b[43m,\u001b[49m\n\u001b[0;32m    351\u001b[0m \u001b[43m        \u001b[49m\u001b[43mwkt_version\u001b[49m\u001b[38;5;241;43m=\u001b[39;49m\u001b[43mwkt_version\u001b[49m\u001b[43m,\u001b[49m\n\u001b[0;32m    352\u001b[0m \u001b[43m        \u001b[49m\u001b[43menabled_drivers\u001b[49m\u001b[38;5;241;43m=\u001b[39;49m\u001b[43menabled_drivers\u001b[49m\u001b[43m,\u001b[49m\n\u001b[0;32m    353\u001b[0m \u001b[43m        \u001b[49m\u001b[43mallow_unsupported_drivers\u001b[49m\u001b[38;5;241;43m=\u001b[39;49m\u001b[43mallow_unsupported_drivers\u001b[49m\u001b[43m,\u001b[49m\n\u001b[0;32m    354\u001b[0m \u001b[43m        \u001b[49m\u001b[38;5;241;43m*\u001b[39;49m\u001b[38;5;241;43m*\u001b[39;49m\u001b[43mkwargs\u001b[49m\n\u001b[0;32m    355\u001b[0m \u001b[43m    \u001b[49m\u001b[43m)\u001b[49m\n\u001b[0;32m    356\u001b[0m \u001b[38;5;28;01melif\u001b[39;00m mode \u001b[38;5;241m==\u001b[39m \u001b[38;5;124m\"\u001b[39m\u001b[38;5;124mw\u001b[39m\u001b[38;5;124m\"\u001b[39m:\n\u001b[0;32m    357\u001b[0m     colxn \u001b[38;5;241m=\u001b[39m Collection(\n\u001b[0;32m    358\u001b[0m         path,\n\u001b[0;32m    359\u001b[0m         mode,\n\u001b[1;32m   (...)\u001b[0m\n\u001b[0;32m    372\u001b[0m         \u001b[38;5;241m*\u001b[39m\u001b[38;5;241m*\u001b[39mkwargs\n\u001b[0;32m    373\u001b[0m     )\n",
            "File \u001b[1;32mc:\\Users\\rizki\\anaconda3\\Lib\\site-packages\\fiona\\collection.py:226\u001b[0m, in \u001b[0;36mCollection.__init__\u001b[1;34m(self, path, mode, driver, schema, crs, encoding, layer, vsi, archive, enabled_drivers, crs_wkt, ignore_fields, ignore_geometry, include_fields, wkt_version, allow_unsupported_drivers, **kwargs)\u001b[0m\n\u001b[0;32m    224\u001b[0m \u001b[38;5;28;01mif\u001b[39;00m \u001b[38;5;28mself\u001b[39m\u001b[38;5;241m.\u001b[39mmode \u001b[38;5;241m==\u001b[39m \u001b[38;5;124m\"\u001b[39m\u001b[38;5;124mr\u001b[39m\u001b[38;5;124m\"\u001b[39m:\n\u001b[0;32m    225\u001b[0m     \u001b[38;5;28mself\u001b[39m\u001b[38;5;241m.\u001b[39msession \u001b[38;5;241m=\u001b[39m Session()\n\u001b[1;32m--> 226\u001b[0m     \u001b[38;5;28;43mself\u001b[39;49m\u001b[38;5;241;43m.\u001b[39;49m\u001b[43msession\u001b[49m\u001b[38;5;241;43m.\u001b[39;49m\u001b[43mstart\u001b[49m\u001b[43m(\u001b[49m\u001b[38;5;28;43mself\u001b[39;49m\u001b[43m,\u001b[49m\u001b[43m \u001b[49m\u001b[38;5;241;43m*\u001b[39;49m\u001b[38;5;241;43m*\u001b[39;49m\u001b[43mkwargs\u001b[49m\u001b[43m)\u001b[49m\n\u001b[0;32m    227\u001b[0m \u001b[38;5;28;01melif\u001b[39;00m \u001b[38;5;28mself\u001b[39m\u001b[38;5;241m.\u001b[39mmode \u001b[38;5;129;01min\u001b[39;00m (\u001b[38;5;124m\"\u001b[39m\u001b[38;5;124ma\u001b[39m\u001b[38;5;124m\"\u001b[39m, \u001b[38;5;124m\"\u001b[39m\u001b[38;5;124mw\u001b[39m\u001b[38;5;124m\"\u001b[39m):\n\u001b[0;32m    228\u001b[0m     \u001b[38;5;28mself\u001b[39m\u001b[38;5;241m.\u001b[39msession \u001b[38;5;241m=\u001b[39m WritingSession()\n",
            "File \u001b[1;32mfiona\\\\ogrext.pyx:876\u001b[0m, in \u001b[0;36mfiona.ogrext.Session.start\u001b[1;34m()\u001b[0m\n",
            "File \u001b[1;32mfiona\\\\ogrext.pyx:136\u001b[0m, in \u001b[0;36mfiona.ogrext.gdal_open_vector\u001b[1;34m()\u001b[0m\n",
            "\u001b[1;31mDriverError\u001b[0m: Failed to open dataset (flags=68): data/ne_10m_admin_0_countries_bra.shp"
          ]
        }
      ],
      "source": [
        "shape=gpd.read_file('data/ne_10m_admin_0_countries_bra.shp')\n",
        "shape.plot()"
      ]
    },
    {
      "cell_type": "code",
      "execution_count": null,
      "metadata": {},
      "outputs": [],
      "source": [
        "geometry = [Point(xy) for xy in zip(delivery_location_df['geolocation_lng'], delivery_location_df['geolocation_lat'])]\n",
        "geo_df = gpd.GeoDataFrame(delivery_location_df, geometry=geometry, crs=\"EPSG:4326\")"
      ]
    },
    {
      "cell_type": "code",
      "execution_count": null,
      "metadata": {},
      "outputs": [
        {
          "data": {
            "image/png": "[encoded data removed]",
            "text/plain": [
              "<Figure size 1000x600 with 1 Axes>"
            ]
          },
          "metadata": {},
          "output_type": "display_data"
        }
      ],
      "source": [
        "fig, ax = plt.subplots(figsize=(10, 6))\n",
        "shape.plot(ax=ax, color='lightgrey', edgecolor='black')\n",
        "geo_df.plot(ax=ax, markersize=50, color='red', marker='o', label='Locations')\n",
        "\n",
        "ax.set_xlim(-74, -34)\n",
        "ax.set_ylim(-35, 5)  \n",
        "\n",
        "plt.show()"
      ]
    },
    {
      "cell_type": "markdown",
      "metadata": {
        "id": "_WeHlCeX8DC2"
      },
      "source": [
        "## Conclusion"
      ]
    },
    {
      "cell_type": "markdown",
      "metadata": {
        "id": "ZTcyR48Y8DC2"
      },
      "source": [
        "\n",
        "- Pada 6 bulan terakhir pada tahun 2017 pelanggan tertinggi : sao paulo dengan 4005 pelanggan, rio de Janeiro dengan 2081 pelanggan, brasillia dengan 591 pelanggan, dan Porto alegre dengan 452 pelanggan.\n",
        "\n",
        "- Di waktu yang sama 5 Kota dengan pengiriman terlambat adalah : dindina, tombos, vigia, caturuma, baguari. Dan 5 kota dengan pengiriman tercepat adalah: anta, tupancireta, alexania, dionisio, dan pirapora do bom jesus.\n",
        "\n",
        "- Dari distribusi geografi pada brasil dapat dilihat kebanyakn pelanggan berasal dari bagian timur hingga selatan brasil"
      ]
    }
  ],
  "metadata": {
    "colab": {
      "provenance": []
    },
    "kernelspec": {
      "display_name": "base",
      "language": "python",
      "name": "python3"
    },
    "language_info": {
      "codemirror_mode": {
        "name": "ipython",
        "version": 3
      },
      "file_extension": ".py",
      "mimetype": "text/x-python",
      "name": "python",
      "nbconvert_exporter": "python",
      "pygments_lexer": "ipython3",
      "version": "3.11.7"
    },
    "orig_nbformat": 4
  },
  "nbformat": 4,
  "nbformat_minor": 0
}
